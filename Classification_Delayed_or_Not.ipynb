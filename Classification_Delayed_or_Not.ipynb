{
 "cells": [
  {
   "cell_type": "markdown",
   "metadata": {},
   "source": [
    "# Classification Module\n",
    "Within this module we will predict if the flight is going to be delayed or not and classify them into those two categories\n",
    "\n",
    "We will first work with unsampled data from the previous module [Data-Preprocessing, merging the flight data and weather data](https://github.com/GV-9wj/Flight_Delay_Prediction/blob/master/Datapreprocessing3_Merging_Data.ipynb).\n",
    "\n",
    "After we have seen the classification reports for these modules we will move onto sampled data. We will work with Undersampling and oversampling(SMOTE).\n",
    "\n",
    "#### Objectives:\n",
    "1. To classify the given flight as delayed or not using classification models.\n",
    "2. Run the classification models on unsampled data and print the report for each model.\n",
    "3. Run the classification models on undersampled data and print the report for each model.\n",
    "4. Run the classification models on oversampled data and print the report for each model.\n",
    "\n",
    "#### Classification models used:\n",
    "1. Logistic regression : [LOOKUP](https://scikit-learn.org/stable/modules/generated/sklearn.linear_model.LogisticRegression.html)\n",
    "2. Random Forest : [LOOKUP](https://scikit-learn.org/stable/modules/generated/sklearn.ensemble.RandomForestClassifier.html)\n",
    "3. Extra trees : [LOOKUP](https://scikit-learn.org/stable/modules/generated/sklearn.ensemble.ExtraTreesClassifier.html)\n",
    "4. Decision Trees : [LOOKUP](https://scikit-learn.org/stable/modules/tree.html)\n",
    "5. Gradient Boosting Classifier : [LOOKUP](https://scikit-learn.org/stable/modules/generated/sklearn.ensemble.GradientBoostingClassifier.html)\n",
    "6. Bagging : [LOOKUP](https://scikit-learn.org/stable/modules/generated/sklearn.ensemble.BaggingClassifier.html#:~:text=A%20Bagging%20classifier.,to%20form%20a%20final%20prediction.)"
   ]
  },
  {
   "cell_type": "code",
   "execution_count": 1,
   "metadata": {},
   "outputs": [],
   "source": [
    "# First let us import all the different libraries that we need\n",
    "import pandas as pd\n",
    "import numpy as np\n",
    "import matplotlib.pyplot as plt\n",
    "import seaborn as sns"
   ]
  },
  {
   "cell_type": "markdown",
   "metadata": {},
   "source": [
    "#### Looking at the dataframe\n",
    "Let us look at the dataframe for a little bit of insight into the data"
   ]
  },
  {
   "cell_type": "code",
   "execution_count": 2,
   "metadata": {},
   "outputs": [
    {
     "name": "stderr",
     "output_type": "stream",
     "text": [
      "C:\\Users\\HP\\anaconda3\\lib\\site-packages\\numpy\\lib\\arraysetops.py:569: FutureWarning: elementwise comparison failed; returning scalar instead, but in the future will perform elementwise comparison\n",
      "  mask |= (ar1 == a)\n"
     ]
    },
    {
     "data": {
      "text/html": [
       "<div>\n",
       "<style scoped>\n",
       "    .dataframe tbody tr th:only-of-type {\n",
       "        vertical-align: middle;\n",
       "    }\n",
       "\n",
       "    .dataframe tbody tr th {\n",
       "        vertical-align: top;\n",
       "    }\n",
       "\n",
       "    .dataframe thead th {\n",
       "        text-align: right;\n",
       "    }\n",
       "</style>\n",
       "<table border=\"1\" class=\"dataframe\">\n",
       "  <thead>\n",
       "    <tr style=\"text-align: right;\">\n",
       "      <th></th>\n",
       "      <th>ArrDel15</th>\n",
       "      <th>ArrDelayMinutes</th>\n",
       "      <th>CRSDepTime</th>\n",
       "      <th>DestAirportID</th>\n",
       "      <th>OriginAirportID</th>\n",
       "      <th>DeptTime</th>\n",
       "      <th>windspeedKmph</th>\n",
       "      <th>winddirDegree</th>\n",
       "      <th>weatherCode</th>\n",
       "      <th>precipMM</th>\n",
       "      <th>visibility</th>\n",
       "      <th>pressure</th>\n",
       "      <th>cloudcover</th>\n",
       "      <th>DewPointF</th>\n",
       "      <th>WindGustKmph</th>\n",
       "      <th>tempF</th>\n",
       "      <th>WindChillF</th>\n",
       "      <th>humidity</th>\n",
       "      <th>time</th>\n",
       "    </tr>\n",
       "  </thead>\n",
       "  <tbody>\n",
       "    <tr>\n",
       "      <th>0</th>\n",
       "      <td>0.0</td>\n",
       "      <td>8.0</td>\n",
       "      <td>745</td>\n",
       "      <td>12478</td>\n",
       "      <td>14747</td>\n",
       "      <td>800</td>\n",
       "      <td>7</td>\n",
       "      <td>108</td>\n",
       "      <td>113</td>\n",
       "      <td>0.0</td>\n",
       "      <td>10</td>\n",
       "      <td>1030</td>\n",
       "      <td>0</td>\n",
       "      <td>23</td>\n",
       "      <td>8</td>\n",
       "      <td>34</td>\n",
       "      <td>29</td>\n",
       "      <td>65</td>\n",
       "      <td>800</td>\n",
       "    </tr>\n",
       "    <tr>\n",
       "      <th>1</th>\n",
       "      <td>1.0</td>\n",
       "      <td>33.0</td>\n",
       "      <td>820</td>\n",
       "      <td>14107</td>\n",
       "      <td>14747</td>\n",
       "      <td>800</td>\n",
       "      <td>7</td>\n",
       "      <td>108</td>\n",
       "      <td>113</td>\n",
       "      <td>0.0</td>\n",
       "      <td>10</td>\n",
       "      <td>1030</td>\n",
       "      <td>0</td>\n",
       "      <td>23</td>\n",
       "      <td>8</td>\n",
       "      <td>34</td>\n",
       "      <td>29</td>\n",
       "      <td>65</td>\n",
       "      <td>800</td>\n",
       "    </tr>\n",
       "    <tr>\n",
       "      <th>2</th>\n",
       "      <td>0.0</td>\n",
       "      <td>0.0</td>\n",
       "      <td>759</td>\n",
       "      <td>11292</td>\n",
       "      <td>14747</td>\n",
       "      <td>800</td>\n",
       "      <td>7</td>\n",
       "      <td>108</td>\n",
       "      <td>113</td>\n",
       "      <td>0.0</td>\n",
       "      <td>10</td>\n",
       "      <td>1030</td>\n",
       "      <td>0</td>\n",
       "      <td>23</td>\n",
       "      <td>8</td>\n",
       "      <td>34</td>\n",
       "      <td>29</td>\n",
       "      <td>65</td>\n",
       "      <td>800</td>\n",
       "    </tr>\n",
       "    <tr>\n",
       "      <th>3</th>\n",
       "      <td>0.0</td>\n",
       "      <td>10.0</td>\n",
       "      <td>738</td>\n",
       "      <td>12266</td>\n",
       "      <td>14747</td>\n",
       "      <td>800</td>\n",
       "      <td>7</td>\n",
       "      <td>108</td>\n",
       "      <td>113</td>\n",
       "      <td>0.0</td>\n",
       "      <td>10</td>\n",
       "      <td>1030</td>\n",
       "      <td>0</td>\n",
       "      <td>23</td>\n",
       "      <td>8</td>\n",
       "      <td>34</td>\n",
       "      <td>29</td>\n",
       "      <td>65</td>\n",
       "      <td>800</td>\n",
       "    </tr>\n",
       "    <tr>\n",
       "      <th>4</th>\n",
       "      <td>0.0</td>\n",
       "      <td>0.0</td>\n",
       "      <td>745</td>\n",
       "      <td>10397</td>\n",
       "      <td>14747</td>\n",
       "      <td>800</td>\n",
       "      <td>7</td>\n",
       "      <td>108</td>\n",
       "      <td>113</td>\n",
       "      <td>0.0</td>\n",
       "      <td>10</td>\n",
       "      <td>1030</td>\n",
       "      <td>0</td>\n",
       "      <td>23</td>\n",
       "      <td>8</td>\n",
       "      <td>34</td>\n",
       "      <td>29</td>\n",
       "      <td>65</td>\n",
       "      <td>800</td>\n",
       "    </tr>\n",
       "  </tbody>\n",
       "</table>\n",
       "</div>"
      ],
      "text/plain": [
       "   ArrDel15  ArrDelayMinutes  CRSDepTime  DestAirportID  OriginAirportID  \\\n",
       "0       0.0              8.0         745          12478            14747   \n",
       "1       1.0             33.0         820          14107            14747   \n",
       "2       0.0              0.0         759          11292            14747   \n",
       "3       0.0             10.0         738          12266            14747   \n",
       "4       0.0              0.0         745          10397            14747   \n",
       "\n",
       "   DeptTime  windspeedKmph  winddirDegree  weatherCode  precipMM  visibility  \\\n",
       "0       800              7            108          113       0.0          10   \n",
       "1       800              7            108          113       0.0          10   \n",
       "2       800              7            108          113       0.0          10   \n",
       "3       800              7            108          113       0.0          10   \n",
       "4       800              7            108          113       0.0          10   \n",
       "\n",
       "   pressure  cloudcover  DewPointF  WindGustKmph  tempF  WindChillF  humidity  \\\n",
       "0      1030           0         23             8     34          29        65   \n",
       "1      1030           0         23             8     34          29        65   \n",
       "2      1030           0         23             8     34          29        65   \n",
       "3      1030           0         23             8     34          29        65   \n",
       "4      1030           0         23             8     34          29        65   \n",
       "\n",
       "   time  \n",
       "0   800  \n",
       "1   800  \n",
       "2   800  \n",
       "3   800  \n",
       "4   800  "
      ]
     },
     "execution_count": 2,
     "metadata": {},
     "output_type": "execute_result"
    }
   ],
   "source": [
    "# Readinbg the file \n",
    "df = pd.read_csv(\"Data/Merged_Flight_Weather.csv\", index_col = 0)\n",
    "df = df.drop(columns=['Unnamed: 0.1', 'date', 'Quarter', 'Year', 'Month', 'DayofMonth','DepDel15', 'DepTime', \n",
    "                      'Origin', 'ArrTime', 'FlightDate', 'airport', 'DepDelayMinutes', 'CRSArrTime'])\n",
    "df.head()"
   ]
  },
  {
   "cell_type": "code",
   "execution_count": 3,
   "metadata": {},
   "outputs": [
    {
     "data": {
      "text/plain": [
       "Index(['ArrDel15', 'ArrDelayMinutes', 'CRSDepTime', 'DestAirportID',\n",
       "       'OriginAirportID', 'DeptTime', 'windspeedKmph', 'winddirDegree',\n",
       "       'weatherCode', 'precipMM', 'visibility', 'pressure', 'cloudcover',\n",
       "       'DewPointF', 'WindGustKmph', 'tempF', 'WindChillF', 'humidity', 'time'],\n",
       "      dtype='object')"
      ]
     },
     "execution_count": 3,
     "metadata": {},
     "output_type": "execute_result"
    }
   ],
   "source": [
    "# We look at the colums first then the shape\n",
    "df.columns"
   ]
  },
  {
   "cell_type": "code",
   "execution_count": 4,
   "metadata": {},
   "outputs": [
    {
     "data": {
      "text/plain": [
       "(1873584, 19)"
      ]
     },
     "execution_count": 4,
     "metadata": {},
     "output_type": "execute_result"
    }
   ],
   "source": [
    "# Now the shape of the dataframe\n",
    "df.shape"
   ]
  },
  {
   "cell_type": "code",
   "execution_count": 5,
   "metadata": {
    "scrolled": false
   },
   "outputs": [
    {
     "data": {
      "text/plain": [
       "ArrDel15           0\n",
       "ArrDelayMinutes    0\n",
       "CRSDepTime         0\n",
       "DestAirportID      0\n",
       "OriginAirportID    0\n",
       "DeptTime           0\n",
       "windspeedKmph      0\n",
       "winddirDegree      0\n",
       "weatherCode        0\n",
       "precipMM           0\n",
       "visibility         0\n",
       "pressure           0\n",
       "cloudcover         0\n",
       "DewPointF          0\n",
       "WindGustKmph       0\n",
       "tempF              0\n",
       "WindChillF         0\n",
       "humidity           0\n",
       "time               0\n",
       "dtype: int64"
      ]
     },
     "execution_count": 5,
     "metadata": {},
     "output_type": "execute_result"
    }
   ],
   "source": [
    "# Check for missing valuiesa\n",
    "df.isna().sum()"
   ]
  },
  {
   "cell_type": "code",
   "execution_count": 6,
   "metadata": {},
   "outputs": [
    {
     "data": {
      "text/plain": [
       "ArrDel15           float64\n",
       "ArrDelayMinutes    float64\n",
       "CRSDepTime           int64\n",
       "DestAirportID        int64\n",
       "OriginAirportID      int64\n",
       "DeptTime             int64\n",
       "windspeedKmph        int64\n",
       "winddirDegree        int64\n",
       "weatherCode          int64\n",
       "precipMM           float64\n",
       "visibility           int64\n",
       "pressure             int64\n",
       "cloudcover           int64\n",
       "DewPointF            int64\n",
       "WindGustKmph         int64\n",
       "tempF                int64\n",
       "WindChillF           int64\n",
       "humidity             int64\n",
       "time                 int64\n",
       "dtype: object"
      ]
     },
     "execution_count": 6,
     "metadata": {},
     "output_type": "execute_result"
    }
   ],
   "source": [
    "# Looking at the data types of all features\n",
    "df.dtypes"
   ]
  },
  {
   "cell_type": "code",
   "execution_count": 7,
   "metadata": {},
   "outputs": [],
   "source": [
    "df[\"OriginAirportID\"] = df[\"OriginAirportID\"].astype('category')\n",
    "df[\"DestAirportID\"] = df[\"DestAirportID\"].astype('category')"
   ]
  },
  {
   "cell_type": "code",
   "execution_count": 8,
   "metadata": {},
   "outputs": [
    {
     "data": {
      "text/plain": [
       "ArrDel15            float64\n",
       "ArrDelayMinutes     float64\n",
       "CRSDepTime            int64\n",
       "DestAirportID      category\n",
       "OriginAirportID    category\n",
       "DeptTime              int64\n",
       "windspeedKmph         int64\n",
       "winddirDegree         int64\n",
       "weatherCode           int64\n",
       "precipMM            float64\n",
       "visibility            int64\n",
       "pressure              int64\n",
       "cloudcover            int64\n",
       "DewPointF             int64\n",
       "WindGustKmph          int64\n",
       "tempF                 int64\n",
       "WindChillF            int64\n",
       "humidity              int64\n",
       "time                  int64\n",
       "dtype: object"
      ]
     },
     "execution_count": 8,
     "metadata": {},
     "output_type": "execute_result"
    }
   ],
   "source": [
    "df.dtypes"
   ]
  },
  {
   "cell_type": "code",
   "execution_count": 9,
   "metadata": {},
   "outputs": [
    {
     "data": {
      "text/plain": [
       "8     212460\n",
       "14    170780\n",
       "11    153564\n",
       "0     150084\n",
       "2     144224\n",
       "7     134172\n",
       "3     127654\n",
       "12    117254\n",
       "13    115376\n",
       "9      99086\n",
       "4      98786\n",
       "6      94366\n",
       "5      91738\n",
       "1      85898\n",
       "10     78142\n",
       "Name: OriginAirportID, dtype: int64"
      ]
     },
     "execution_count": 9,
     "metadata": {},
     "output_type": "execute_result"
    }
   ],
   "source": [
    "df[\"OriginAirportID\"] = df[\"OriginAirportID\"].cat.codes\n",
    "df[\"OriginAirportID\"].value_counts()"
   ]
  },
  {
   "cell_type": "code",
   "execution_count": 10,
   "metadata": {},
   "outputs": [
    {
     "data": {
      "text/plain": [
       "8     213468\n",
       "14    170394\n",
       "11    153472\n",
       "0     151050\n",
       "2     142188\n",
       "7     134364\n",
       "3     127260\n",
       "12    116946\n",
       "13    115564\n",
       "4      99324\n",
       "9      99196\n",
       "6      94350\n",
       "5      91960\n",
       "1      85828\n",
       "10     78220\n",
       "Name: DestAirportID, dtype: int64"
      ]
     },
     "execution_count": 10,
     "metadata": {},
     "output_type": "execute_result"
    }
   ],
   "source": [
    "df[\"DestAirportID\"] = df[\"DestAirportID\"].cat.codes\n",
    "df[\"DestAirportID\"].value_counts()"
   ]
  },
  {
   "cell_type": "markdown",
   "metadata": {},
   "source": [
    "##### Feature exploration\n",
    "Since there are no missing values we can continue further and look at the corellation between various features of the dataframe"
   ]
  },
  {
   "cell_type": "code",
   "execution_count": 11,
   "metadata": {},
   "outputs": [
    {
     "data": {
      "image/png": "[encoded data removed]",
      "text/plain": [
       "<Figure size 1800x1800 with 2 Axes>"
      ]
     },
     "metadata": {
      "needs_background": "light"
     },
     "output_type": "display_data"
    }
   ],
   "source": [
    "plt.figure(figsize=(25,25))\n",
    "cor = df.corr()\n",
    "sns.heatmap(cor, annot=True, cmap='Blues')\n",
    "plt.show()"
   ]
  },
  {
   "cell_type": "markdown",
   "metadata": {},
   "source": [
    " "
   ]
  },
  {
   "cell_type": "markdown",
   "metadata": {},
   "source": [
    " "
   ]
  },
  {
   "cell_type": "markdown",
   "metadata": {},
   "source": [
    "  "
   ]
  },
  {
   "cell_type": "markdown",
   "metadata": {},
   "source": [
    " "
   ]
  },
  {
   "cell_type": "markdown",
   "metadata": {},
   "source": [
    " "
   ]
  },
  {
   "cell_type": "markdown",
   "metadata": {},
   "source": [
    "# Un-Sampled Data\n",
    "We will work the above classifier models using unsampled data, i.e data that has not be altered and predict if the flight is on time or delayed"
   ]
  },
  {
   "cell_type": "markdown",
   "metadata": {},
   "source": [
    "In this dataframe the variable we need to predict is '`ArrDel15` and therefore we need to divide it into two variables:\n",
    "* `X` - the input variable which helps us predict, which is all features except for `Arrdel15` and `ArrDelayMinutes`\n",
    "* `y` - the output variable or the predictor variable, which is basically the column `ArrDel15`\n",
    "\n",
    "We must then split them into train and test datasets using an inbuilt function from scikit learn called train_test_split : [LOOKUP](https://scikit-learn.org/stable/modules/generated/sklearn.model_selection.train_test_split.html)"
   ]
  },
  {
   "cell_type": "code",
   "execution_count": 12,
   "metadata": {},
   "outputs": [],
   "source": [
    "y = df['ArrDel15']\n",
    "X = df.drop(columns=['ArrDel15', 'ArrDelayMinutes'])\n",
    "# Spplitting the datasets\n",
    "from sklearn.model_selection import train_test_split\n",
    "X_train, X_test, y_train, y_test = train_test_split(X, y, train_size=0.75)"
   ]
  },
  {
   "cell_type": "markdown",
   "metadata": {},
   "source": [
    "## Accuracy measurement\n",
    "There are also a few metrics that we use for checking the accuracy of our model. Some of them are\n",
    "1. model.score() - which evaluvates the score of our model based on our feature variables and predictor variables\n",
    "2. A classification report that gives us the precision and the recall and also the F1 score, where:\n",
    "    1. Precision is the fraction of how many of the items that are selected are relevant.\n",
    "    2. Recall is the fraction of how many relevant items are selected.\n",
    "3. A confusion matrix which gives us a matrix of the true negatives($C_{0, 0}$), false negatives($C_{1, 0}$), true positives($C_{0, 1}$) false positives($C_{1, 1}$)"
   ]
  },
  {
   "cell_type": "code",
   "execution_count": 13,
   "metadata": {},
   "outputs": [],
   "source": [
    "import sklearn.metrics"
   ]
  },
  {
   "cell_type": "markdown",
   "metadata": {},
   "source": [
    "### METHOD\n",
    "Nearly all our classifiers follow the following method which is\n",
    "1. Call the classifier\n",
    "2. Fit it with out train data\n",
    "3. Run the accuracy metrics for our model"
   ]
  },
  {
   "cell_type": "markdown",
   "metadata": {},
   "source": [
    "## Logistic Regression\n",
    "Logistic regression is a statistical model that in its basic form uses a logistic function to model a binary dependent variable, although many more complex extensions exist. In regression analysis, logistic regression (or logit regression) is estimating the parameters of a logistic model (a form of binary regression)"
   ]
  },
  {
   "cell_type": "code",
   "execution_count": 14,
   "metadata": {},
   "outputs": [],
   "source": [
    "from sklearn.linear_model import LogisticRegression"
   ]
  },
  {
   "cell_type": "code",
   "execution_count": 15,
   "metadata": {},
   "outputs": [],
   "source": [
    "logistic_model = LogisticRegression(max_iter=500000)\n",
    "logistic_classifier = logistic_model.fit(X_train, y_train)"
   ]
  },
  {
   "cell_type": "code",
   "execution_count": 16,
   "metadata": {},
   "outputs": [
    {
     "name": "stdout",
     "output_type": "stream",
     "text": [
      "Logistic regression Train Accuracy : 79.44182557778745 %\n",
      "\n",
      "Logistic regression Test Accuracy : 79.46716026609963 %\n",
      "-------------------------------------------------------------------------------------------------\n",
      "\n",
      "Classification Report : \n",
      "               precision    recall  f1-score   support\n",
      "\n",
      "         0.0       0.80      1.00      0.89    372206\n",
      "         1.0       0.51      0.00      0.01     96190\n",
      "\n",
      "    accuracy                           0.79    468396\n",
      "   macro avg       0.65      0.50      0.45    468396\n",
      "weighted avg       0.74      0.79      0.70    468396\n",
      "\n",
      "-------------------------------------------------------------------------------------------------\n",
      "\n",
      " Confusion Matrix :- \n",
      "[[371921    285]\n",
      " [ 95890    300]]\n"
     ]
    }
   ],
   "source": [
    "y_pred_logistic = logistic_model.predict(X_test)\n",
    "print(\"Logistic regression Train Accuracy : {} %\".format(logistic_classifier.score(X_train, \n",
    "                                                                                   y_train)*100))\n",
    "print(\"\\nLogistic regression Test Accuracy : {} %\".format(sklearn.metrics.accuracy_score(y_test, \n",
    "                                                                                 y_pred_logistic)*100))\n",
    "print(\"-------------------------------------------------------------------------------------------------\")\n",
    "print(\"\\nClassification Report : \\n {}\".format(sklearn.metrics.classification_report(y_test, \n",
    "                                                                                     y_pred_logistic)))\n",
    "print(\"-------------------------------------------------------------------------------------------------\")\n",
    "print(\"\\n Confusion Matrix :- \\n{}\".format(sklearn.metrics.confusion_matrix(y_test, \n",
    "                                                                            y_pred_logistic)))"
   ]
  },
  {
   "cell_type": "markdown",
   "metadata": {},
   "source": [
    "## Random Forest\n",
    "Random forests or random decision forests are an ensemble learning method for classification, regression and other tasks that operate by constructing a multitude of decision trees at training time and outputting the class that is the mode of the classes or mean prediction of the individual trees."
   ]
  },
  {
   "cell_type": "code",
   "execution_count": 17,
   "metadata": {},
   "outputs": [],
   "source": [
    "from sklearn.ensemble import RandomForestClassifier"
   ]
  },
  {
   "cell_type": "code",
   "execution_count": 18,
   "metadata": {},
   "outputs": [],
   "source": [
    "random_forest_model = RandomForestClassifier()\n",
    "random_forest_classifier = random_forest_model.fit(X_train,y_train)"
   ]
  },
  {
   "cell_type": "code",
   "execution_count": 19,
   "metadata": {},
   "outputs": [
    {
     "name": "stdout",
     "output_type": "stream",
     "text": [
      "Random Forest Clasifier Train Accuracy : 99.58325861023579 %\n",
      "\n",
      "Random Forest Clasifier Test Accuracy : 93.90643814208491 %\n",
      "-------------------------------------------------------------------------------------------------\n",
      "\n",
      "Classification Report : \n",
      "               precision    recall  f1-score   support\n",
      "\n",
      "         0.0       0.95      0.97      0.96    372206\n",
      "         1.0       0.88      0.81      0.85     96190\n",
      "\n",
      "    accuracy                           0.94    468396\n",
      "   macro avg       0.92      0.89      0.90    468396\n",
      "weighted avg       0.94      0.94      0.94    468396\n",
      "\n",
      "-------------------------------------------------------------------------------------------------\n",
      "\n",
      " Confusion Matrix :- \n",
      "[[361948  10258]\n",
      " [ 18284  77906]]\n"
     ]
    }
   ],
   "source": [
    "y_pred_randomforest = random_forest_model.predict(X_test)\n",
    "print(\"Random Forest Clasifier Train Accuracy : {} %\".format(random_forest_classifier.score(X_train,\n",
    "                                                                                            y_train)*100))\n",
    "print(\"\\nRandom Forest Clasifier Test Accuracy : {} %\".format(sklearn.metrics.accuracy_score(y_test, \n",
    "                                                                                     y_pred_randomforest)*100))\n",
    "print(\"-------------------------------------------------------------------------------------------------\")\n",
    "print(\"\\nClassification Report : \\n {}\".format(sklearn.metrics.classification_report(y_test, \n",
    "                                                                                     y_pred_randomforest)))\n",
    "print(\"-------------------------------------------------------------------------------------------------\")\n",
    "print(\"\\n Confusion Matrix :- \\n{}\".format(sklearn.metrics.confusion_matrix(y_test, \n",
    "                                                                            y_pred_randomforest)))"
   ]
  },
  {
   "cell_type": "markdown",
   "metadata": {},
   "source": [
    "## Extra trees Classifier\n",
    "Extremely Randomized Trees Classifier(Extra Trees Classifier) is a type of ensemble learning technique which aggregates the results of multiple de-correlated decision trees collected in a “forest” to output it's classification result"
   ]
  },
  {
   "cell_type": "code",
   "execution_count": 20,
   "metadata": {},
   "outputs": [],
   "source": [
    "from sklearn.ensemble import ExtraTreesClassifier"
   ]
  },
  {
   "cell_type": "code",
   "execution_count": 21,
   "metadata": {},
   "outputs": [],
   "source": [
    "extra_trees_model = ExtraTreesClassifier()\n",
    "extra_trees_classifier = extra_trees_model.fit(X_train, y_train)"
   ]
  },
  {
   "cell_type": "code",
   "execution_count": 22,
   "metadata": {},
   "outputs": [
    {
     "name": "stdout",
     "output_type": "stream",
     "text": [
      "Extra trees Clasifier Train Accuracy : 99.58503773160602 %\n",
      "\n",
      "Extra trees  Clasifier Test Accuracy : 93.78068984363658 %\n",
      "-------------------------------------------------------------------------------------------------\n",
      "\n",
      "Classification Report : \n",
      "               precision    recall  f1-score   support\n",
      "\n",
      "         0.0       0.95      0.97      0.96    372206\n",
      "         1.0       0.88      0.81      0.84     96190\n",
      "\n",
      "    accuracy                           0.94    468396\n",
      "   macro avg       0.92      0.89      0.90    468396\n",
      "weighted avg       0.94      0.94      0.94    468396\n",
      "\n",
      "-------------------------------------------------------------------------------------------------\n",
      "\n",
      " Confusion Matrix :- \n",
      "[[361427  10779]\n",
      " [ 18352  77838]]\n"
     ]
    }
   ],
   "source": [
    "y_pred_extratrees = extra_trees_model.predict(X_test)\n",
    "print(\"Extra trees Clasifier Train Accuracy : {} %\".format(extra_trees_classifier.score(X_train,\n",
    "                                                                                        y_train)*100))\n",
    "print(\"\\nExtra trees  Clasifier Test Accuracy : {} %\".format(sklearn.metrics.accuracy_score(y_test,\n",
    "                                                                                    y_pred_extratrees)*100))\n",
    "print(\"-------------------------------------------------------------------------------------------------\")\n",
    "print(\"\\nClassification Report : \\n {}\".format(sklearn.metrics.classification_report(y_test, \n",
    "                                                                                     y_pred_extratrees)))\n",
    "print(\"-------------------------------------------------------------------------------------------------\")\n",
    "print(\"\\n Confusion Matrix :- \\n{}\".format(sklearn.metrics.confusion_matrix(y_test, \n",
    "                                                                            y_pred_extratrees)))"
   ]
  },
  {
   "cell_type": "markdown",
   "metadata": {},
   "source": [
    "## Decision trees Classifier\n",
    "The decision tree classifier creates the classification model by building a decision tree. Each node in the tree specifies a test on an attribute, each branch descending from that node corresponds to one of the possible values for that attribute."
   ]
  },
  {
   "cell_type": "code",
   "execution_count": 23,
   "metadata": {},
   "outputs": [],
   "source": [
    "from sklearn.tree import DecisionTreeClassifier"
   ]
  },
  {
   "cell_type": "code",
   "execution_count": 24,
   "metadata": {},
   "outputs": [],
   "source": [
    "decision_trees_model = DecisionTreeClassifier()\n",
    "decision_trees_classifier = decision_trees_model.fit(X_train, y_train)"
   ]
  },
  {
   "cell_type": "code",
   "execution_count": 25,
   "metadata": {},
   "outputs": [
    {
     "name": "stdout",
     "output_type": "stream",
     "text": [
      "Decision Trees Clasifier Train Accuracy : 99.58503773160602 %\n",
      "\n",
      "Decision Trees Clasifier Test Accuracy : 93.78068984363658 %\n",
      "-------------------------------------------------------------------------------------------------\n",
      "\n",
      "Classification Report : \n",
      "               precision    recall  f1-score   support\n",
      "\n",
      "         0.0       0.95      0.97      0.96    372206\n",
      "         1.0       0.88      0.81      0.84     96190\n",
      "\n",
      "    accuracy                           0.94    468396\n",
      "   macro avg       0.92      0.89      0.90    468396\n",
      "weighted avg       0.94      0.94      0.94    468396\n",
      "\n",
      "-------------------------------------------------------------------------------------------------\n",
      "\n",
      " Confusion Matrix :- \n",
      "[[361427  10779]\n",
      " [ 18352  77838]]\n"
     ]
    }
   ],
   "source": [
    "y_pred_decisiontrees = extra_trees_model.predict(X_test)\n",
    "print(\"Decision Trees Clasifier Train Accuracy : {} %\".format(extra_trees_classifier.score(X_train,\n",
    "                                                                                           y_train)*100))\n",
    "print(\"\\nDecision Trees Clasifier Test Accuracy : {} %\".format(sklearn.metrics.accuracy_score(y_test,\n",
    "                                                                                      y_pred_decisiontrees)*100))\n",
    "print(\"-------------------------------------------------------------------------------------------------\")\n",
    "print(\"\\nClassification Report : \\n {}\".format(sklearn.metrics.classification_report(y_test, \n",
    "                                                                                     y_pred_decisiontrees)))\n",
    "print(\"-------------------------------------------------------------------------------------------------\")\n",
    "print(\"\\n Confusion Matrix :- \\n{}\".format(sklearn.metrics.confusion_matrix(y_test, \n",
    "                                                                            y_pred_decisiontrees)))"
   ]
  },
  {
   "cell_type": "markdown",
   "metadata": {},
   "source": [
    "## Gradient Booster Classifier\n",
    "Gradient boosting is a machine learning technique for regression and classification problems, which produces a prediction model in the form of an ensemble of weak prediction models, typically decision trees."
   ]
  },
  {
   "cell_type": "code",
   "execution_count": 26,
   "metadata": {},
   "outputs": [],
   "source": [
    "from sklearn.ensemble import GradientBoostingClassifier"
   ]
  },
  {
   "cell_type": "code",
   "execution_count": 27,
   "metadata": {},
   "outputs": [],
   "source": [
    "gradient_boost_model = GradientBoostingClassifier(random_state=0)\n",
    "gradient_boost_clf = gradient_boost_model.fit(X_train, y_train)"
   ]
  },
  {
   "cell_type": "code",
   "execution_count": 28,
   "metadata": {},
   "outputs": [
    {
     "name": "stdout",
     "output_type": "stream",
     "text": [
      "Gradient Booster Clasifier Train Accuracy : 79.65752625271494 %\n",
      "\n",
      "Gradient Booster Clasifier Test Accuracy : 79.66506972732475 %\n",
      "-------------------------------------------------------------------------------------------------\n",
      "\n",
      "Classification Report : \n",
      "               precision    recall  f1-score   support\n",
      "\n",
      "         0.0       0.80      1.00      0.89    372206\n",
      "         1.0       0.66      0.02      0.04     96190\n",
      "\n",
      "    accuracy                           0.80    468396\n",
      "   macro avg       0.73      0.51      0.46    468396\n",
      "weighted avg       0.77      0.80      0.71    468396\n",
      "\n",
      "-------------------------------------------------------------------------------------------------\n",
      "\n",
      " Confusion Matrix :- \n",
      "[[371185   1021]\n",
      " [ 94227   1963]]\n"
     ]
    }
   ],
   "source": [
    "y_pred_gradientboost = gradient_boost_model.predict(X_test)\n",
    "print(\"Gradient Booster Clasifier Train Accuracy : {} %\".format(gradient_boost_clf.score(X_train,\n",
    "                                                                                         y_train)*100))\n",
    "print(\"\\nGradient Booster Clasifier Test Accuracy : {} %\".format(sklearn.metrics.accuracy_score(y_test,\n",
    "                                                                                        y_pred_gradientboost)*100))\n",
    "print(\"-------------------------------------------------------------------------------------------------\")\n",
    "print(\"\\nClassification Report : \\n {}\".format(sklearn.metrics.classification_report(y_test, \n",
    "                                                                                     y_pred_gradientboost)))\n",
    "print(\"-------------------------------------------------------------------------------------------------\")\n",
    "print(\"\\n Confusion Matrix :- \\n{}\".format(sklearn.metrics.confusion_matrix(y_test, \n",
    "                                                                            y_pred_gradientboost)))"
   ]
  },
  {
   "cell_type": "markdown",
   "metadata": {},
   "source": [
    "## Bagging Classiifier\n",
    "A Bagging classifier is an ensemble meta-estimator that fits base classifiers each on random subsets of the original dataset and then aggregate their individual predictions (either by voting or by averaging) to form a final prediction. Such  meta-estimator can typically be used as a way to reduce the variance of a black-box estimator (e.g., a decision tree), by introducing randomization into its construction procedure and then making an ensemble out of it."
   ]
  },
  {
   "cell_type": "code",
   "execution_count": 29,
   "metadata": {},
   "outputs": [],
   "source": [
    "from sklearn.ensemble import BaggingClassifier"
   ]
  },
  {
   "cell_type": "code",
   "execution_count": 30,
   "metadata": {},
   "outputs": [],
   "source": [
    "# The default type of a bagging classifier is a decision tree\n",
    "bagging_model = BaggingClassifier(n_estimators=10, random_state=0)\n",
    "bagging_classifier = bagging_model.fit(X_train, y_train)"
   ]
  },
  {
   "cell_type": "code",
   "execution_count": 31,
   "metadata": {},
   "outputs": [
    {
     "name": "stdout",
     "output_type": "stream",
     "text": [
      "Bagging Clasifier Train Accuracy : 98.95288032633356 %\n",
      "\n",
      "Bagging Clasifier Test Accuracy : 93.90643814208491 %\n",
      "-------------------------------------------------------------------------------------------------\n",
      "\n",
      "Classification Report : \n",
      "               precision    recall  f1-score   support\n",
      "\n",
      "         0.0       0.93      0.97      0.95    372206\n",
      "         1.0       0.87      0.73      0.79     96190\n",
      "\n",
      "    accuracy                           0.92    468396\n",
      "   macro avg       0.90      0.85      0.87    468396\n",
      "weighted avg       0.92      0.92      0.92    468396\n",
      "\n",
      "-------------------------------------------------------------------------------------------------\n",
      "\n",
      " Confusion Matrix :- \n",
      "[[362130  10076]\n",
      " [ 26222  69968]]\n"
     ]
    }
   ],
   "source": [
    "y_pred_bagging = bagging_model.predict(X_test)\n",
    "print(\"Bagging Clasifier Train Accuracy : {} %\".format(bagging_classifier.score(X_train,\n",
    "                                                                                y_train)*100))\n",
    "print(\"\\nBagging Clasifier Test Accuracy : {} %\".format(sklearn.metrics.accuracy_score(y_test,\n",
    "                                                                               y_pred_randomforest)*100))\n",
    "print(\"-------------------------------------------------------------------------------------------------\")\n",
    "print(\"\\nClassification Report : \\n {}\".format(sklearn.metrics.classification_report(y_test, \n",
    "                                                                                     y_pred_bagging)))\n",
    "print(\"-------------------------------------------------------------------------------------------------\")\n",
    "print(\"\\n Confusion Matrix :- \\n{}\".format(sklearn.metrics.confusion_matrix(y_test, \n",
    "                                                                            y_pred_bagging)))"
   ]
  },
  {
   "cell_type": "markdown",
   "metadata": {},
   "source": [
    "### XGBoost Classifier\n",
    "XGBoost is a decision-tree-based ensemble Machine Learning algorithm that uses a gradient boosting framework"
   ]
  },
  {
   "cell_type": "code",
   "execution_count": 32,
   "metadata": {},
   "outputs": [],
   "source": [
    "import xgboost\n",
    "from xgboost import XGBClassifier\n",
    "xgboost_model = XGBClassifier()\n",
    "xbgoost_classifier = xgboost_model.fit(X_train, y_train)"
   ]
  },
  {
   "cell_type": "code",
   "execution_count": 33,
   "metadata": {},
   "outputs": [
    {
     "name": "stdout",
     "output_type": "stream",
     "text": [
      "XGBoost Clasifier Train Accuracy : 80.66529176167174 %\n",
      "\n",
      "XGBoost Trees Clasifier Test Accuracy : 80.5085867513813 %\n",
      "-------------------------------------------------------------------------------------------------\n",
      "\n",
      "Classification Report : \n",
      "               precision    recall  f1-score   support\n",
      "\n",
      "         0.0       0.81      0.99      0.89    372206\n",
      "         1.0       0.70      0.09      0.16     96190\n",
      "\n",
      "    accuracy                           0.81    468396\n",
      "   macro avg       0.75      0.54      0.52    468396\n",
      "weighted avg       0.79      0.81      0.74    468396\n",
      "\n",
      "-------------------------------------------------------------------------------------------------\n",
      "\n",
      " Confusion Matrix :- \n",
      "[[368440   3766]\n",
      " [ 87531   8659]]\n"
     ]
    }
   ],
   "source": [
    "y_pred_xgboost = xgboost_model.predict(X_test)\n",
    "print(\"XGBoost Clasifier Train Accuracy : {} %\".format(xbgoost_classifier.score(X_train, y_train)*100))\n",
    "print(\"\\nXGBoost Trees Clasifier Test Accuracy : {} %\".format(sklearn.metrics.accuracy_score(y_test, y_pred_xgboost)*100))\n",
    "print(\"-------------------------------------------------------------------------------------------------\")\n",
    "print(\"\\nClassification Report : \\n {}\".format(sklearn.metrics.classification_report(y_test, y_pred_xgboost)))\n",
    "print(\"-------------------------------------------------------------------------------------------------\")\n",
    "print(\"\\n Confusion Matrix :- \\n{}\".format(sklearn.metrics.confusion_matrix(y_test, y_pred_xgboost)))"
   ]
  },
  {
   "cell_type": "markdown",
   "metadata": {},
   "source": [
    " "
   ]
  },
  {
   "cell_type": "markdown",
   "metadata": {},
   "source": [
    " "
   ]
  },
  {
   "cell_type": "markdown",
   "metadata": {},
   "source": [
    "  "
   ]
  },
  {
   "cell_type": "markdown",
   "metadata": {},
   "source": [
    " "
   ]
  },
  {
   "cell_type": "markdown",
   "metadata": {},
   "source": [
    " "
   ]
  },
  {
   "cell_type": "markdown",
   "metadata": {},
   "source": [
    "# Sampled Data\n",
    "We will now work out models on oversampled and undersampled data.\n",
    "For the purpose of this project we will be looking at:\n",
    "* SMOTE oversampling [LOOKUP](https://imbalanced-learn.readthedocs.io/en/stable/generated/imblearn.over_sampling.SMOTE.html)\n",
    "* Random Undersampling [LOOKUP](https://imbalanced-learn.readthedocs.io/en/stable/generated/imblearn.under_sampling.RandomUnderSampler.html)"
   ]
  },
  {
   "cell_type": "markdown",
   "metadata": {},
   "source": [
    "## Considering SMOTE (Synthetic Minority Oversampling Technique)\n",
    "SMOTE is an oversampling technique that generates synthetic samples from the minority class. It is used to obtain a synthetically class-balanced or nearly class-balanced training set, which is then used to train the classifier."
   ]
  },
  {
   "cell_type": "code",
   "execution_count": 34,
   "metadata": {},
   "outputs": [
    {
     "name": "stdout",
     "output_type": "stream",
     "text": [
      "Original Number of values: \n",
      "0.0    1116378\n",
      "1.0     288810\n",
      "Name: ArrDel15, dtype: int64\n"
     ]
    }
   ],
   "source": [
    "# Looking at the original value counts\n",
    "print(\"Original Number of values: \\n{}\".format(y_train.value_counts()))"
   ]
  },
  {
   "cell_type": "code",
   "execution_count": 35,
   "metadata": {},
   "outputs": [
    {
     "name": "stdout",
     "output_type": "stream",
     "text": [
      "Values after SMOTE: \n",
      "1.0    1116378\n",
      "0.0    1116378\n",
      "Name: ArrDel15, dtype: int64\n"
     ]
    }
   ],
   "source": [
    "import imblearn.over_sampling\n",
    "over_sampler_SMOTE = imblearn.over_sampling.SMOTE(random_state = 285)\n",
    "X_train_SMOTE, y_train_SMOTE = over_sampler_SMOTE.fit_resample(X_train, y_train)\n",
    "\n",
    "# Now looking at the values for y_train\n",
    "print(\"Values after SMOTE: \\n{}\".format(y_train_SMOTE.value_counts()))"
   ]
  },
  {
   "cell_type": "markdown",
   "metadata": {},
   "source": [
    "## Logistic Regression\n",
    "Logistic regression is a statistical model that in its basic form uses a logistic function to model a binary dependent variable, although many more complex extensions exist. In regression analysis, logistic regression (or logit regression) is estimating the parameters of a logistic model (a form of binary regression)"
   ]
  },
  {
   "cell_type": "code",
   "execution_count": 36,
   "metadata": {},
   "outputs": [],
   "source": [
    "from sklearn.linear_model import LogisticRegression"
   ]
  },
  {
   "cell_type": "code",
   "execution_count": 37,
   "metadata": {},
   "outputs": [],
   "source": [
    "logistic_model = LogisticRegression(max_iter=500000)\n",
    "logistic_classifier_SMOTE = logistic_model.fit(X_train_SMOTE, y_train_SMOTE)"
   ]
  },
  {
   "cell_type": "code",
   "execution_count": 38,
   "metadata": {},
   "outputs": [
    {
     "name": "stdout",
     "output_type": "stream",
     "text": [
      "Logistic regression Train Accuracy : 58.802394887753074 %\n",
      "\n",
      "Logistic regression Test Accuracy : 57.77824746581952 %\n",
      "-------------------------------------------------------------------------------------------------\n",
      "\n",
      "Classification Report : \n",
      "               precision    recall  f1-score   support\n",
      "\n",
      "         0.0       0.85      0.57      0.68    372206\n",
      "         1.0       0.27      0.61      0.37     96190\n",
      "\n",
      "    accuracy                           0.58    468396\n",
      "   macro avg       0.56      0.59      0.53    468396\n",
      "weighted avg       0.73      0.58      0.62    468396\n",
      "\n",
      "-------------------------------------------------------------------------------------------------\n",
      "\n",
      " Confusion Matrix :- \n",
      "[[211772 160434]\n",
      " [ 37331  58859]]\n"
     ]
    }
   ],
   "source": [
    "y_pred_logistic_SMOTE = logistic_model.predict(X_test)\n",
    "print(\"Logistic regression Train Accuracy : {} %\".format(logistic_classifier_SMOTE.score(X_train_SMOTE,\n",
    "                                                                                         y_train_SMOTE)*100))\n",
    "print(\"\\nLogistic regression Test Accuracy : {} %\".format(sklearn.metrics.accuracy_score(y_test, \n",
    "                                                                                 y_pred_logistic_SMOTE)*100))\n",
    "print(\"-------------------------------------------------------------------------------------------------\")\n",
    "print(\"\\nClassification Report : \\n {}\".format(sklearn.metrics.classification_report(y_test, \n",
    "                                                                                     y_pred_logistic_SMOTE)))\n",
    "print(\"-------------------------------------------------------------------------------------------------\")\n",
    "print(\"\\n Confusion Matrix :- \\n{}\".format(sklearn.metrics.confusion_matrix(y_test, y_pred_logistic_SMOTE)))"
   ]
  },
  {
   "cell_type": "markdown",
   "metadata": {},
   "source": [
    "## Random Forest\n",
    "Random forests or random decision forests are an ensemble learning method for classification, regression and other tasks that operate by constructing a multitude of decision trees at training time and outputting the class that is the mode of the classes or mean prediction of the individual trees."
   ]
  },
  {
   "cell_type": "code",
   "execution_count": 39,
   "metadata": {},
   "outputs": [],
   "source": [
    "from sklearn.ensemble import RandomForestClassifier"
   ]
  },
  {
   "cell_type": "code",
   "execution_count": 40,
   "metadata": {},
   "outputs": [],
   "source": [
    "random_forest_model = RandomForestClassifier()\n",
    "random_forest_classifier_SMOTE = random_forest_model.fit(X_train_SMOTE,y_train_SMOTE)"
   ]
  },
  {
   "cell_type": "code",
   "execution_count": 41,
   "metadata": {},
   "outputs": [
    {
     "name": "stdout",
     "output_type": "stream",
     "text": [
      "Random Forest Clasifier Train Accuracy : 99.63381578640926 %\n",
      "\n",
      "Random Forest Clasifier Test Accuracy : 93.1077549765583 %\n",
      "-------------------------------------------------------------------------------------------------\n",
      "\n",
      "Classification Report : \n",
      "               precision    recall  f1-score   support\n",
      "\n",
      "         0.0       0.96      0.96      0.96    372206\n",
      "         1.0       0.83      0.83      0.83     96190\n",
      "\n",
      "    accuracy                           0.93    468396\n",
      "   macro avg       0.90      0.89      0.89    468396\n",
      "weighted avg       0.93      0.93      0.93    468396\n",
      "\n",
      "-------------------------------------------------------------------------------------------------\n",
      "\n",
      " Confusion Matrix :- \n",
      "[[356330  15876]\n",
      " [ 16407  79783]]\n"
     ]
    }
   ],
   "source": [
    "y_pred_randomforest_SMOTE = random_forest_model.predict(X_test)\n",
    "print(\"Random Forest Clasifier Train Accuracy : {} %\".format(random_forest_classifier_SMOTE.score(X_train_SMOTE, \n",
    "                                                                                                  y_train_SMOTE)*100))\n",
    "print(\"\\nRandom Forest Clasifier Test Accuracy : {} %\".format(sklearn.metrics.accuracy_score(y_test, \n",
    "                                                                                     y_pred_randomforest_SMOTE)*100))\n",
    "print(\"-------------------------------------------------------------------------------------------------\")\n",
    "print(\"\\nClassification Report : \\n {}\".format(sklearn.metrics.classification_report(y_test, \n",
    "                                                                                     y_pred_randomforest_SMOTE)))\n",
    "print(\"-------------------------------------------------------------------------------------------------\")\n",
    "print(\"\\n Confusion Matrix :- \\n{}\".format(sklearn.metrics.confusion_matrix(y_test, \n",
    "                                                                            y_pred_randomforest_SMOTE)))"
   ]
  },
  {
   "cell_type": "markdown",
   "metadata": {},
   "source": [
    "## Extra trees Classifier\n",
    "Extremely Randomized Trees Classifier(Extra Trees Classifier) is a type of ensemble learning technique which aggregates the results of multiple de-correlated decision trees collected in a “forest” to output it's classification result"
   ]
  },
  {
   "cell_type": "code",
   "execution_count": 42,
   "metadata": {},
   "outputs": [],
   "source": [
    "from sklearn.ensemble import ExtraTreesClassifier"
   ]
  },
  {
   "cell_type": "code",
   "execution_count": 43,
   "metadata": {},
   "outputs": [],
   "source": [
    "extra_trees_model = ExtraTreesClassifier()\n",
    "extra_trees_classifier_SMOTE = extra_trees_model.fit(X_train_SMOTE,y_train_SMOTE)"
   ]
  },
  {
   "cell_type": "code",
   "execution_count": 44,
   "metadata": {},
   "outputs": [
    {
     "name": "stdout",
     "output_type": "stream",
     "text": [
      "Extra trees Clasifier Train Accuracy : 99.63453238956697 %\n",
      "\n",
      "Extra trees  Clasifier Test Accuracy : 93.18418603062366 %\n",
      "-------------------------------------------------------------------------------------------------\n",
      "\n",
      "Classification Report : \n",
      "               precision    recall  f1-score   support\n",
      "\n",
      "         0.0       0.96      0.96      0.96    372206\n",
      "         1.0       0.84      0.83      0.83     96190\n",
      "\n",
      "    accuracy                           0.93    468396\n",
      "   macro avg       0.90      0.89      0.89    468396\n",
      "weighted avg       0.93      0.93      0.93    468396\n",
      "\n",
      "-------------------------------------------------------------------------------------------------\n",
      "\n",
      " Confusion Matrix :- \n",
      "[[357105  15101]\n",
      " [ 16824  79366]]\n"
     ]
    }
   ],
   "source": [
    "y_pred_extratrees_SMOTE = extra_trees_model.predict(X_test)\n",
    "print(\"Extra trees Clasifier Train Accuracy : {} %\".format(extra_trees_classifier_SMOTE.score(X_train_SMOTE,\n",
    "                                                                                              y_train_SMOTE)*100))\n",
    "print(\"\\nExtra trees  Clasifier Test Accuracy : {} %\".format(sklearn.metrics.accuracy_score(y_test, \n",
    "                                                                                     y_pred_extratrees_SMOTE)*100))\n",
    "print(\"-------------------------------------------------------------------------------------------------\")\n",
    "print(\"\\nClassification Report : \\n {}\".format(sklearn.metrics.classification_report(y_test, \n",
    "                                                                                     y_pred_extratrees_SMOTE)))\n",
    "print(\"-------------------------------------------------------------------------------------------------\")\n",
    "print(\"\\n Confusion Matrix :- \\n{}\".format(sklearn.metrics.confusion_matrix(y_test, \n",
    "                                                                            y_pred_extratrees_SMOTE)))"
   ]
  },
  {
   "cell_type": "markdown",
   "metadata": {},
   "source": [
    "## Decision trees Classifier\n",
    "The decision tree classifier creates the classification model by building a decision tree. Each node in the tree specifies a test on an attribute, each branch descending from that node corresponds to one of the possible values for that attribute."
   ]
  },
  {
   "cell_type": "code",
   "execution_count": 45,
   "metadata": {},
   "outputs": [],
   "source": [
    "from sklearn.tree import DecisionTreeClassifier\n",
    "decision_trees_model = DecisionTreeClassifier()\n",
    "decision_trees_classifier_SMOTE = decision_trees_model.fit(X_train_SMOTE, y_train_SMOTE)"
   ]
  },
  {
   "cell_type": "code",
   "execution_count": 46,
   "metadata": {},
   "outputs": [
    {
     "name": "stdout",
     "output_type": "stream",
     "text": [
      "Decision Trees Clasifier Train Accuracy : 99.55728343823033 %\n",
      "\n",
      "Decision Trees Clasifier Test Accuracy : 91.79946028574113 %\n",
      "-------------------------------------------------------------------------------------------------\n",
      "\n",
      "Classification Report : \n",
      "               precision    recall  f1-score   support\n",
      "\n",
      "         0.0       0.96      0.94      0.95    372206\n",
      "         1.0       0.78      0.84      0.81     96190\n",
      "\n",
      "    accuracy                           0.92    468396\n",
      "   macro avg       0.87      0.89      0.88    468396\n",
      "weighted avg       0.92      0.92      0.92    468396\n",
      "\n",
      "-------------------------------------------------------------------------------------------------\n",
      "\n",
      " Confusion Matrix :- \n",
      "[[349371  22835]\n",
      " [ 15576  80614]]\n"
     ]
    }
   ],
   "source": [
    "y_pred_decisiontrees_SMOTE = decision_trees_model.predict(X_test)\n",
    "print(\"Decision Trees Clasifier Train Accuracy : {} %\".format(decision_trees_classifier_SMOTE.score(X_train,\n",
    "                                                                                                    y_train)*100))\n",
    "print(\"\\nDecision Trees Clasifier Test Accuracy : {} %\".format(sklearn.metrics.accuracy_score(y_test,\n",
    "                                                                                      y_pred_decisiontrees_SMOTE)*100))\n",
    "print(\"-------------------------------------------------------------------------------------------------\")\n",
    "print(\"\\nClassification Report : \\n {}\".format(sklearn.metrics.classification_report(y_test, \n",
    "                                                                                     y_pred_decisiontrees_SMOTE)))\n",
    "print(\"-------------------------------------------------------------------------------------------------\")\n",
    "print(\"\\n Confusion Matrix :- \\n{}\".format(sklearn.metrics.confusion_matrix(y_test, \n",
    "                                                                            y_pred_decisiontrees_SMOTE)))"
   ]
  },
  {
   "cell_type": "markdown",
   "metadata": {},
   "source": [
    "## Gradient Booster Classifier\n",
    "Gradient boosting is a machine learning technique for regression and classification problems, which produces a prediction model in the form of an ensemble of weak prediction models, typically decision trees."
   ]
  },
  {
   "cell_type": "code",
   "execution_count": 47,
   "metadata": {},
   "outputs": [],
   "source": [
    "from sklearn.ensemble import GradientBoostingClassifier"
   ]
  },
  {
   "cell_type": "code",
   "execution_count": 48,
   "metadata": {},
   "outputs": [],
   "source": [
    "gradient_boost_model = GradientBoostingClassifier(random_state=0)\n",
    "gradient_boost_clf_SMOTE = gradient_boost_model.fit(X_train, y_train)"
   ]
  },
  {
   "cell_type": "code",
   "execution_count": 49,
   "metadata": {},
   "outputs": [
    {
     "name": "stdout",
     "output_type": "stream",
     "text": [
      "Gradient Booster Clasifier Train Accuracy : 79.65752625271494 %\n",
      "\n",
      "Gradient Booster Clasifier Test Accuracy : 79.66506972732475 %\n",
      "-------------------------------------------------------------------------------------------------\n",
      "\n",
      "Classification Report : \n",
      "               precision    recall  f1-score   support\n",
      "\n",
      "         0.0       0.80      1.00      0.89    372206\n",
      "         1.0       0.66      0.02      0.04     96190\n",
      "\n",
      "    accuracy                           0.80    468396\n",
      "   macro avg       0.73      0.51      0.46    468396\n",
      "weighted avg       0.77      0.80      0.71    468396\n",
      "\n",
      "-------------------------------------------------------------------------------------------------\n",
      "\n",
      " Confusion Matrix :- \n",
      "[[371185   1021]\n",
      " [ 94227   1963]]\n"
     ]
    }
   ],
   "source": [
    "y_pred_gradientboost_SMOTE = gradient_boost_model.predict(X_test)\n",
    "print(\"Gradient Booster Clasifier Train Accuracy : {} %\".format(gradient_boost_clf_SMOTE.score(X_train,\n",
    "                                                                                               y_train)*100))\n",
    "print(\"\\nGradient Booster Clasifier Test Accuracy : {} %\".format(sklearn.metrics.accuracy_score(y_test, \n",
    "                                                                                               y_pred_gradientboost_SMOTE)*100))\n",
    "print(\"-------------------------------------------------------------------------------------------------\")\n",
    "print(\"\\nClassification Report : \\n {}\".format(sklearn.metrics.classification_report(y_test, \n",
    "                                                                                     y_pred_gradientboost_SMOTE)))\n",
    "print(\"-------------------------------------------------------------------------------------------------\")\n",
    "print(\"\\n Confusion Matrix :- \\n{}\".format(sklearn.metrics.confusion_matrix(y_test,\n",
    "                                                                            y_pred_gradientboost_SMOTE)))"
   ]
  },
  {
   "cell_type": "markdown",
   "metadata": {},
   "source": [
    "## Bagging Classiifier\n",
    "A Bagging classifier is an ensemble meta-estimator that fits base classifiers each on random subsets of the original dataset and then aggregate their individual predictions (either by voting or by averaging) to form a final prediction. Such  meta-estimator can typically be used as a way to reduce the variance of a black-box estimator (e.g., a decision tree), by introducing randomization into its construction procedure and then making an ensemble out of it."
   ]
  },
  {
   "cell_type": "code",
   "execution_count": 50,
   "metadata": {},
   "outputs": [],
   "source": [
    "from sklearn.ensemble import BaggingClassifier"
   ]
  },
  {
   "cell_type": "code",
   "execution_count": 51,
   "metadata": {},
   "outputs": [],
   "source": [
    "# The default type of a bagging classifier is a decision tree\n",
    "bagging_model = BaggingClassifier(n_estimators=10, random_state=0)\n",
    "bagging_classifier_SMOTE = bagging_model.fit(X_train, y_train)"
   ]
  },
  {
   "cell_type": "code",
   "execution_count": 52,
   "metadata": {
    "scrolled": true
   },
   "outputs": [
    {
     "name": "stdout",
     "output_type": "stream",
     "text": [
      "Bagging Clasifier Train Accuracy : 98.95288032633356 %\n",
      "\n",
      "Bagging Clasifier Test Accuracy : 92.2505743003783 %\n",
      "-------------------------------------------------------------------------------------------------\n",
      "\n",
      "Classification Report : \n",
      "               precision    recall  f1-score   support\n",
      "\n",
      "         0.0       0.93      0.97      0.95    372206\n",
      "         1.0       0.87      0.73      0.79     96190\n",
      "\n",
      "    accuracy                           0.92    468396\n",
      "   macro avg       0.90      0.85      0.87    468396\n",
      "weighted avg       0.92      0.92      0.92    468396\n",
      "\n",
      "-------------------------------------------------------------------------------------------------\n",
      "\n",
      " Confusion Matrix :- \n",
      "[[362130  10076]\n",
      " [ 26222  69968]]\n"
     ]
    }
   ],
   "source": [
    "y_pred_bagging_SMOTE = bagging_model.predict(X_test)\n",
    "print(\"Bagging Clasifier Train Accuracy : {} %\".format(bagging_classifier_SMOTE.score(X_train,\n",
    "                                                                                      y_train)*100))\n",
    "print(\"\\nBagging Clasifier Test Accuracy : {} %\".format(sklearn.metrics.accuracy_score(y_test,\n",
    "                                                                               y_pred_bagging_SMOTE)*100))\n",
    "print(\"-------------------------------------------------------------------------------------------------\")\n",
    "print(\"\\nClassification Report : \\n {}\".format(sklearn.metrics.classification_report(y_test, \n",
    "                                                                                     y_pred_bagging_SMOTE)))\n",
    "print(\"-------------------------------------------------------------------------------------------------\")\n",
    "print(\"\\n Confusion Matrix :- \\n{}\".format(sklearn.metrics.confusion_matrix(y_test, \n",
    "                                                                            y_pred_bagging_SMOTE)))"
   ]
  },
  {
   "cell_type": "markdown",
   "metadata": {},
   "source": [
    "### XGBoost Classifier\n",
    "XGBoost is a decision-tree-based ensemble Machine Learning algorithm that uses a gradient boosting framework"
   ]
  },
  {
   "cell_type": "code",
   "execution_count": 53,
   "metadata": {},
   "outputs": [],
   "source": [
    "from xgboost import XGBClassifier\n",
    "xgboost_model = XGBClassifier()\n",
    "xgboost_classifier_SMOTE = xgboost_model.fit(X_train_SMOTE, y_train_SMOTE)"
   ]
  },
  {
   "cell_type": "code",
   "execution_count": 54,
   "metadata": {},
   "outputs": [
    {
     "name": "stdout",
     "output_type": "stream",
     "text": [
      "XGBoost Clasifier Train Accuracy : 70.55164111080656 %\n",
      "\n",
      "XGBoost Clasifier Test Accuracy : 68.63188413223 %\n",
      "-------------------------------------------------------------------------------------------------\n",
      "\n",
      "Classification Report : \n",
      "               precision    recall  f1-score   support\n",
      "\n",
      "         0.0       0.85      0.73      0.79    372206\n",
      "         1.0       0.33      0.52      0.40     96190\n",
      "\n",
      "    accuracy                           0.69    468396\n",
      "   macro avg       0.59      0.62      0.60    468396\n",
      "weighted avg       0.75      0.69      0.71    468396\n",
      "\n",
      "-------------------------------------------------------------------------------------------------\n",
      "\n",
      " Confusion Matrix :- \n",
      "[[271580 100626]\n",
      " [ 46301  49889]]\n"
     ]
    }
   ],
   "source": [
    "y_pred_xgboost_SMOTE = xgboost_model.predict(X_test)\n",
    "print(\"XGBoost Clasifier Train Accuracy : {} %\".format(xgboost_classifier_SMOTE.score(X_train_SMOTE, \n",
    "                                                                                           y_train_SMOTE)*100))\n",
    "print(\"\\nXGBoost Clasifier Test Accuracy : {} %\".format(sklearn.metrics.accuracy_score(y_test, \n",
    "                                                                                              y_pred_xgboost_SMOTE)*100))\n",
    "print(\"-------------------------------------------------------------------------------------------------\")\n",
    "print(\"\\nClassification Report : \\n {}\".format(sklearn.metrics.classification_report(y_test, \n",
    "                                                                                     y_pred_xgboost_SMOTE)))\n",
    "print(\"-------------------------------------------------------------------------------------------------\")\n",
    "print(\"\\n Confusion Matrix :- \\n{}\".format(sklearn.metrics.confusion_matrix(y_test, \n",
    "                                                                            y_pred_xgboost_SMOTE)))"
   ]
  },
  {
   "cell_type": "markdown",
   "metadata": {},
   "source": [
    " "
   ]
  },
  {
   "cell_type": "markdown",
   "metadata": {},
   "source": [
    " "
   ]
  },
  {
   "cell_type": "markdown",
   "metadata": {},
   "source": [
    " "
   ]
  },
  {
   "cell_type": "markdown",
   "metadata": {},
   "source": [
    " "
   ]
  },
  {
   "cell_type": "markdown",
   "metadata": {},
   "source": [
    " "
   ]
  },
  {
   "cell_type": "markdown",
   "metadata": {},
   "source": [
    "## Considering Random Undersampling"
   ]
  },
  {
   "cell_type": "code",
   "execution_count": 55,
   "metadata": {},
   "outputs": [
    {
     "name": "stdout",
     "output_type": "stream",
     "text": [
      "Original Number of values: \n",
      "0.0    1116378\n",
      "1.0     288810\n",
      "Name: ArrDel15, dtype: int64\n"
     ]
    }
   ],
   "source": [
    "# Looking at the original value counts\n",
    "print(\"Original Number of values: \\n{}\".format(y_train.value_counts()))"
   ]
  },
  {
   "cell_type": "code",
   "execution_count": 56,
   "metadata": {
    "scrolled": true
   },
   "outputs": [
    {
     "name": "stdout",
     "output_type": "stream",
     "text": [
      "Values after Random Under Sampling: \n",
      "1.0    288810\n",
      "0.0    288810\n",
      "Name: ArrDel15, dtype: int64\n"
     ]
    }
   ],
   "source": [
    "from imblearn.under_sampling import RandomUnderSampler\n",
    "random_under_sampler = RandomUnderSampler(random_state = 285)\n",
    "X_train_RUS, y_train_RUS = random_under_sampler.fit_resample(X_train,y_train)\n",
    "print(\"Values after Random Under Sampling: \\n{}\".format(y_train_RUS.value_counts()))"
   ]
  },
  {
   "cell_type": "markdown",
   "metadata": {},
   "source": [
    "## Logistic Regression\n",
    "Logistic regression is a statistical model that in its basic form uses a logistic function to model a binary dependent variable, although many more complex extensions exist. In regression analysis, logistic regression (or logit regression) is estimating the parameters of a logistic model (a form of binary regression)"
   ]
  },
  {
   "cell_type": "code",
   "execution_count": 57,
   "metadata": {},
   "outputs": [],
   "source": [
    "from sklearn.linear_model import LogisticRegression"
   ]
  },
  {
   "cell_type": "code",
   "execution_count": 58,
   "metadata": {},
   "outputs": [],
   "source": [
    "logistic_model = LogisticRegression(max_iter=500000)\n",
    "logistic_classifier_RUS = logistic_model.fit(X_train_RUS, y_train_RUS)"
   ]
  },
  {
   "cell_type": "code",
   "execution_count": 59,
   "metadata": {},
   "outputs": [
    {
     "name": "stdout",
     "output_type": "stream",
     "text": [
      "Logistic regression Train Accuracy : 59.20432118001454 %\n",
      "\n",
      "Logistic regression Test Accuracy : 58.284656572643655 %\n",
      "-------------------------------------------------------------------------------------------------\n",
      "\n",
      "Classification Report : \n",
      "               precision    recall  f1-score   support\n",
      "\n",
      "         0.0       0.85      0.58      0.69    372206\n",
      "         1.0       0.27      0.61      0.37     96190\n",
      "\n",
      "    accuracy                           0.58    468396\n",
      "   macro avg       0.56      0.59      0.53    468396\n",
      "weighted avg       0.73      0.58      0.62    468396\n",
      "\n",
      "-------------------------------------------------------------------------------------------------\n",
      "\n",
      " Confusion Matrix :- \n",
      "[[214594 157612]\n",
      " [ 37781  58409]]\n"
     ]
    }
   ],
   "source": [
    "y_pred_logistic_RUS = logistic_model.predict(X_test)\n",
    "print(\"Logistic regression Train Accuracy : {} %\".format(logistic_classifier_RUS.score(X_train_RUS, \n",
    "                                                                                   y_train_RUS)*100))\n",
    "print(\"\\nLogistic regression Test Accuracy : {} %\".format(sklearn.metrics.accuracy_score(y_test, \n",
    "                                                                                 y_pred_logistic_RUS)*100))\n",
    "print(\"-------------------------------------------------------------------------------------------------\")\n",
    "print(\"\\nClassification Report : \\n {}\".format(sklearn.metrics.classification_report(y_test, \n",
    "                                                                                     y_pred_logistic_RUS)))\n",
    "print(\"-------------------------------------------------------------------------------------------------\")\n",
    "print(\"\\n Confusion Matrix :- \\n{}\".format(sklearn.metrics.confusion_matrix(y_test, \n",
    "                                                                            y_pred_logistic_RUS)))"
   ]
  },
  {
   "cell_type": "markdown",
   "metadata": {},
   "source": [
    "## Random Forest\n",
    "Random forests or random decision forests are an ensemble learning method for classification, regression and other tasks that operate by constructing a multitude of decision trees at training time and outputting the class that is the mode of the classes or mean prediction of the individual trees."
   ]
  },
  {
   "cell_type": "code",
   "execution_count": 60,
   "metadata": {},
   "outputs": [],
   "source": [
    "from sklearn.ensemble import RandomForestClassifier"
   ]
  },
  {
   "cell_type": "code",
   "execution_count": 61,
   "metadata": {},
   "outputs": [],
   "source": [
    "random_forest_model = RandomForestClassifier()\n",
    "random_forest_classifier_RUS = random_forest_model.fit(X_train_RUS, y_train_RUS)"
   ]
  },
  {
   "cell_type": "code",
   "execution_count": 62,
   "metadata": {},
   "outputs": [
    {
     "name": "stdout",
     "output_type": "stream",
     "text": [
      "Random Forest Clasifier Train Accuracy : 99.7025726256016 %\n",
      "\n",
      "Random Forest Clasifier Test Accuracy : 79.44196790749707 %\n",
      "-------------------------------------------------------------------------------------------------\n",
      "\n",
      "Classification Report : \n",
      "               precision    recall  f1-score   support\n",
      "\n",
      "         0.0       0.96      0.77      0.86    372206\n",
      "         1.0       0.50      0.89      0.64     96190\n",
      "\n",
      "    accuracy                           0.79    468396\n",
      "   macro avg       0.73      0.83      0.75    468396\n",
      "weighted avg       0.87      0.79      0.81    468396\n",
      "\n",
      "-------------------------------------------------------------------------------------------------\n",
      "\n",
      " Confusion Matrix :- \n",
      "[[286956  85250]\n",
      " [ 11043  85147]]\n"
     ]
    }
   ],
   "source": [
    "y_pred_randomforest_RUS = random_forest_model.predict(X_test)\n",
    "print(\"Random Forest Clasifier Train Accuracy : {} %\".format(random_forest_classifier_RUS.score(X_train_RUS,\n",
    "                                                                                            y_train_RUS)*100))\n",
    "print(\"\\nRandom Forest Clasifier Test Accuracy : {} %\".format(sklearn.metrics.accuracy_score(y_test, \n",
    "                                                                                     y_pred_randomforest_RUS)*100))\n",
    "print(\"-------------------------------------------------------------------------------------------------\")\n",
    "print(\"\\nClassification Report : \\n {}\".format(sklearn.metrics.classification_report(y_test, \n",
    "                                                                                     y_pred_randomforest_RUS)))\n",
    "print(\"-------------------------------------------------------------------------------------------------\")\n",
    "print(\"\\n Confusion Matrix :- \\n{}\".format(sklearn.metrics.confusion_matrix(y_test, \n",
    "                                                                            y_pred_randomforest_RUS)))"
   ]
  },
  {
   "cell_type": "markdown",
   "metadata": {},
   "source": [
    "## Extra trees Classifier\n",
    "Extremely Randomized Trees Classifier(Extra Trees Classifier) is a type of ensemble learning technique which aggregates the results of multiple de-correlated decision trees collected in a “forest” to output it's classification result"
   ]
  },
  {
   "cell_type": "code",
   "execution_count": 63,
   "metadata": {},
   "outputs": [],
   "source": [
    "from sklearn.ensemble import ExtraTreesClassifier"
   ]
  },
  {
   "cell_type": "code",
   "execution_count": 64,
   "metadata": {},
   "outputs": [],
   "source": [
    "extra_trees_model = ExtraTreesClassifier()\n",
    "extra_trees_classifier_RUS = extra_trees_model.fit(X_train_RUS, y_train_RUS)"
   ]
  },
  {
   "cell_type": "code",
   "execution_count": 65,
   "metadata": {},
   "outputs": [
    {
     "name": "stdout",
     "output_type": "stream",
     "text": [
      "Extra trees Clasifier Train Accuracy : 99.1293584017174 %\n",
      "\n",
      "Extra trees  Clasifier Test Accuracy : 80.6845062724703 %\n",
      "-------------------------------------------------------------------------------------------------\n",
      "\n",
      "Classification Report : \n",
      "               precision    recall  f1-score   support\n",
      "\n",
      "         0.0       0.96      0.79      0.87    372206\n",
      "         1.0       0.52      0.87      0.65     96190\n",
      "\n",
      "    accuracy                           0.81    468396\n",
      "   macro avg       0.74      0.83      0.76    468396\n",
      "weighted avg       0.87      0.81      0.82    468396\n",
      "\n",
      "-------------------------------------------------------------------------------------------------\n",
      "\n",
      " Confusion Matrix :- \n",
      "[[294002  78204]\n",
      " [ 12269  83921]]\n"
     ]
    }
   ],
   "source": [
    "y_pred_extratrees_RUS = extra_trees_model.predict(X_test)\n",
    "print(\"Extra trees Clasifier Train Accuracy : {} %\".format(extra_trees_classifier.score(X_train_RUS,\n",
    "                                                                                        y_train_RUS)*100))\n",
    "print(\"\\nExtra trees  Clasifier Test Accuracy : {} %\".format(sklearn.metrics.accuracy_score(y_test,\n",
    "                                                                                    y_pred_extratrees_RUS)*100))\n",
    "print(\"-------------------------------------------------------------------------------------------------\")\n",
    "print(\"\\nClassification Report : \\n {}\".format(sklearn.metrics.classification_report(y_test, \n",
    "                                                                                     y_pred_extratrees_RUS)))\n",
    "print(\"-------------------------------------------------------------------------------------------------\")\n",
    "print(\"\\n Confusion Matrix :- \\n{}\".format(sklearn.metrics.confusion_matrix(y_test, \n",
    "                                                                            y_pred_extratrees_RUS)))"
   ]
  },
  {
   "cell_type": "markdown",
   "metadata": {},
   "source": [
    "## Decision trees Classifier\n",
    "The decision tree classifier creates the classification model by building a decision tree. Each node in the tree specifies a test on an attribute, each branch descending from that node corresponds to one of the possible values for that attribute."
   ]
  },
  {
   "cell_type": "code",
   "execution_count": 66,
   "metadata": {},
   "outputs": [],
   "source": [
    "from sklearn.tree import DecisionTreeClassifier"
   ]
  },
  {
   "cell_type": "code",
   "execution_count": 67,
   "metadata": {},
   "outputs": [],
   "source": [
    "decision_trees_model = DecisionTreeClassifier()\n",
    "decision_trees_classifier_RUS = decision_trees_model.fit(X_train_RUS, y_train_RUS)"
   ]
  },
  {
   "cell_type": "code",
   "execution_count": 68,
   "metadata": {},
   "outputs": [
    {
     "name": "stdout",
     "output_type": "stream",
     "text": [
      "Decision Trees Clasifier Train Accuracy : 99.7036113707974 %\n",
      "\n",
      "Decision Trees Clasifier Test Accuracy : 80.6845062724703 %\n",
      "-------------------------------------------------------------------------------------------------\n",
      "\n",
      "Classification Report : \n",
      "               precision    recall  f1-score   support\n",
      "\n",
      "         0.0       0.96      0.79      0.87    372206\n",
      "         1.0       0.52      0.87      0.65     96190\n",
      "\n",
      "    accuracy                           0.81    468396\n",
      "   macro avg       0.74      0.83      0.76    468396\n",
      "weighted avg       0.87      0.81      0.82    468396\n",
      "\n",
      "-------------------------------------------------------------------------------------------------\n",
      "\n",
      " Confusion Matrix :- \n",
      "[[294002  78204]\n",
      " [ 12269  83921]]\n"
     ]
    }
   ],
   "source": [
    "y_pred_decisiontrees_RUS = extra_trees_model.predict(X_test)\n",
    "print(\"Decision Trees Clasifier Train Accuracy : {} %\".format(extra_trees_classifier_RUS.score(X_train_RUS,\n",
    "                                                                                           y_train_RUS)*100))\n",
    "print(\"\\nDecision Trees Clasifier Test Accuracy : {} %\".format(sklearn.metrics.accuracy_score(y_test,\n",
    "                                                                                      y_pred_decisiontrees_RUS)*100))\n",
    "print(\"-------------------------------------------------------------------------------------------------\")\n",
    "print(\"\\nClassification Report : \\n {}\".format(sklearn.metrics.classification_report(y_test, \n",
    "                                                                                     y_pred_decisiontrees_RUS)))\n",
    "print(\"-------------------------------------------------------------------------------------------------\")\n",
    "print(\"\\n Confusion Matrix :- \\n{}\".format(sklearn.metrics.confusion_matrix(y_test, \n",
    "                                                                            y_pred_decisiontrees_RUS)))"
   ]
  },
  {
   "cell_type": "markdown",
   "metadata": {},
   "source": [
    "## Gradient Booster Classifier\n",
    "Gradient boosting is a machine learning technique for regression and classification problems, which produces a prediction model in the form of an ensemble of weak prediction models, typically decision trees."
   ]
  },
  {
   "cell_type": "code",
   "execution_count": 69,
   "metadata": {},
   "outputs": [],
   "source": [
    "from sklearn.ensemble import GradientBoostingClassifier"
   ]
  },
  {
   "cell_type": "code",
   "execution_count": 70,
   "metadata": {},
   "outputs": [],
   "source": [
    "gradient_boost_model = GradientBoostingClassifier(random_state=0)\n",
    "gradient_boost_clf_RUS = gradient_boost_model.fit(X_train_RUS, y_train_RUS)"
   ]
  },
  {
   "cell_type": "code",
   "execution_count": 71,
   "metadata": {},
   "outputs": [
    {
     "name": "stdout",
     "output_type": "stream",
     "text": [
      "Gradient Booster Clasifier Train Accuracy : 50.91565389010076 %\n",
      "\n",
      "Gradient Booster Clasifier Test Accuracy : 61.18839614343419 %\n",
      "-------------------------------------------------------------------------------------------------\n",
      "\n",
      "Classification Report : \n",
      "               precision    recall  f1-score   support\n",
      "\n",
      "         0.0       0.86      0.61      0.71    372206\n",
      "         1.0       0.29      0.62      0.40     96190\n",
      "\n",
      "    accuracy                           0.61    468396\n",
      "   macro avg       0.58      0.62      0.56    468396\n",
      "weighted avg       0.75      0.61      0.65    468396\n",
      "\n",
      "-------------------------------------------------------------------------------------------------\n",
      "\n",
      " Confusion Matrix :- \n",
      "[[226634 145572]\n",
      " [ 36220  59970]]\n"
     ]
    }
   ],
   "source": [
    "y_pred_gradientboost_RUS = gradient_boost_model.predict(X_test)\n",
    "print(\"Gradient Booster Clasifier Train Accuracy : {} %\".format(gradient_boost_clf.score(X_train_RUS,\n",
    "                                                                                         y_train_RUS)*100))\n",
    "print(\"\\nGradient Booster Clasifier Test Accuracy : {} %\".format(sklearn.metrics.accuracy_score(y_test,\n",
    "                                                                                        y_pred_gradientboost_RUS)*100))\n",
    "print(\"-------------------------------------------------------------------------------------------------\")\n",
    "print(\"\\nClassification Report : \\n {}\".format(sklearn.metrics.classification_report(y_test, \n",
    "                                                                                     y_pred_gradientboost_RUS)))\n",
    "print(\"-------------------------------------------------------------------------------------------------\")\n",
    "print(\"\\n Confusion Matrix :- \\n{}\".format(sklearn.metrics.confusion_matrix(y_test, \n",
    "                                                                            y_pred_gradientboost_RUS)))"
   ]
  },
  {
   "cell_type": "markdown",
   "metadata": {},
   "source": [
    "## Bagging Classiifier\n",
    "A Bagging classifier is an ensemble meta-estimator that fits base classifiers each on random subsets of the original dataset and then aggregate their individual predictions (either by voting or by averaging) to form a final prediction. Such  meta-estimator can typically be used as a way to reduce the variance of a black-box estimator (e.g., a decision tree), by introducing randomization into its construction procedure and then making an ensemble out of it."
   ]
  },
  {
   "cell_type": "code",
   "execution_count": 72,
   "metadata": {},
   "outputs": [],
   "source": [
    "from sklearn.ensemble import BaggingClassifier"
   ]
  },
  {
   "cell_type": "code",
   "execution_count": 73,
   "metadata": {},
   "outputs": [],
   "source": [
    "# The default type of a bagging classifier is a decision tree\n",
    "bagging_model = BaggingClassifier(n_estimators=10, random_state=0)\n",
    "bagging_classifier_RUS = bagging_model.fit(X_train_RUS, y_train_RUS)"
   ]
  },
  {
   "cell_type": "code",
   "execution_count": 74,
   "metadata": {},
   "outputs": [
    {
     "name": "stdout",
     "output_type": "stream",
     "text": [
      "Bagging Clasifier Train Accuracy : 97.88909663792805 %\n",
      "\n",
      "Bagging Clasifier Test Accuracy : 79.44196790749707 %\n",
      "-------------------------------------------------------------------------------------------------\n",
      "\n",
      "Classification Report : \n",
      "               precision    recall  f1-score   support\n",
      "\n",
      "         0.0       0.95      0.79      0.86    372206\n",
      "         1.0       0.51      0.84      0.64     96190\n",
      "\n",
      "    accuracy                           0.80    468396\n",
      "   macro avg       0.73      0.82      0.75    468396\n",
      "weighted avg       0.86      0.80      0.82    468396\n",
      "\n",
      "-------------------------------------------------------------------------------------------------\n",
      "\n",
      " Confusion Matrix :- \n",
      "[[294987  77219]\n",
      " [ 15374  80816]]\n"
     ]
    }
   ],
   "source": [
    "y_pred_bagging_RUS = bagging_model.predict(X_test)\n",
    "print(\"Bagging Clasifier Train Accuracy : {} %\".format(bagging_classifier.score(X_train_RUS,\n",
    "                                                                                y_train_RUS)*100))\n",
    "print(\"\\nBagging Clasifier Test Accuracy : {} %\".format(sklearn.metrics.accuracy_score(y_test,\n",
    "                                                                               y_pred_randomforest_RUS)*100))\n",
    "print(\"-------------------------------------------------------------------------------------------------\")\n",
    "print(\"\\nClassification Report : \\n {}\".format(sklearn.metrics.classification_report(y_test, \n",
    "                                                                                     y_pred_bagging_RUS)))\n",
    "print(\"-------------------------------------------------------------------------------------------------\")\n",
    "print(\"\\n Confusion Matrix :- \\n{}\".format(sklearn.metrics.confusion_matrix(y_test, \n",
    "                                                                            y_pred_bagging_RUS)))"
   ]
  },
  {
   "cell_type": "markdown",
   "metadata": {},
   "source": [
    "### XGBoost Classifier\n",
    "XGBoost is a decision-tree-based ensemble Machine Learning algorithm that uses a gradient boosting framework"
   ]
  },
  {
   "cell_type": "code",
   "execution_count": 75,
   "metadata": {},
   "outputs": [],
   "source": [
    "from xgboost import XGBClassifier\n",
    "xgboost_model = XGBClassifier()\n",
    "xgboost_classifier_RUS = xgboost_model.fit(X_train_RUS, y_train_RUS)"
   ]
  },
  {
   "cell_type": "code",
   "execution_count": 76,
   "metadata": {},
   "outputs": [
    {
     "name": "stdout",
     "output_type": "stream",
     "text": [
      "XGBoost Clasifier Train Accuracy : 66.12513417125446 %\n",
      "\n",
      "XGBoost Clasifier Test Accuracy : 64.70657307064963 %\n",
      "-------------------------------------------------------------------------------------------------\n",
      "\n",
      "Classification Report : \n",
      "               precision    recall  f1-score   support\n",
      "\n",
      "         0.0       0.88      0.65      0.74    372206\n",
      "         1.0       0.32      0.64      0.43     96190\n",
      "\n",
      "    accuracy                           0.65    468396\n",
      "   macro avg       0.60      0.65      0.59    468396\n",
      "weighted avg       0.76      0.65      0.68    468396\n",
      "\n",
      "-------------------------------------------------------------------------------------------------\n",
      "\n",
      " Confusion Matrix :- \n",
      "[[241213 130993]\n",
      " [ 34320  61870]]\n"
     ]
    }
   ],
   "source": [
    "y_pred_xgboost_RUS = xgboost_model.predict(X_test)\n",
    "print(\"XGBoost Clasifier Train Accuracy : {} %\".format(xgboost_classifier_RUS.score(X_train_RUS, \n",
    "                                                                                           y_train_RUS)*100))\n",
    "print(\"\\nXGBoost Clasifier Test Accuracy : {} %\".format(sklearn.metrics.accuracy_score(y_test, \n",
    "                                                                                              y_pred_xgboost_RUS)*100))\n",
    "print(\"-------------------------------------------------------------------------------------------------\")\n",
    "print(\"\\nClassification Report : \\n {}\".format(sklearn.metrics.classification_report(y_test, \n",
    "                                                                                     y_pred_xgboost_RUS)))\n",
    "print(\"-------------------------------------------------------------------------------------------------\")\n",
    "print(\"\\n Confusion Matrix :- \\n{}\".format(sklearn.metrics.confusion_matrix(y_test, \n",
    "                                                                            y_pred_xgboost_RUS)))"
   ]
  }
 ],
 "metadata": {
  "kernelspec": {
   "display_name": "Python 3",
   "language": "python",
   "name": "python3"
  },
  "language_info": {
   "codemirror_mode": {
    "name": "ipython",
    "version": 3
   },
   "file_extension": ".py",
   "mimetype": "text/x-python",
   "name": "python",
   "nbconvert_exporter": "python",
   "pygments_lexer": "ipython3",
   "version": "3.7.6"
  }
 },
 "nbformat": 4,
 "nbformat_minor": 4
}
