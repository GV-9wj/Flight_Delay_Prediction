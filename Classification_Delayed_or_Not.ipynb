{
 "cells": [
  {
   "cell_type": "markdown",
   "metadata": {},
   "source": [
    "# Classification Module\n",
    "Within this module we will predict if the flight is going to be delayed or not and classify them into those two categories\n",
    "\n",
    "We will first work with unsampled data from the previous module [Data-Preprocessing, merging the flight data and weather data](https://github.com/GV-9wj/Flight_Delay_Prediction/blob/master/Datapreprocessing3_Merging_Data.ipynb).\n",
    "\n",
    "After we have seen the classification reports for these modules we will move onto sampled data. We will work with Undersampling and oversampling(SMOTE).\n",
    "\n",
    "#### Objectives:\n",
    "1. To classify the given flight as delayed or not using classification models.\n",
    "2. Run the classification models on unsampled data and print the report for each model.\n",
    "3. Run the classification models on undersampled data and print the report for each model.\n",
    "4. Run the classification models on oversampled data and print the report for each model.\n",
    "\n",
    "#### Classification models used:\n",
    "1. Logistic regression : [LOOKUP](https://scikit-learn.org/stable/modules/generated/sklearn.linear_model.LogisticRegression.html)\n",
    "2. Random Forest : [LOOKUP](https://scikit-learn.org/stable/modules/generated/sklearn.ensemble.RandomForestClassifier.html)\n",
    "3. Extra trees : [LOOKUP](https://scikit-learn.org/stable/modules/generated/sklearn.ensemble.ExtraTreesClassifier.html)\n",
    "4. Decision Trees : [LOOKUP](https://scikit-learn.org/stable/modules/tree.html)\n",
    "5. Gradient Boosting Classifier : [LOOKUP](https://scikit-learn.org/stable/modules/generated/sklearn.ensemble.GradientBoostingClassifier.html)\n",
    "6. Bagging : [LOOKUP](https://scikit-learn.org/stable/modules/generated/sklearn.ensemble.BaggingClassifier.html#:~:text=A%20Bagging%20classifier.,to%20form%20a%20final%20prediction.)"
   ]
  },
  {
   "cell_type": "code",
   "execution_count": 1,
   "metadata": {},
   "outputs": [],
   "source": [
    "# First let us import all the different libraries that we need\n",
    "import pandas as pd\n",
    "import numpy as np\n",
    "import matplotlib.pyplot as plt\n",
    "import seaborn as sns"
   ]
  },
  {
   "cell_type": "markdown",
   "metadata": {},
   "source": [
    "#### Looking at the dataframe\n",
    "Let us look at the dataframe for a little bit of insight into the data"
   ]
  },
  {
   "cell_type": "code",
   "execution_count": 2,
   "metadata": {},
   "outputs": [
    {
     "name": "stderr",
     "output_type": "stream",
     "text": [
      "C:\\Users\\HP\\anaconda3\\lib\\site-packages\\numpy\\lib\\arraysetops.py:569: FutureWarning: elementwise comparison failed; returning scalar instead, but in the future will perform elementwise comparison\n",
      "  mask |= (ar1 == a)\n"
     ]
    },
    {
     "data": {
      "text/html": [
       "<div>\n",
       "<style scoped>\n",
       "    .dataframe tbody tr th:only-of-type {\n",
       "        vertical-align: middle;\n",
       "    }\n",
       "\n",
       "    .dataframe tbody tr th {\n",
       "        vertical-align: top;\n",
       "    }\n",
       "\n",
       "    .dataframe thead th {\n",
       "        text-align: right;\n",
       "    }\n",
       "</style>\n",
       "<table border=\"1\" class=\"dataframe\">\n",
       "  <thead>\n",
       "    <tr style=\"text-align: right;\">\n",
       "      <th></th>\n",
       "      <th>ArrDel15</th>\n",
       "      <th>ArrDelayMinutes</th>\n",
       "      <th>CRSArrTime</th>\n",
       "      <th>CRSDepTime</th>\n",
       "      <th>DepDel15</th>\n",
       "      <th>DepDelayMinutes</th>\n",
       "      <th>DepTime</th>\n",
       "      <th>DestAirportID</th>\n",
       "      <th>OriginAirportID</th>\n",
       "      <th>DeptTime</th>\n",
       "      <th>...</th>\n",
       "      <th>precipMM</th>\n",
       "      <th>visibility</th>\n",
       "      <th>pressure</th>\n",
       "      <th>cloudcover</th>\n",
       "      <th>DewPointF</th>\n",
       "      <th>WindGustKmph</th>\n",
       "      <th>tempF</th>\n",
       "      <th>WindChillF</th>\n",
       "      <th>humidity</th>\n",
       "      <th>time</th>\n",
       "    </tr>\n",
       "  </thead>\n",
       "  <tbody>\n",
       "    <tr>\n",
       "      <th>0</th>\n",
       "      <td>0.0</td>\n",
       "      <td>8.0</td>\n",
       "      <td>1602</td>\n",
       "      <td>745</td>\n",
       "      <td>0.0</td>\n",
       "      <td>0.0</td>\n",
       "      <td>741.0</td>\n",
       "      <td>12478</td>\n",
       "      <td>14747</td>\n",
       "      <td>800</td>\n",
       "      <td>...</td>\n",
       "      <td>0.0</td>\n",
       "      <td>10</td>\n",
       "      <td>1030</td>\n",
       "      <td>0</td>\n",
       "      <td>23</td>\n",
       "      <td>8</td>\n",
       "      <td>34</td>\n",
       "      <td>29</td>\n",
       "      <td>65</td>\n",
       "      <td>800</td>\n",
       "    </tr>\n",
       "    <tr>\n",
       "      <th>1</th>\n",
       "      <td>1.0</td>\n",
       "      <td>33.0</td>\n",
       "      <td>1204</td>\n",
       "      <td>820</td>\n",
       "      <td>0.0</td>\n",
       "      <td>1.0</td>\n",
       "      <td>821.0</td>\n",
       "      <td>14107</td>\n",
       "      <td>14747</td>\n",
       "      <td>800</td>\n",
       "      <td>...</td>\n",
       "      <td>0.0</td>\n",
       "      <td>10</td>\n",
       "      <td>1030</td>\n",
       "      <td>0</td>\n",
       "      <td>23</td>\n",
       "      <td>8</td>\n",
       "      <td>34</td>\n",
       "      <td>29</td>\n",
       "      <td>65</td>\n",
       "      <td>800</td>\n",
       "    </tr>\n",
       "    <tr>\n",
       "      <th>2</th>\n",
       "      <td>0.0</td>\n",
       "      <td>0.0</td>\n",
       "      <td>1143</td>\n",
       "      <td>759</td>\n",
       "      <td>0.0</td>\n",
       "      <td>0.0</td>\n",
       "      <td>754.0</td>\n",
       "      <td>11292</td>\n",
       "      <td>14747</td>\n",
       "      <td>800</td>\n",
       "      <td>...</td>\n",
       "      <td>0.0</td>\n",
       "      <td>10</td>\n",
       "      <td>1030</td>\n",
       "      <td>0</td>\n",
       "      <td>23</td>\n",
       "      <td>8</td>\n",
       "      <td>34</td>\n",
       "      <td>29</td>\n",
       "      <td>65</td>\n",
       "      <td>800</td>\n",
       "    </tr>\n",
       "    <tr>\n",
       "      <th>3</th>\n",
       "      <td>0.0</td>\n",
       "      <td>10.0</td>\n",
       "      <td>1351</td>\n",
       "      <td>738</td>\n",
       "      <td>0.0</td>\n",
       "      <td>2.0</td>\n",
       "      <td>740.0</td>\n",
       "      <td>12266</td>\n",
       "      <td>14747</td>\n",
       "      <td>800</td>\n",
       "      <td>...</td>\n",
       "      <td>0.0</td>\n",
       "      <td>10</td>\n",
       "      <td>1030</td>\n",
       "      <td>0</td>\n",
       "      <td>23</td>\n",
       "      <td>8</td>\n",
       "      <td>34</td>\n",
       "      <td>29</td>\n",
       "      <td>65</td>\n",
       "      <td>800</td>\n",
       "    </tr>\n",
       "    <tr>\n",
       "      <th>4</th>\n",
       "      <td>0.0</td>\n",
       "      <td>0.0</td>\n",
       "      <td>1527</td>\n",
       "      <td>745</td>\n",
       "      <td>0.0</td>\n",
       "      <td>0.0</td>\n",
       "      <td>742.0</td>\n",
       "      <td>10397</td>\n",
       "      <td>14747</td>\n",
       "      <td>800</td>\n",
       "      <td>...</td>\n",
       "      <td>0.0</td>\n",
       "      <td>10</td>\n",
       "      <td>1030</td>\n",
       "      <td>0</td>\n",
       "      <td>23</td>\n",
       "      <td>8</td>\n",
       "      <td>34</td>\n",
       "      <td>29</td>\n",
       "      <td>65</td>\n",
       "      <td>800</td>\n",
       "    </tr>\n",
       "  </tbody>\n",
       "</table>\n",
       "<p>5 rows × 23 columns</p>\n",
       "</div>"
      ],
      "text/plain": [
       "   ArrDel15  ArrDelayMinutes  CRSArrTime  CRSDepTime  DepDel15  \\\n",
       "0       0.0              8.0        1602         745       0.0   \n",
       "1       1.0             33.0        1204         820       0.0   \n",
       "2       0.0              0.0        1143         759       0.0   \n",
       "3       0.0             10.0        1351         738       0.0   \n",
       "4       0.0              0.0        1527         745       0.0   \n",
       "\n",
       "   DepDelayMinutes  DepTime  DestAirportID  OriginAirportID  DeptTime  ...  \\\n",
       "0              0.0    741.0          12478            14747       800  ...   \n",
       "1              1.0    821.0          14107            14747       800  ...   \n",
       "2              0.0    754.0          11292            14747       800  ...   \n",
       "3              2.0    740.0          12266            14747       800  ...   \n",
       "4              0.0    742.0          10397            14747       800  ...   \n",
       "\n",
       "   precipMM  visibility  pressure  cloudcover  DewPointF  WindGustKmph  tempF  \\\n",
       "0       0.0          10      1030           0         23             8     34   \n",
       "1       0.0          10      1030           0         23             8     34   \n",
       "2       0.0          10      1030           0         23             8     34   \n",
       "3       0.0          10      1030           0         23             8     34   \n",
       "4       0.0          10      1030           0         23             8     34   \n",
       "\n",
       "   WindChillF  humidity  time  \n",
       "0          29        65   800  \n",
       "1          29        65   800  \n",
       "2          29        65   800  \n",
       "3          29        65   800  \n",
       "4          29        65   800  \n",
       "\n",
       "[5 rows x 23 columns]"
      ]
     },
     "execution_count": 2,
     "metadata": {},
     "output_type": "execute_result"
    }
   ],
   "source": [
    "# Readinbg the file \n",
    "df = pd.read_csv(\"Data/Merged_Flight_Weather.csv\", index_col = 0)\n",
    "df = df.drop(columns=['Unnamed: 0.1', 'date', 'Quarter', 'Year', 'Month', 'DayofMonth',\n",
    "                      'Origin', 'ArrTime', 'FlightDate', 'airport'])\n",
    "df.head()"
   ]
  },
  {
   "cell_type": "code",
   "execution_count": 3,
   "metadata": {},
   "outputs": [
    {
     "data": {
      "text/plain": [
       "Index(['ArrDel15', 'ArrDelayMinutes', 'CRSArrTime', 'CRSDepTime', 'DepDel15',\n",
       "       'DepDelayMinutes', 'DepTime', 'DestAirportID', 'OriginAirportID',\n",
       "       'DeptTime', 'windspeedKmph', 'winddirDegree', 'weatherCode', 'precipMM',\n",
       "       'visibility', 'pressure', 'cloudcover', 'DewPointF', 'WindGustKmph',\n",
       "       'tempF', 'WindChillF', 'humidity', 'time'],\n",
       "      dtype='object')"
      ]
     },
     "execution_count": 3,
     "metadata": {},
     "output_type": "execute_result"
    }
   ],
   "source": [
    "# We look at the colums first then the shape\n",
    "df.columns"
   ]
  },
  {
   "cell_type": "code",
   "execution_count": 4,
   "metadata": {},
   "outputs": [
    {
     "data": {
      "text/plain": [
       "(1873584, 23)"
      ]
     },
     "execution_count": 4,
     "metadata": {},
     "output_type": "execute_result"
    }
   ],
   "source": [
    "# Now the shape of the dataframe\n",
    "df.shape"
   ]
  },
  {
   "cell_type": "code",
   "execution_count": 5,
   "metadata": {
    "scrolled": false
   },
   "outputs": [
    {
     "data": {
      "text/plain": [
       "ArrDel15           0\n",
       "ArrDelayMinutes    0\n",
       "CRSArrTime         0\n",
       "CRSDepTime         0\n",
       "DepDel15           0\n",
       "DepDelayMinutes    0\n",
       "DepTime            0\n",
       "DestAirportID      0\n",
       "OriginAirportID    0\n",
       "DeptTime           0\n",
       "windspeedKmph      0\n",
       "winddirDegree      0\n",
       "weatherCode        0\n",
       "precipMM           0\n",
       "visibility         0\n",
       "pressure           0\n",
       "cloudcover         0\n",
       "DewPointF          0\n",
       "WindGustKmph       0\n",
       "tempF              0\n",
       "WindChillF         0\n",
       "humidity           0\n",
       "time               0\n",
       "dtype: int64"
      ]
     },
     "execution_count": 5,
     "metadata": {},
     "output_type": "execute_result"
    }
   ],
   "source": [
    "# Check for missing valuiesa\n",
    "df.isna().sum()"
   ]
  },
  {
   "cell_type": "markdown",
   "metadata": {},
   "source": [
    "##### Feature exploration\n",
    "Since there are no missing values we can continue further and look at the corellation between various features of the dataframe"
   ]
  },
  {
   "cell_type": "code",
   "execution_count": 6,
   "metadata": {},
   "outputs": [
    {
     "data": {
      "image/png": "[encoded data removed]",
      "text/plain": [
       "<Figure size 1800x1800 with 2 Axes>"
      ]
     },
     "metadata": {
      "needs_background": "light"
     },
     "output_type": "display_data"
    }
   ],
   "source": [
    "plt.figure(figsize=(25,25))\n",
    "cor = df.corr()\n",
    "sns.heatmap(cor, annot=True, cmap='Blues')\n",
    "plt.show()"
   ]
  },
  {
   "cell_type": "markdown",
   "metadata": {},
   "source": [
    " "
   ]
  },
  {
   "cell_type": "markdown",
   "metadata": {},
   "source": [
    " "
   ]
  },
  {
   "cell_type": "markdown",
   "metadata": {},
   "source": [
    "  "
   ]
  },
  {
   "cell_type": "markdown",
   "metadata": {},
   "source": [
    " "
   ]
  },
  {
   "cell_type": "markdown",
   "metadata": {},
   "source": [
    " "
   ]
  },
  {
   "cell_type": "markdown",
   "metadata": {},
   "source": [
    "# Un-Sampled Data\n",
    "We will work the above classifier models using unsampled data, i.e data that has not be altered and predict if the flight is on time or delayed"
   ]
  },
  {
   "cell_type": "markdown",
   "metadata": {},
   "source": [
    "In this dataframe the variable we need to predict is '`ArrDel15` and therefore we need to divide it into two variables:\n",
    "* `X` - the input variable which helps us predict, which is all features except for `Arrdel15` and `ArrDelayMinutes`\n",
    "* `y` - the output variable or the predictor variable, which is basically the column `ArrDel15`\n",
    "\n",
    "We must then split them into train and test datasets using an inbuilt function from scikit learn called train_test_split : [LOOKUP](https://scikit-learn.org/stable/modules/generated/sklearn.model_selection.train_test_split.html)"
   ]
  },
  {
   "cell_type": "code",
   "execution_count": 7,
   "metadata": {},
   "outputs": [],
   "source": [
    "y = df['ArrDel15']\n",
    "X = df.drop(columns=['ArrDel15', 'ArrDelayMinutes'])\n",
    "# Spplitting the datasets\n",
    "from sklearn.model_selection import train_test_split\n",
    "X_train, X_test, y_train, y_test = train_test_split(X, y, train_size=0.75)"
   ]
  },
  {
   "cell_type": "markdown",
   "metadata": {},
   "source": [
    "## Accuracy measurement\n",
    "There are also a few metrics that we use for checking the accuracy of our model. Some of them are\n",
    "1. model.score() - which evaluvates the score of our model based on our feature variables and predictor variables\n",
    "2. A classification report that gives us the precision and the recall and also the F1 score, where:\n",
    "    1. Precision is the fraction of how many of the items that are selected are relevant.\n",
    "    2. Recall is the fraction of how many relevant items are selected.\n",
    "3. A confusion matrix which gives us a matrix of the true negatives($C_{0, 0}$), false negatives($C_{1, 0}$), true positives($C_{0, 1}$) false positives($C_{1, 1}$)"
   ]
  },
  {
   "cell_type": "code",
   "execution_count": 8,
   "metadata": {},
   "outputs": [],
   "source": [
    "import sklearn.metrics"
   ]
  },
  {
   "cell_type": "markdown",
   "metadata": {},
   "source": [
    "### METHOD\n",
    "Nearly all our classifiers follow the following method which is\n",
    "1. Call the classifier\n",
    "2. Fit it with out train data\n",
    "3. Run the accuracy metrics for our model"
   ]
  },
  {
   "cell_type": "markdown",
   "metadata": {},
   "source": [
    "## Logistic Regression\n",
    "Logistic regression is a statistical model that in its basic form uses a logistic function to model a binary dependent variable, although many more complex extensions exist. In regression analysis, logistic regression (or logit regression) is estimating the parameters of a logistic model (a form of binary regression)"
   ]
  },
  {
   "cell_type": "code",
   "execution_count": 9,
   "metadata": {},
   "outputs": [],
   "source": [
    "from sklearn.linear_model import LogisticRegression"
   ]
  },
  {
   "cell_type": "code",
   "execution_count": 10,
   "metadata": {},
   "outputs": [],
   "source": [
    "logistic_model = LogisticRegression(max_iter=500000)\n",
    "logistic_classifier = logistic_model.fit(X_train, y_train)"
   ]
  },
  {
   "cell_type": "code",
   "execution_count": 11,
   "metadata": {},
   "outputs": [
    {
     "name": "stdout",
     "output_type": "stream",
     "text": [
      "Logistic regression Train Accuracy : 91.76715144165762 %\n",
      "\n",
      "Logistic regression Test Accuracy : 91.77384093800973 %\n",
      "-------------------------------------------------------------------------------------------------\n",
      "\n",
      "Classification Report : \n",
      "               precision    recall  f1-score   support\n",
      "\n",
      "         0.0       0.92      0.98      0.95    372089\n",
      "         1.0       0.89      0.68      0.77     96307\n",
      "\n",
      "    accuracy                           0.92    468396\n",
      "   macro avg       0.91      0.83      0.86    468396\n",
      "weighted avg       0.92      0.92      0.91    468396\n",
      "\n",
      "-------------------------------------------------------------------------------------------------\n",
      "\n",
      " Confusion Matrix :- \n",
      "[[364217   7872]\n",
      " [ 30659  65648]]\n"
     ]
    }
   ],
   "source": [
    "y_pred_logistic = logistic_model.predict(X_test)\n",
    "print(\"Logistic regression Train Accuracy : {} %\".format(logistic_classifier.score(X_train, \n",
    "                                                                                   y_train)*100))\n",
    "print(\"\\nLogistic regression Test Accuracy : {} %\".format(sklearn.metrics.accuracy_score(y_test, \n",
    "                                                                                 y_pred_logistic)*100))\n",
    "print(\"-------------------------------------------------------------------------------------------------\")\n",
    "print(\"\\nClassification Report : \\n {}\".format(sklearn.metrics.classification_report(y_test, \n",
    "                                                                                     y_pred_logistic)))\n",
    "print(\"-------------------------------------------------------------------------------------------------\")\n",
    "print(\"\\n Confusion Matrix :- \\n{}\".format(sklearn.metrics.confusion_matrix(y_test, \n",
    "                                                                            y_pred_logistic)))"
   ]
  },
  {
   "cell_type": "markdown",
   "metadata": {},
   "source": [
    "## Random Forest\n",
    "Random forests or random decision forests are an ensemble learning method for classification, regression and other tasks that operate by constructing a multitude of decision trees at training time and outputting the class that is the mode of the classes or mean prediction of the individual trees."
   ]
  },
  {
   "cell_type": "code",
   "execution_count": 12,
   "metadata": {},
   "outputs": [],
   "source": [
    "from sklearn.ensemble import RandomForestClassifier"
   ]
  },
  {
   "cell_type": "code",
   "execution_count": 13,
   "metadata": {},
   "outputs": [],
   "source": [
    "random_forest_model = RandomForestClassifier()\n",
    "random_forest_classifier = random_forest_model.fit(X_train,y_train)"
   ]
  },
  {
   "cell_type": "code",
   "execution_count": 14,
   "metadata": {},
   "outputs": [
    {
     "name": "stdout",
     "output_type": "stream",
     "text": [
      "Random Forest Clasifier Train Accuracy : 99.99928835145191 %\n",
      "\n",
      "Random Forest Clasifier Test Accuracy : 97.99955593130599 %\n",
      "-------------------------------------------------------------------------------------------------\n",
      "\n",
      "Classification Report : \n",
      "               precision    recall  f1-score   support\n",
      "\n",
      "         0.0       0.98      0.99      0.99    372089\n",
      "         1.0       0.98      0.93      0.95     96307\n",
      "\n",
      "    accuracy                           0.98    468396\n",
      "   macro avg       0.98      0.96      0.97    468396\n",
      "weighted avg       0.98      0.98      0.98    468396\n",
      "\n",
      "-------------------------------------------------------------------------------------------------\n",
      "\n",
      " Confusion Matrix :- \n",
      "[[369941   2148]\n",
      " [  7222  89085]]\n"
     ]
    }
   ],
   "source": [
    "y_pred_randomforest = random_forest_model.predict(X_test)\n",
    "print(\"Random Forest Clasifier Train Accuracy : {} %\".format(random_forest_classifier.score(X_train,\n",
    "                                                                                            y_train)*100))\n",
    "print(\"\\nRandom Forest Clasifier Test Accuracy : {} %\".format(sklearn.metrics.accuracy_score(y_test, \n",
    "                                                                                     y_pred_randomforest)*100))\n",
    "print(\"-------------------------------------------------------------------------------------------------\")\n",
    "print(\"\\nClassification Report : \\n {}\".format(sklearn.metrics.classification_report(y_test, \n",
    "                                                                                     y_pred_randomforest)))\n",
    "print(\"-------------------------------------------------------------------------------------------------\")\n",
    "print(\"\\n Confusion Matrix :- \\n{}\".format(sklearn.metrics.confusion_matrix(y_test, \n",
    "                                                                            y_pred_randomforest)))"
   ]
  },
  {
   "cell_type": "markdown",
   "metadata": {},
   "source": [
    "## Extra trees Classifier\n",
    "Extremely Randomized Trees Classifier(Extra Trees Classifier) is a type of ensemble learning technique which aggregates the results of multiple de-correlated decision trees collected in a “forest” to output it's classification result"
   ]
  },
  {
   "cell_type": "code",
   "execution_count": 15,
   "metadata": {},
   "outputs": [],
   "source": [
    "from sklearn.ensemble import ExtraTreesClassifier"
   ]
  },
  {
   "cell_type": "code",
   "execution_count": 16,
   "metadata": {},
   "outputs": [],
   "source": [
    "extra_trees_model = ExtraTreesClassifier()\n",
    "extra_trees_classifier = extra_trees_model.fit(X_train, y_train)"
   ]
  },
  {
   "cell_type": "code",
   "execution_count": 17,
   "metadata": {},
   "outputs": [
    {
     "name": "stdout",
     "output_type": "stream",
     "text": [
      "Extra trees Clasifier Train Accuracy : 99.9999288351452 %\n",
      "\n",
      "Extra trees  Clasifier Test Accuracy : 97.89985396971794 %\n",
      "-------------------------------------------------------------------------------------------------\n",
      "\n",
      "Classification Report : \n",
      "               precision    recall  f1-score   support\n",
      "\n",
      "         0.0       0.98      0.99      0.99    372089\n",
      "         1.0       0.96      0.93      0.95     96307\n",
      "\n",
      "    accuracy                           0.98    468396\n",
      "   macro avg       0.97      0.96      0.97    468396\n",
      "weighted avg       0.98      0.98      0.98    468396\n",
      "\n",
      "-------------------------------------------------------------------------------------------------\n",
      "\n",
      " Confusion Matrix :- \n",
      "[[368827   3262]\n",
      " [  6575  89732]]\n"
     ]
    }
   ],
   "source": [
    "y_pred_extratrees = extra_trees_model.predict(X_test)\n",
    "print(\"Extra trees Clasifier Train Accuracy : {} %\".format(extra_trees_classifier.score(X_train,\n",
    "                                                                                        y_train)*100))\n",
    "print(\"\\nExtra trees  Clasifier Test Accuracy : {} %\".format(sklearn.metrics.accuracy_score(y_test,\n",
    "                                                                                    y_pred_extratrees)*100))\n",
    "print(\"-------------------------------------------------------------------------------------------------\")\n",
    "print(\"\\nClassification Report : \\n {}\".format(sklearn.metrics.classification_report(y_test, \n",
    "                                                                                     y_pred_extratrees)))\n",
    "print(\"-------------------------------------------------------------------------------------------------\")\n",
    "print(\"\\n Confusion Matrix :- \\n{}\".format(sklearn.metrics.confusion_matrix(y_test, \n",
    "                                                                            y_pred_extratrees)))"
   ]
  },
  {
   "cell_type": "markdown",
   "metadata": {},
   "source": [
    "## Decision trees Classifier\n",
    "The decision tree classifier creates the classification model by building a decision tree. Each node in the tree specifies a test on an attribute, each branch descending from that node corresponds to one of the possible values for that attribute."
   ]
  },
  {
   "cell_type": "code",
   "execution_count": 18,
   "metadata": {},
   "outputs": [],
   "source": [
    "from sklearn.tree import DecisionTreeClassifier"
   ]
  },
  {
   "cell_type": "code",
   "execution_count": 19,
   "metadata": {},
   "outputs": [],
   "source": [
    "decision_trees_model = DecisionTreeClassifier()\n",
    "decision_trees_classifier = decision_trees_model.fit(X_train, y_train)"
   ]
  },
  {
   "cell_type": "code",
   "execution_count": 20,
   "metadata": {},
   "outputs": [
    {
     "name": "stdout",
     "output_type": "stream",
     "text": [
      "Decision Trees Clasifier Train Accuracy : 99.9999288351452 %\n",
      "\n",
      "Decision Trees Clasifier Test Accuracy : 97.89985396971794 %\n",
      "-------------------------------------------------------------------------------------------------\n",
      "\n",
      "Classification Report : \n",
      "               precision    recall  f1-score   support\n",
      "\n",
      "         0.0       0.98      0.99      0.99    372089\n",
      "         1.0       0.96      0.93      0.95     96307\n",
      "\n",
      "    accuracy                           0.98    468396\n",
      "   macro avg       0.97      0.96      0.97    468396\n",
      "weighted avg       0.98      0.98      0.98    468396\n",
      "\n",
      "-------------------------------------------------------------------------------------------------\n",
      "\n",
      " Confusion Matrix :- \n",
      "[[368827   3262]\n",
      " [  6575  89732]]\n"
     ]
    }
   ],
   "source": [
    "y_pred_decisiontrees = extra_trees_model.predict(X_test)\n",
    "print(\"Decision Trees Clasifier Train Accuracy : {} %\".format(extra_trees_classifier.score(X_train,\n",
    "                                                                                           y_train)*100))\n",
    "print(\"\\nDecision Trees Clasifier Test Accuracy : {} %\".format(sklearn.metrics.accuracy_score(y_test,\n",
    "                                                                                      y_pred_decisiontrees)*100))\n",
    "print(\"-------------------------------------------------------------------------------------------------\")\n",
    "print(\"\\nClassification Report : \\n {}\".format(sklearn.metrics.classification_report(y_test, \n",
    "                                                                                     y_pred_decisiontrees)))\n",
    "print(\"-------------------------------------------------------------------------------------------------\")\n",
    "print(\"\\n Confusion Matrix :- \\n{}\".format(sklearn.metrics.confusion_matrix(y_test, \n",
    "                                                                            y_pred_decisiontrees)))"
   ]
  },
  {
   "cell_type": "markdown",
   "metadata": {},
   "source": [
    "## Gradient Booster Classifier\n",
    "Gradient boosting is a machine learning technique for regression and classification problems, which produces a prediction model in the form of an ensemble of weak prediction models, typically decision trees."
   ]
  },
  {
   "cell_type": "code",
   "execution_count": 21,
   "metadata": {},
   "outputs": [],
   "source": [
    "from sklearn.ensemble import GradientBoostingClassifier"
   ]
  },
  {
   "cell_type": "code",
   "execution_count": 22,
   "metadata": {},
   "outputs": [],
   "source": [
    "gradient_boost_model = GradientBoostingClassifier(random_state=0)\n",
    "gradient_boost_clf = gradient_boost_model.fit(X_train, y_train)"
   ]
  },
  {
   "cell_type": "code",
   "execution_count": 23,
   "metadata": {},
   "outputs": [
    {
     "name": "stdout",
     "output_type": "stream",
     "text": [
      "Gradient Booster Clasifier Train Accuracy : 91.86514544673025 %\n",
      "\n",
      "Gradient Booster Clasifier Test Accuracy : 91.86286817137635 %\n",
      "-------------------------------------------------------------------------------------------------\n",
      "\n",
      "Classification Report : \n",
      "               precision    recall  f1-score   support\n",
      "\n",
      "         0.0       0.92      0.98      0.95    372089\n",
      "         1.0       0.90      0.68      0.78     96307\n",
      "\n",
      "    accuracy                           0.92    468396\n",
      "   macro avg       0.91      0.83      0.86    468396\n",
      "weighted avg       0.92      0.92      0.91    468396\n",
      "\n",
      "-------------------------------------------------------------------------------------------------\n",
      "\n",
      " Confusion Matrix :- \n",
      "[[364634   7455]\n",
      " [ 30659  65648]]\n"
     ]
    }
   ],
   "source": [
    "y_pred_gradientboost = gradient_boost_model.predict(X_test)\n",
    "print(\"Gradient Booster Clasifier Train Accuracy : {} %\".format(gradient_boost_clf.score(X_train,\n",
    "                                                                                         y_train)*100))\n",
    "print(\"\\nGradient Booster Clasifier Test Accuracy : {} %\".format(sklearn.metrics.accuracy_score(y_test,\n",
    "                                                                                        y_pred_gradientboost)*100))\n",
    "print(\"-------------------------------------------------------------------------------------------------\")\n",
    "print(\"\\nClassification Report : \\n {}\".format(sklearn.metrics.classification_report(y_test, \n",
    "                                                                                     y_pred_gradientboost)))\n",
    "print(\"-------------------------------------------------------------------------------------------------\")\n",
    "print(\"\\n Confusion Matrix :- \\n{}\".format(sklearn.metrics.confusion_matrix(y_test, \n",
    "                                                                            y_pred_gradientboost)))"
   ]
  },
  {
   "cell_type": "markdown",
   "metadata": {},
   "source": [
    "## Bagging Classiifier\n",
    "A Bagging classifier is an ensemble meta-estimator that fits base classifiers each on random subsets of the original dataset and then aggregate their individual predictions (either by voting or by averaging) to form a final prediction. Such  meta-estimator can typically be used as a way to reduce the variance of a black-box estimator (e.g., a decision tree), by introducing randomization into its construction procedure and then making an ensemble out of it."
   ]
  },
  {
   "cell_type": "code",
   "execution_count": 24,
   "metadata": {},
   "outputs": [],
   "source": [
    "from sklearn.ensemble import BaggingClassifier"
   ]
  },
  {
   "cell_type": "code",
   "execution_count": 25,
   "metadata": {},
   "outputs": [],
   "source": [
    "# The default type of a bagging classifier is a decision tree\n",
    "bagging_model = BaggingClassifier(n_estimators=10, random_state=0)\n",
    "bagging_classifier = bagging_model.fit(X_train, y_train)"
   ]
  },
  {
   "cell_type": "code",
   "execution_count": 26,
   "metadata": {},
   "outputs": [
    {
     "name": "stdout",
     "output_type": "stream",
     "text": [
      "Bagging Clasifier Train Accuracy : 99.72815025462785 %\n",
      "\n",
      "Bagging Clasifier Test Accuracy : 97.99955593130599 %\n",
      "-------------------------------------------------------------------------------------------------\n",
      "\n",
      "Classification Report : \n",
      "               precision    recall  f1-score   support\n",
      "\n",
      "         0.0       0.97      0.99      0.98    372089\n",
      "         1.0       0.97      0.88      0.92     96307\n",
      "\n",
      "    accuracy                           0.97    468396\n",
      "   macro avg       0.97      0.94      0.95    468396\n",
      "weighted avg       0.97      0.97      0.97    468396\n",
      "\n",
      "-------------------------------------------------------------------------------------------------\n",
      "\n",
      " Confusion Matrix :- \n",
      "[[369396   2693]\n",
      " [ 11141  85166]]\n"
     ]
    }
   ],
   "source": [
    "y_pred_bagging = bagging_model.predict(X_test)\n",
    "print(\"Bagging Clasifier Train Accuracy : {} %\".format(bagging_classifier.score(X_train,\n",
    "                                                                                y_train)*100))\n",
    "print(\"\\nBagging Clasifier Test Accuracy : {} %\".format(sklearn.metrics.accuracy_score(y_test,\n",
    "                                                                               y_pred_randomforest)*100))\n",
    "print(\"-------------------------------------------------------------------------------------------------\")\n",
    "print(\"\\nClassification Report : \\n {}\".format(sklearn.metrics.classification_report(y_test, \n",
    "                                                                                     y_pred_bagging)))\n",
    "print(\"-------------------------------------------------------------------------------------------------\")\n",
    "print(\"\\n Confusion Matrix :- \\n{}\".format(sklearn.metrics.confusion_matrix(y_test, \n",
    "                                                                            y_pred_bagging)))"
   ]
  },
  {
   "cell_type": "markdown",
   "metadata": {},
   "source": [
    "### XGBoost Classifier\n",
    "XGBoost is a decision-tree-based ensemble Machine Learning algorithm that uses a gradient boosting framework"
   ]
  },
  {
   "cell_type": "code",
   "execution_count": 69,
   "metadata": {},
   "outputs": [],
   "source": [
    "import xgboost\n",
    "from xgboost import XGBClassifier\n",
    "xgboost_model = XGBClassifier()\n",
    "xbgoost_classifier = xgboost_model.fit(X_train, y_train)"
   ]
  },
  {
   "cell_type": "code",
   "execution_count": 74,
   "metadata": {},
   "outputs": [
    {
     "name": "stdout",
     "output_type": "stream",
     "text": [
      "XGBoost Clasifier Train Accuracy : 92.35604061520594 %\n",
      "\n",
      "XGBoost Trees Clasifier Test Accuracy : 89.82100615718323 %\n",
      "-------------------------------------------------------------------------------------------------\n",
      "\n",
      "Classification Report : \n",
      "               precision    recall  f1-score   support\n",
      "\n",
      "         0.0       0.95      0.92      0.94    372089\n",
      "         1.0       0.73      0.80      0.76     96307\n",
      "\n",
      "    accuracy                           0.90    468396\n",
      "   macro avg       0.84      0.86      0.85    468396\n",
      "weighted avg       0.90      0.90      0.90    468396\n",
      "\n",
      "-------------------------------------------------------------------------------------------------\n",
      "\n",
      " Confusion Matrix :- \n",
      "[[343461  28628]\n",
      " [ 19050  77257]]\n"
     ]
    }
   ],
   "source": [
    "y_pred_xgboost = xgboost_model.predict(X_test)\n",
    "print(\"XGBoost Clasifier Train Accuracy : {} %\".format(xbgoost_classifier.score(X_train, y_train)*100))\n",
    "print(\"\\nXGBoost Trees Clasifier Test Accuracy : {} %\".format(sklearn.metrics.accuracy_score(y_test, y_pred_xgboost)*100))\n",
    "print(\"-------------------------------------------------------------------------------------------------\")\n",
    "print(\"\\nClassification Report : \\n {}\".format(sklearn.metrics.classification_report(y_test, y_pred_xgboost)))\n",
    "print(\"-------------------------------------------------------------------------------------------------\")\n",
    "print(\"\\n Confusion Matrix :- \\n{}\".format(sklearn.metrics.confusion_matrix(y_test, y_pred_xgboost)))"
   ]
  },
  {
   "cell_type": "markdown",
   "metadata": {},
   "source": [
    " "
   ]
  },
  {
   "cell_type": "markdown",
   "metadata": {},
   "source": [
    " "
   ]
  },
  {
   "cell_type": "markdown",
   "metadata": {},
   "source": [
    "  "
   ]
  },
  {
   "cell_type": "markdown",
   "metadata": {},
   "source": [
    " "
   ]
  },
  {
   "cell_type": "markdown",
   "metadata": {},
   "source": [
    " "
   ]
  },
  {
   "cell_type": "markdown",
   "metadata": {},
   "source": [
    "# Sampled Data\n",
    "We will now work out models on oversampled and undersampled data.\n",
    "For the purpose of this project we will be looking at:\n",
    "* SMOTE oversampling [LOOKUP](https://imbalanced-learn.readthedocs.io/en/stable/generated/imblearn.over_sampling.SMOTE.html)\n",
    "* Random Undersampling [LOOKUP](https://imbalanced-learn.readthedocs.io/en/stable/generated/imblearn.under_sampling.RandomUnderSampler.html)"
   ]
  },
  {
   "cell_type": "markdown",
   "metadata": {},
   "source": [
    "## Considering SMOTE (Synthetic Minority Oversampling Technique)\n",
    "SMOTE is an oversampling technique that generates synthetic samples from the minority class. It is used to obtain a synthetically class-balanced or nearly class-balanced training set, which is then used to train the classifier."
   ]
  },
  {
   "cell_type": "code",
   "execution_count": 27,
   "metadata": {},
   "outputs": [
    {
     "name": "stdout",
     "output_type": "stream",
     "text": [
      "Original Number of values: \n",
      "0.0    1116495\n",
      "1.0     288693\n",
      "Name: ArrDel15, dtype: int64\n"
     ]
    }
   ],
   "source": [
    "# Looking at the original value counts\n",
    "print(\"Original Number of values: \\n{}\".format(y_train.value_counts()))"
   ]
  },
  {
   "cell_type": "code",
   "execution_count": 28,
   "metadata": {},
   "outputs": [
    {
     "name": "stdout",
     "output_type": "stream",
     "text": [
      "Values after SMOTE: \n",
      "1.0    1116495\n",
      "0.0    1116495\n",
      "Name: ArrDel15, dtype: int64\n"
     ]
    }
   ],
   "source": [
    "import imblearn.over_sampling\n",
    "over_sampler_SMOTE = imblearn.over_sampling.SMOTE(random_state = 285)\n",
    "X_train_SMOTE, y_train_SMOTE = over_sampler_SMOTE.fit_resample(X_train, y_train)\n",
    "\n",
    "# Now looking at the values for y_train\n",
    "print(\"Values after SMOTE: \\n{}\".format(y_train_SMOTE.value_counts()))"
   ]
  },
  {
   "cell_type": "markdown",
   "metadata": {},
   "source": [
    "## Logistic Regression\n",
    "Logistic regression is a statistical model that in its basic form uses a logistic function to model a binary dependent variable, although many more complex extensions exist. In regression analysis, logistic regression (or logit regression) is estimating the parameters of a logistic model (a form of binary regression)"
   ]
  },
  {
   "cell_type": "code",
   "execution_count": 29,
   "metadata": {},
   "outputs": [],
   "source": [
    "from sklearn.linear_model import LogisticRegression"
   ]
  },
  {
   "cell_type": "code",
   "execution_count": 30,
   "metadata": {},
   "outputs": [],
   "source": [
    "logistic_model = LogisticRegression(max_iter=500000)\n",
    "logistic_classifier_SMOTE = logistic_model.fit(X_train_SMOTE, y_train_SMOTE)"
   ]
  },
  {
   "cell_type": "code",
   "execution_count": 31,
   "metadata": {},
   "outputs": [
    {
     "name": "stdout",
     "output_type": "stream",
     "text": [
      "Logistic regression Train Accuracy : 85.811087376119 %\n",
      "\n",
      "Logistic regression Test Accuracy : 89.6222427177004 %\n",
      "-------------------------------------------------------------------------------------------------\n",
      "\n",
      "Classification Report : \n",
      "               precision    recall  f1-score   support\n",
      "\n",
      "         0.0       0.94      0.93      0.93    372089\n",
      "         1.0       0.73      0.78      0.76     96307\n",
      "\n",
      "    accuracy                           0.90    468396\n",
      "   macro avg       0.84      0.85      0.84    468396\n",
      "weighted avg       0.90      0.90      0.90    468396\n",
      "\n",
      "-------------------------------------------------------------------------------------------------\n",
      "\n",
      " Confusion Matrix :- \n",
      "[[344699  27390]\n",
      " [ 21219  75088]]\n"
     ]
    }
   ],
   "source": [
    "y_pred_logistic_SMOTE = logistic_model.predict(X_test)\n",
    "print(\"Logistic regression Train Accuracy : {} %\".format(logistic_classifier_SMOTE.score(X_train_SMOTE,\n",
    "                                                                                         y_train_SMOTE)*100))\n",
    "print(\"\\nLogistic regression Test Accuracy : {} %\".format(sklearn.metrics.accuracy_score(y_test, \n",
    "                                                                                 y_pred_logistic_SMOTE)*100))\n",
    "print(\"-------------------------------------------------------------------------------------------------\")\n",
    "print(\"\\nClassification Report : \\n {}\".format(sklearn.metrics.classification_report(y_test, \n",
    "                                                                                     y_pred_logistic_SMOTE)))\n",
    "print(\"-------------------------------------------------------------------------------------------------\")\n",
    "print(\"\\n Confusion Matrix :- \\n{}\".format(sklearn.metrics.confusion_matrix(y_test, y_pred_logistic_SMOTE)))"
   ]
  },
  {
   "cell_type": "markdown",
   "metadata": {},
   "source": [
    "## Random Forest\n",
    "Random forests or random decision forests are an ensemble learning method for classification, regression and other tasks that operate by constructing a multitude of decision trees at training time and outputting the class that is the mode of the classes or mean prediction of the individual trees."
   ]
  },
  {
   "cell_type": "code",
   "execution_count": 32,
   "metadata": {},
   "outputs": [],
   "source": [
    "from sklearn.ensemble import RandomForestClassifier"
   ]
  },
  {
   "cell_type": "code",
   "execution_count": 33,
   "metadata": {},
   "outputs": [],
   "source": [
    "random_forest_model = RandomForestClassifier()\n",
    "random_forest_classifier_SMOTE = random_forest_model.fit(X_train_SMOTE,y_train_SMOTE)"
   ]
  },
  {
   "cell_type": "code",
   "execution_count": 34,
   "metadata": {},
   "outputs": [
    {
     "name": "stdout",
     "output_type": "stream",
     "text": [
      "Random Forest Clasifier Train Accuracy : 99.99955216996045 %\n",
      "\n",
      "Random Forest Clasifier Test Accuracy : 97.86761629048925 %\n",
      "-------------------------------------------------------------------------------------------------\n",
      "\n",
      "Classification Report : \n",
      "               precision    recall  f1-score   support\n",
      "\n",
      "         0.0       0.98      0.99      0.99    372089\n",
      "         1.0       0.96      0.93      0.95     96307\n",
      "\n",
      "    accuracy                           0.98    468396\n",
      "   macro avg       0.97      0.96      0.97    468396\n",
      "weighted avg       0.98      0.98      0.98    468396\n",
      "\n",
      "-------------------------------------------------------------------------------------------------\n",
      "\n",
      " Confusion Matrix :- \n",
      "[[368520   3569]\n",
      " [  6419  89888]]\n"
     ]
    }
   ],
   "source": [
    "y_pred_randomforest_SMOTE = random_forest_model.predict(X_test)\n",
    "print(\"Random Forest Clasifier Train Accuracy : {} %\".format(random_forest_classifier_SMOTE.score(X_train_SMOTE, \n",
    "                                                                                                  y_train_SMOTE)*100))\n",
    "print(\"\\nRandom Forest Clasifier Test Accuracy : {} %\".format(sklearn.metrics.accuracy_score(y_test, \n",
    "                                                                                     y_pred_randomforest_SMOTE)*100))\n",
    "print(\"-------------------------------------------------------------------------------------------------\")\n",
    "print(\"\\nClassification Report : \\n {}\".format(sklearn.metrics.classification_report(y_test, \n",
    "                                                                                     y_pred_randomforest_SMOTE)))\n",
    "print(\"-------------------------------------------------------------------------------------------------\")\n",
    "print(\"\\n Confusion Matrix :- \\n{}\".format(sklearn.metrics.confusion_matrix(y_test, \n",
    "                                                                            y_pred_randomforest_SMOTE)))"
   ]
  },
  {
   "cell_type": "markdown",
   "metadata": {},
   "source": [
    "## Extra trees Classifier\n",
    "Extremely Randomized Trees Classifier(Extra Trees Classifier) is a type of ensemble learning technique which aggregates the results of multiple de-correlated decision trees collected in a “forest” to output it's classification result"
   ]
  },
  {
   "cell_type": "code",
   "execution_count": 35,
   "metadata": {},
   "outputs": [],
   "source": [
    "from sklearn.ensemble import ExtraTreesClassifier"
   ]
  },
  {
   "cell_type": "code",
   "execution_count": 36,
   "metadata": {},
   "outputs": [],
   "source": [
    "extra_trees_model = ExtraTreesClassifier()\n",
    "extra_trees_classifier_SMOTE = extra_trees_model.fit(X_train_SMOTE,y_train_SMOTE)"
   ]
  },
  {
   "cell_type": "code",
   "execution_count": 37,
   "metadata": {},
   "outputs": [
    {
     "name": "stdout",
     "output_type": "stream",
     "text": [
      "Extra trees Clasifier Train Accuracy : 99.99995521699606 %\n",
      "\n",
      "Extra trees  Clasifier Test Accuracy : 97.76748733977233 %\n",
      "-------------------------------------------------------------------------------------------------\n",
      "\n",
      "Classification Report : \n",
      "               precision    recall  f1-score   support\n",
      "\n",
      "         0.0       0.98      0.99      0.99    372089\n",
      "         1.0       0.95      0.94      0.95     96307\n",
      "\n",
      "    accuracy                           0.98    468396\n",
      "   macro avg       0.97      0.96      0.97    468396\n",
      "weighted avg       0.98      0.98      0.98    468396\n",
      "\n",
      "-------------------------------------------------------------------------------------------------\n",
      "\n",
      " Confusion Matrix :- \n",
      "[[367441   4648]\n",
      " [  5809  90498]]\n"
     ]
    }
   ],
   "source": [
    "y_pred_extratrees_SMOTE = extra_trees_model.predict(X_test)\n",
    "print(\"Extra trees Clasifier Train Accuracy : {} %\".format(extra_trees_classifier_SMOTE.score(X_train_SMOTE,\n",
    "                                                                                              y_train_SMOTE)*100))\n",
    "print(\"\\nExtra trees  Clasifier Test Accuracy : {} %\".format(sklearn.metrics.accuracy_score(y_test, \n",
    "                                                                                     y_pred_extratrees_SMOTE)*100))\n",
    "print(\"-------------------------------------------------------------------------------------------------\")\n",
    "print(\"\\nClassification Report : \\n {}\".format(sklearn.metrics.classification_report(y_test, \n",
    "                                                                                     y_pred_extratrees_SMOTE)))\n",
    "print(\"-------------------------------------------------------------------------------------------------\")\n",
    "print(\"\\n Confusion Matrix :- \\n{}\".format(sklearn.metrics.confusion_matrix(y_test, \n",
    "                                                                            y_pred_extratrees_SMOTE)))"
   ]
  },
  {
   "cell_type": "markdown",
   "metadata": {},
   "source": [
    "## Decision trees Classifier\n",
    "The decision tree classifier creates the classification model by building a decision tree. Each node in the tree specifies a test on an attribute, each branch descending from that node corresponds to one of the possible values for that attribute."
   ]
  },
  {
   "cell_type": "code",
   "execution_count": 38,
   "metadata": {},
   "outputs": [],
   "source": [
    "from sklearn.tree import DecisionTreeClassifier\n",
    "decision_trees_model = DecisionTreeClassifier()\n",
    "decision_trees_classifier_SMOTE = decision_trees_model.fit(X_train_SMOTE, y_train_SMOTE)"
   ]
  },
  {
   "cell_type": "code",
   "execution_count": 39,
   "metadata": {},
   "outputs": [
    {
     "name": "stdout",
     "output_type": "stream",
     "text": [
      "Decision Trees Clasifier Train Accuracy : 99.9999288351452 %\n",
      "\n",
      "Decision Trees Clasifier Test Accuracy : 96.5979641158336 %\n",
      "-------------------------------------------------------------------------------------------------\n",
      "\n",
      "Classification Report : \n",
      "               precision    recall  f1-score   support\n",
      "\n",
      "         0.0       0.98      0.98      0.98    372089\n",
      "         1.0       0.91      0.93      0.92     96307\n",
      "\n",
      "    accuracy                           0.97    468396\n",
      "   macro avg       0.95      0.95      0.95    468396\n",
      "weighted avg       0.97      0.97      0.97    468396\n",
      "\n",
      "-------------------------------------------------------------------------------------------------\n",
      "\n",
      " Confusion Matrix :- \n",
      "[[363361   8728]\n",
      " [  7207  89100]]\n"
     ]
    }
   ],
   "source": [
    "y_pred_decisiontrees_SMOTE = decision_trees_model.predict(X_test)\n",
    "print(\"Decision Trees Clasifier Train Accuracy : {} %\".format(decision_trees_classifier_SMOTE.score(X_train,\n",
    "                                                                                                    y_train)*100))\n",
    "print(\"\\nDecision Trees Clasifier Test Accuracy : {} %\".format(sklearn.metrics.accuracy_score(y_test,\n",
    "                                                                                      y_pred_decisiontrees_SMOTE)*100))\n",
    "print(\"-------------------------------------------------------------------------------------------------\")\n",
    "print(\"\\nClassification Report : \\n {}\".format(sklearn.metrics.classification_report(y_test, \n",
    "                                                                                     y_pred_decisiontrees_SMOTE)))\n",
    "print(\"-------------------------------------------------------------------------------------------------\")\n",
    "print(\"\\n Confusion Matrix :- \\n{}\".format(sklearn.metrics.confusion_matrix(y_test, \n",
    "                                                                            y_pred_decisiontrees_SMOTE)))"
   ]
  },
  {
   "cell_type": "markdown",
   "metadata": {},
   "source": [
    "## Gradient Booster Classifier\n",
    "Gradient boosting is a machine learning technique for regression and classification problems, which produces a prediction model in the form of an ensemble of weak prediction models, typically decision trees."
   ]
  },
  {
   "cell_type": "code",
   "execution_count": 40,
   "metadata": {},
   "outputs": [],
   "source": [
    "from sklearn.ensemble import GradientBoostingClassifier"
   ]
  },
  {
   "cell_type": "code",
   "execution_count": 41,
   "metadata": {},
   "outputs": [],
   "source": [
    "gradient_boost_model = GradientBoostingClassifier(random_state=0)\n",
    "gradient_boost_clf_SMOTE = gradient_boost_model.fit(X_train, y_train)"
   ]
  },
  {
   "cell_type": "code",
   "execution_count": 42,
   "metadata": {},
   "outputs": [
    {
     "name": "stdout",
     "output_type": "stream",
     "text": [
      "Gradient Booster Clasifier Train Accuracy : 91.86514544673025 %\n",
      "\n",
      "Gradient Booster Clasifier Test Accuracy : 91.86286817137635 %\n",
      "-------------------------------------------------------------------------------------------------\n",
      "\n",
      "Classification Report : \n",
      "               precision    recall  f1-score   support\n",
      "\n",
      "         0.0       0.92      0.98      0.95    372089\n",
      "         1.0       0.90      0.68      0.78     96307\n",
      "\n",
      "    accuracy                           0.92    468396\n",
      "   macro avg       0.91      0.83      0.86    468396\n",
      "weighted avg       0.92      0.92      0.91    468396\n",
      "\n",
      "-------------------------------------------------------------------------------------------------\n",
      "\n",
      " Confusion Matrix :- \n",
      "[[364634   7455]\n",
      " [ 30659  65648]]\n"
     ]
    }
   ],
   "source": [
    "y_pred_gradientboost_SMOTE = gradient_boost_model.predict(X_test)\n",
    "print(\"Gradient Booster Clasifier Train Accuracy : {} %\".format(gradient_boost_clf_SMOTE.score(X_train,\n",
    "                                                                                               y_train)*100))\n",
    "print(\"\\nGradient Booster Clasifier Test Accuracy : {} %\".format(sklearn.metrics.accuracy_score(y_test, \n",
    "                                                                                               y_pred_gradientboost_SMOTE)*100))\n",
    "print(\"-------------------------------------------------------------------------------------------------\")\n",
    "print(\"\\nClassification Report : \\n {}\".format(sklearn.metrics.classification_report(y_test, \n",
    "                                                                                     y_pred_gradientboost_SMOTE)))\n",
    "print(\"-------------------------------------------------------------------------------------------------\")\n",
    "print(\"\\n Confusion Matrix :- \\n{}\".format(sklearn.metrics.confusion_matrix(y_test,\n",
    "                                                                            y_pred_gradientboost_SMOTE)))"
   ]
  },
  {
   "cell_type": "markdown",
   "metadata": {},
   "source": [
    "## Bagging Classiifier\n",
    "A Bagging classifier is an ensemble meta-estimator that fits base classifiers each on random subsets of the original dataset and then aggregate their individual predictions (either by voting or by averaging) to form a final prediction. Such  meta-estimator can typically be used as a way to reduce the variance of a black-box estimator (e.g., a decision tree), by introducing randomization into its construction procedure and then making an ensemble out of it."
   ]
  },
  {
   "cell_type": "code",
   "execution_count": 43,
   "metadata": {},
   "outputs": [],
   "source": [
    "from sklearn.ensemble import BaggingClassifier"
   ]
  },
  {
   "cell_type": "code",
   "execution_count": 44,
   "metadata": {},
   "outputs": [],
   "source": [
    "# The default type of a bagging classifier is a decision tree\n",
    "bagging_model = BaggingClassifier(n_estimators=10, random_state=0)\n",
    "bagging_classifier_SMOTE = bagging_model.fit(X_train, y_train)"
   ]
  },
  {
   "cell_type": "code",
   "execution_count": 45,
   "metadata": {
    "scrolled": true
   },
   "outputs": [
    {
     "name": "stdout",
     "output_type": "stream",
     "text": [
      "Bagging Clasifier Train Accuracy : 99.72815025462785 %\n",
      "\n",
      "Bagging Clasifier Test Accuracy : 97.04651619569766 %\n",
      "-------------------------------------------------------------------------------------------------\n",
      "\n",
      "Classification Report : \n",
      "               precision    recall  f1-score   support\n",
      "\n",
      "         0.0       0.97      0.99      0.98    372089\n",
      "         1.0       0.97      0.88      0.92     96307\n",
      "\n",
      "    accuracy                           0.97    468396\n",
      "   macro avg       0.97      0.94      0.95    468396\n",
      "weighted avg       0.97      0.97      0.97    468396\n",
      "\n",
      "-------------------------------------------------------------------------------------------------\n",
      "\n",
      " Confusion Matrix :- \n",
      "[[369396   2693]\n",
      " [ 11141  85166]]\n"
     ]
    }
   ],
   "source": [
    "y_pred_bagging_SMOTE = bagging_model.predict(X_test)\n",
    "print(\"Bagging Clasifier Train Accuracy : {} %\".format(bagging_classifier_SMOTE.score(X_train,\n",
    "                                                                                      y_train)*100))\n",
    "print(\"\\nBagging Clasifier Test Accuracy : {} %\".format(sklearn.metrics.accuracy_score(y_test,\n",
    "                                                                               y_pred_bagging_SMOTE)*100))\n",
    "print(\"-------------------------------------------------------------------------------------------------\")\n",
    "print(\"\\nClassification Report : \\n {}\".format(sklearn.metrics.classification_report(y_test, \n",
    "                                                                                     y_pred_bagging_SMOTE)))\n",
    "print(\"-------------------------------------------------------------------------------------------------\")\n",
    "print(\"\\n Confusion Matrix :- \\n{}\".format(sklearn.metrics.confusion_matrix(y_test, \n",
    "                                                                            y_pred_bagging_SMOTE)))"
   ]
  },
  {
   "cell_type": "markdown",
   "metadata": {},
   "source": [
    "### XGBoost Classifier\n",
    "XGBoost is a decision-tree-based ensemble Machine Learning algorithm that uses a gradient boosting framework"
   ]
  },
  {
   "cell_type": "code",
   "execution_count": 78,
   "metadata": {},
   "outputs": [],
   "source": [
    "from xgboost import XGBClassifier\n",
    "xgboost_model = XGBClassifier()\n",
    "xgboost_classifier_SMOTE = xgboost_model.fit(X_train_SMOTE, y_train_SMOTE)"
   ]
  },
  {
   "cell_type": "code",
   "execution_count": 79,
   "metadata": {},
   "outputs": [
    {
     "name": "stdout",
     "output_type": "stream",
     "text": [
      "XGBoost Clasifier Train Accuracy : 92.34085239969727 %\n",
      "\n",
      "XGBoost Clasifier Test Accuracy : 91.79070700859955 %\n",
      "-------------------------------------------------------------------------------------------------\n",
      "\n",
      "Classification Report : \n",
      "               precision    recall  f1-score   support\n",
      "\n",
      "         0.0       0.93      0.97      0.95    372089\n",
      "         1.0       0.85      0.73      0.79     96307\n",
      "\n",
      "    accuracy                           0.92    468396\n",
      "   macro avg       0.89      0.85      0.87    468396\n",
      "weighted avg       0.92      0.92      0.92    468396\n",
      "\n",
      "-------------------------------------------------------------------------------------------------\n",
      "\n",
      " Confusion Matrix :- \n",
      "[[359732  12357]\n",
      " [ 26095  70212]]\n"
     ]
    }
   ],
   "source": [
    "y_pred_xgboost_SMOTE = xgboost_model.predict(X_test)\n",
    "print(\"XGBoost Clasifier Train Accuracy : {} %\".format(xgboost_classifier_SMOTE.score(X_train_SMOTE, \n",
    "                                                                                           y_train_SMOTE)*100))\n",
    "print(\"\\nXGBoost Clasifier Test Accuracy : {} %\".format(sklearn.metrics.accuracy_score(y_test, \n",
    "                                                                                              y_pred_xgboost_SMOTE)*100))\n",
    "print(\"-------------------------------------------------------------------------------------------------\")\n",
    "print(\"\\nClassification Report : \\n {}\".format(sklearn.metrics.classification_report(y_test, \n",
    "                                                                                     y_pred_xgboost_SMOTE)))\n",
    "print(\"-------------------------------------------------------------------------------------------------\")\n",
    "print(\"\\n Confusion Matrix :- \\n{}\".format(sklearn.metrics.confusion_matrix(y_test, \n",
    "                                                                            y_pred_xgboost_SMOTE)))"
   ]
  },
  {
   "cell_type": "markdown",
   "metadata": {},
   "source": [
    " "
   ]
  },
  {
   "cell_type": "markdown",
   "metadata": {},
   "source": [
    " "
   ]
  },
  {
   "cell_type": "markdown",
   "metadata": {},
   "source": [
    " "
   ]
  },
  {
   "cell_type": "markdown",
   "metadata": {},
   "source": [
    " "
   ]
  },
  {
   "cell_type": "markdown",
   "metadata": {},
   "source": [
    " "
   ]
  },
  {
   "cell_type": "markdown",
   "metadata": {},
   "source": [
    "## Considering Random Undersampling"
   ]
  },
  {
   "cell_type": "code",
   "execution_count": 46,
   "metadata": {},
   "outputs": [
    {
     "name": "stdout",
     "output_type": "stream",
     "text": [
      "Original Number of values: \n",
      "0.0    1116495\n",
      "1.0     288693\n",
      "Name: ArrDel15, dtype: int64\n"
     ]
    }
   ],
   "source": [
    "# Looking at the original value counts\n",
    "print(\"Original Number of values: \\n{}\".format(y_train.value_counts()))"
   ]
  },
  {
   "cell_type": "code",
   "execution_count": 47,
   "metadata": {
    "scrolled": true
   },
   "outputs": [
    {
     "name": "stdout",
     "output_type": "stream",
     "text": [
      "Values after Random Under Sampling: \n",
      "1.0    288693\n",
      "0.0    288693\n",
      "Name: ArrDel15, dtype: int64\n"
     ]
    }
   ],
   "source": [
    "from imblearn.under_sampling import RandomUnderSampler\n",
    "random_under_sampler = RandomUnderSampler(random_state = 285)\n",
    "X_train_RUS, y_train_RUS = random_under_sampler.fit_resample(X_train,y_train)\n",
    "print(\"Values after Random Under Sampling: \\n{}\".format(y_train_RUS.value_counts()))"
   ]
  },
  {
   "cell_type": "markdown",
   "metadata": {},
   "source": [
    "## Logistic Regression\n",
    "Logistic regression is a statistical model that in its basic form uses a logistic function to model a binary dependent variable, although many more complex extensions exist. In regression analysis, logistic regression (or logit regression) is estimating the parameters of a logistic model (a form of binary regression)"
   ]
  },
  {
   "cell_type": "code",
   "execution_count": 48,
   "metadata": {},
   "outputs": [],
   "source": [
    "from sklearn.linear_model import LogisticRegression"
   ]
  },
  {
   "cell_type": "code",
   "execution_count": 49,
   "metadata": {},
   "outputs": [],
   "source": [
    "logistic_model = LogisticRegression(max_iter=500000)\n",
    "logistic_classifier_RUS = logistic_model.fit(X_train_RUS, y_train_RUS)"
   ]
  },
  {
   "cell_type": "code",
   "execution_count": 50,
   "metadata": {},
   "outputs": [
    {
     "name": "stdout",
     "output_type": "stream",
     "text": [
      "Logistic regression Train Accuracy : 85.33944363043095 %\n",
      "\n",
      "Logistic regression Test Accuracy : 89.65725582626666 %\n",
      "-------------------------------------------------------------------------------------------------\n",
      "\n",
      "Classification Report : \n",
      "               precision    recall  f1-score   support\n",
      "\n",
      "         0.0       0.94      0.93      0.93    372089\n",
      "         1.0       0.73      0.78      0.76     96307\n",
      "\n",
      "    accuracy                           0.90    468396\n",
      "   macro avg       0.84      0.85      0.85    468396\n",
      "weighted avg       0.90      0.90      0.90    468396\n",
      "\n",
      "-------------------------------------------------------------------------------------------------\n",
      "\n",
      " Confusion Matrix :- \n",
      "[[344935  27154]\n",
      " [ 21291  75016]]\n"
     ]
    }
   ],
   "source": [
    "y_pred_logistic_RUS = logistic_model.predict(X_test)\n",
    "print(\"Logistic regression Train Accuracy : {} %\".format(logistic_classifier_RUS.score(X_train_RUS, \n",
    "                                                                                   y_train_RUS)*100))\n",
    "print(\"\\nLogistic regression Test Accuracy : {} %\".format(sklearn.metrics.accuracy_score(y_test, \n",
    "                                                                                 y_pred_logistic_RUS)*100))\n",
    "print(\"-------------------------------------------------------------------------------------------------\")\n",
    "print(\"\\nClassification Report : \\n {}\".format(sklearn.metrics.classification_report(y_test, \n",
    "                                                                                     y_pred_logistic_RUS)))\n",
    "print(\"-------------------------------------------------------------------------------------------------\")\n",
    "print(\"\\n Confusion Matrix :- \\n{}\".format(sklearn.metrics.confusion_matrix(y_test, \n",
    "                                                                            y_pred_logistic_RUS)))"
   ]
  },
  {
   "cell_type": "markdown",
   "metadata": {},
   "source": [
    "## Random Forest\n",
    "Random forests or random decision forests are an ensemble learning method for classification, regression and other tasks that operate by constructing a multitude of decision trees at training time and outputting the class that is the mode of the classes or mean prediction of the individual trees."
   ]
  },
  {
   "cell_type": "code",
   "execution_count": 51,
   "metadata": {},
   "outputs": [],
   "source": [
    "from sklearn.ensemble import RandomForestClassifier"
   ]
  },
  {
   "cell_type": "code",
   "execution_count": 52,
   "metadata": {},
   "outputs": [],
   "source": [
    "random_forest_model = RandomForestClassifier()\n",
    "random_forest_classifier_RUS = random_forest_model.fit(X_train_RUS, y_train_RUS)"
   ]
  },
  {
   "cell_type": "code",
   "execution_count": 53,
   "metadata": {},
   "outputs": [
    {
     "name": "stdout",
     "output_type": "stream",
     "text": [
      "Random Forest Clasifier Train Accuracy : 99.9993072225513 %\n",
      "\n",
      "Random Forest Clasifier Test Accuracy : 94.24888342342804 %\n",
      "-------------------------------------------------------------------------------------------------\n",
      "\n",
      "Classification Report : \n",
      "               precision    recall  f1-score   support\n",
      "\n",
      "         0.0       0.99      0.94      0.96    372089\n",
      "         1.0       0.81      0.95      0.87     96307\n",
      "\n",
      "    accuracy                           0.94    468396\n",
      "   macro avg       0.90      0.94      0.92    468396\n",
      "weighted avg       0.95      0.94      0.94    468396\n",
      "\n",
      "-------------------------------------------------------------------------------------------------\n",
      "\n",
      " Confusion Matrix :- \n",
      "[[350120  21969]\n",
      " [  4969  91338]]\n"
     ]
    }
   ],
   "source": [
    "y_pred_randomforest_RUS = random_forest_model.predict(X_test)\n",
    "print(\"Random Forest Clasifier Train Accuracy : {} %\".format(random_forest_classifier_RUS.score(X_train_RUS,\n",
    "                                                                                            y_train_RUS)*100))\n",
    "print(\"\\nRandom Forest Clasifier Test Accuracy : {} %\".format(sklearn.metrics.accuracy_score(y_test, \n",
    "                                                                                     y_pred_randomforest_RUS)*100))\n",
    "print(\"-------------------------------------------------------------------------------------------------\")\n",
    "print(\"\\nClassification Report : \\n {}\".format(sklearn.metrics.classification_report(y_test, \n",
    "                                                                                     y_pred_randomforest_RUS)))\n",
    "print(\"-------------------------------------------------------------------------------------------------\")\n",
    "print(\"\\n Confusion Matrix :- \\n{}\".format(sklearn.metrics.confusion_matrix(y_test, \n",
    "                                                                            y_pred_randomforest_RUS)))"
   ]
  },
  {
   "cell_type": "markdown",
   "metadata": {},
   "source": [
    "## Extra trees Classifier\n",
    "Extremely Randomized Trees Classifier(Extra Trees Classifier) is a type of ensemble learning technique which aggregates the results of multiple de-correlated decision trees collected in a “forest” to output it's classification result"
   ]
  },
  {
   "cell_type": "code",
   "execution_count": 54,
   "metadata": {},
   "outputs": [],
   "source": [
    "from sklearn.ensemble import ExtraTreesClassifier"
   ]
  },
  {
   "cell_type": "code",
   "execution_count": 55,
   "metadata": {},
   "outputs": [],
   "source": [
    "extra_trees_model = ExtraTreesClassifier()\n",
    "extra_trees_classifier_RUS = extra_trees_model.fit(X_train_RUS, y_train_RUS)"
   ]
  },
  {
   "cell_type": "code",
   "execution_count": 56,
   "metadata": {},
   "outputs": [
    {
     "name": "stdout",
     "output_type": "stream",
     "text": [
      "Extra trees Clasifier Train Accuracy : 99.99982680563782 %\n",
      "\n",
      "Extra trees  Clasifier Test Accuracy : 94.11544932066029 %\n",
      "-------------------------------------------------------------------------------------------------\n",
      "\n",
      "Classification Report : \n",
      "               precision    recall  f1-score   support\n",
      "\n",
      "         0.0       0.99      0.94      0.96    372089\n",
      "         1.0       0.80      0.95      0.87     96307\n",
      "\n",
      "    accuracy                           0.94    468396\n",
      "   macro avg       0.89      0.94      0.92    468396\n",
      "weighted avg       0.95      0.94      0.94    468396\n",
      "\n",
      "-------------------------------------------------------------------------------------------------\n",
      "\n",
      " Confusion Matrix :- \n",
      "[[349634  22455]\n",
      " [  5108  91199]]\n"
     ]
    }
   ],
   "source": [
    "y_pred_extratrees_RUS = extra_trees_model.predict(X_test)\n",
    "print(\"Extra trees Clasifier Train Accuracy : {} %\".format(extra_trees_classifier.score(X_train_RUS,\n",
    "                                                                                        y_train_RUS)*100))\n",
    "print(\"\\nExtra trees  Clasifier Test Accuracy : {} %\".format(sklearn.metrics.accuracy_score(y_test,\n",
    "                                                                                    y_pred_extratrees_RUS)*100))\n",
    "print(\"-------------------------------------------------------------------------------------------------\")\n",
    "print(\"\\nClassification Report : \\n {}\".format(sklearn.metrics.classification_report(y_test, \n",
    "                                                                                     y_pred_extratrees_RUS)))\n",
    "print(\"-------------------------------------------------------------------------------------------------\")\n",
    "print(\"\\n Confusion Matrix :- \\n{}\".format(sklearn.metrics.confusion_matrix(y_test, \n",
    "                                                                            y_pred_extratrees_RUS)))"
   ]
  },
  {
   "cell_type": "markdown",
   "metadata": {},
   "source": [
    "## Decision trees Classifier\n",
    "The decision tree classifier creates the classification model by building a decision tree. Each node in the tree specifies a test on an attribute, each branch descending from that node corresponds to one of the possible values for that attribute."
   ]
  },
  {
   "cell_type": "code",
   "execution_count": 57,
   "metadata": {},
   "outputs": [],
   "source": [
    "from sklearn.tree import DecisionTreeClassifier"
   ]
  },
  {
   "cell_type": "code",
   "execution_count": 58,
   "metadata": {},
   "outputs": [],
   "source": [
    "decision_trees_model = DecisionTreeClassifier()\n",
    "decision_trees_classifier_RUS = decision_trees_model.fit(X_train_RUS, y_train_RUS)"
   ]
  },
  {
   "cell_type": "code",
   "execution_count": 59,
   "metadata": {},
   "outputs": [
    {
     "name": "stdout",
     "output_type": "stream",
     "text": [
      "Decision Trees Clasifier Train Accuracy : 100.0 %\n",
      "\n",
      "Decision Trees Clasifier Test Accuracy : 94.11544932066029 %\n",
      "-------------------------------------------------------------------------------------------------\n",
      "\n",
      "Classification Report : \n",
      "               precision    recall  f1-score   support\n",
      "\n",
      "         0.0       0.99      0.94      0.96    372089\n",
      "         1.0       0.80      0.95      0.87     96307\n",
      "\n",
      "    accuracy                           0.94    468396\n",
      "   macro avg       0.89      0.94      0.92    468396\n",
      "weighted avg       0.95      0.94      0.94    468396\n",
      "\n",
      "-------------------------------------------------------------------------------------------------\n",
      "\n",
      " Confusion Matrix :- \n",
      "[[349634  22455]\n",
      " [  5108  91199]]\n"
     ]
    }
   ],
   "source": [
    "y_pred_decisiontrees_RUS = extra_trees_model.predict(X_test)\n",
    "print(\"Decision Trees Clasifier Train Accuracy : {} %\".format(extra_trees_classifier_RUS.score(X_train_RUS,\n",
    "                                                                                           y_train_RUS)*100))\n",
    "print(\"\\nDecision Trees Clasifier Test Accuracy : {} %\".format(sklearn.metrics.accuracy_score(y_test,\n",
    "                                                                                      y_pred_decisiontrees_RUS)*100))\n",
    "print(\"-------------------------------------------------------------------------------------------------\")\n",
    "print(\"\\nClassification Report : \\n {}\".format(sklearn.metrics.classification_report(y_test, \n",
    "                                                                                     y_pred_decisiontrees_RUS)))\n",
    "print(\"-------------------------------------------------------------------------------------------------\")\n",
    "print(\"\\n Confusion Matrix :- \\n{}\".format(sklearn.metrics.confusion_matrix(y_test, \n",
    "                                                                            y_pred_decisiontrees_RUS)))"
   ]
  },
  {
   "cell_type": "markdown",
   "metadata": {},
   "source": [
    "## Gradient Booster Classifier\n",
    "Gradient boosting is a machine learning technique for regression and classification problems, which produces a prediction model in the form of an ensemble of weak prediction models, typically decision trees."
   ]
  },
  {
   "cell_type": "code",
   "execution_count": 60,
   "metadata": {},
   "outputs": [],
   "source": [
    "from sklearn.ensemble import GradientBoostingClassifier"
   ]
  },
  {
   "cell_type": "code",
   "execution_count": 61,
   "metadata": {},
   "outputs": [],
   "source": [
    "gradient_boost_model = GradientBoostingClassifier(random_state=0)\n",
    "gradient_boost_clf_RUS = gradient_boost_model.fit(X_train_RUS, y_train_RUS)"
   ]
  },
  {
   "cell_type": "code",
   "execution_count": 62,
   "metadata": {},
   "outputs": [
    {
     "name": "stdout",
     "output_type": "stream",
     "text": [
      "Gradient Booster Clasifier Train Accuracy : 83.12809801415344 %\n",
      "\n",
      "Gradient Booster Clasifier Test Accuracy : 89.59918530474215 %\n",
      "-------------------------------------------------------------------------------------------------\n",
      "\n",
      "Classification Report : \n",
      "               precision    recall  f1-score   support\n",
      "\n",
      "         0.0       0.94      0.92      0.93    372089\n",
      "         1.0       0.73      0.79      0.76     96307\n",
      "\n",
      "    accuracy                           0.90    468396\n",
      "   macro avg       0.84      0.86      0.85    468396\n",
      "weighted avg       0.90      0.90      0.90    468396\n",
      "\n",
      "-------------------------------------------------------------------------------------------------\n",
      "\n",
      " Confusion Matrix :- \n",
      "[[343917  28172]\n",
      " [ 20545  75762]]\n"
     ]
    }
   ],
   "source": [
    "y_pred_gradientboost_RUS = gradient_boost_model.predict(X_test)\n",
    "print(\"Gradient Booster Clasifier Train Accuracy : {} %\".format(gradient_boost_clf.score(X_train_RUS,\n",
    "                                                                                         y_train_RUS)*100))\n",
    "print(\"\\nGradient Booster Clasifier Test Accuracy : {} %\".format(sklearn.metrics.accuracy_score(y_test,\n",
    "                                                                                        y_pred_gradientboost_RUS)*100))\n",
    "print(\"-------------------------------------------------------------------------------------------------\")\n",
    "print(\"\\nClassification Report : \\n {}\".format(sklearn.metrics.classification_report(y_test, \n",
    "                                                                                     y_pred_gradientboost_RUS)))\n",
    "print(\"-------------------------------------------------------------------------------------------------\")\n",
    "print(\"\\n Confusion Matrix :- \\n{}\".format(sklearn.metrics.confusion_matrix(y_test, \n",
    "                                                                            y_pred_gradientboost_RUS)))"
   ]
  },
  {
   "cell_type": "markdown",
   "metadata": {},
   "source": [
    "## Bagging Classiifier\n",
    "A Bagging classifier is an ensemble meta-estimator that fits base classifiers each on random subsets of the original dataset and then aggregate their individual predictions (either by voting or by averaging) to form a final prediction. Such  meta-estimator can typically be used as a way to reduce the variance of a black-box estimator (e.g., a decision tree), by introducing randomization into its construction procedure and then making an ensemble out of it."
   ]
  },
  {
   "cell_type": "code",
   "execution_count": 63,
   "metadata": {},
   "outputs": [],
   "source": [
    "from sklearn.ensemble import BaggingClassifier"
   ]
  },
  {
   "cell_type": "code",
   "execution_count": 64,
   "metadata": {},
   "outputs": [],
   "source": [
    "# The default type of a bagging classifier is a decision tree\n",
    "bagging_model = BaggingClassifier(n_estimators=10, random_state=0)\n",
    "bagging_classifier_RUS = bagging_model.fit(X_train_RUS, y_train_RUS)"
   ]
  },
  {
   "cell_type": "code",
   "execution_count": 65,
   "metadata": {},
   "outputs": [
    {
     "name": "stdout",
     "output_type": "stream",
     "text": [
      "Bagging Clasifier Train Accuracy : 99.3617787753773 %\n",
      "\n",
      "Bagging Clasifier Test Accuracy : 94.24888342342804 %\n",
      "-------------------------------------------------------------------------------------------------\n",
      "\n",
      "Classification Report : \n",
      "               precision    recall  f1-score   support\n",
      "\n",
      "         0.0       0.98      0.94      0.96    372089\n",
      "         1.0       0.79      0.92      0.85     96307\n",
      "\n",
      "    accuracy                           0.93    468396\n",
      "   macro avg       0.88      0.93      0.90    468396\n",
      "weighted avg       0.94      0.93      0.93    468396\n",
      "\n",
      "-------------------------------------------------------------------------------------------------\n",
      "\n",
      " Confusion Matrix :- \n",
      "[[347999  24090]\n",
      " [  7399  88908]]\n"
     ]
    }
   ],
   "source": [
    "y_pred_bagging_RUS = bagging_model.predict(X_test)\n",
    "print(\"Bagging Clasifier Train Accuracy : {} %\".format(bagging_classifier.score(X_train_RUS,\n",
    "                                                                                y_train_RUS)*100))\n",
    "print(\"\\nBagging Clasifier Test Accuracy : {} %\".format(sklearn.metrics.accuracy_score(y_test,\n",
    "                                                                               y_pred_randomforest_RUS)*100))\n",
    "print(\"-------------------------------------------------------------------------------------------------\")\n",
    "print(\"\\nClassification Report : \\n {}\".format(sklearn.metrics.classification_report(y_test, \n",
    "                                                                                     y_pred_bagging_RUS)))\n",
    "print(\"-------------------------------------------------------------------------------------------------\")\n",
    "print(\"\\n Confusion Matrix :- \\n{}\".format(sklearn.metrics.confusion_matrix(y_test, \n",
    "                                                                            y_pred_bagging_RUS)))"
   ]
  },
  {
   "cell_type": "markdown",
   "metadata": {},
   "source": [
    "### XGBoost Classifier\n",
    "XGBoost is a decision-tree-based ensemble Machine Learning algorithm that uses a gradient boosting framework"
   ]
  },
  {
   "cell_type": "code",
   "execution_count": 72,
   "metadata": {},
   "outputs": [],
   "source": [
    "from xgboost import XGBClassifier\n",
    "xgboost_model = XGBClassifier()\n",
    "xgboost_classifier_RUS = xgboost_model.fit(X_train_RUS, y_train_RUS)"
   ]
  },
  {
   "cell_type": "code",
   "execution_count": 77,
   "metadata": {},
   "outputs": [
    {
     "name": "stdout",
     "output_type": "stream",
     "text": [
      "XGBoost Clasifier Train Accuracy : 86.76743114658132 %\n",
      "\n",
      "XGBoost Clasifier Test Accuracy : 89.82100615718323 %\n",
      "-------------------------------------------------------------------------------------------------\n",
      "\n",
      "Classification Report : \n",
      "               precision    recall  f1-score   support\n",
      "\n",
      "         0.0       0.95      0.92      0.94    372089\n",
      "         1.0       0.73      0.80      0.76     96307\n",
      "\n",
      "    accuracy                           0.90    468396\n",
      "   macro avg       0.84      0.86      0.85    468396\n",
      "weighted avg       0.90      0.90      0.90    468396\n",
      "\n",
      "-------------------------------------------------------------------------------------------------\n",
      "\n",
      " Confusion Matrix :- \n",
      "[[343461  28628]\n",
      " [ 19050  77257]]\n"
     ]
    }
   ],
   "source": [
    "y_pred_xgboost_RUS = xgboost_model.predict(X_test)\n",
    "print(\"XGBoost Clasifier Train Accuracy : {} %\".format(xgboost_classifier_RUS.score(X_train_RUS, \n",
    "                                                                                           y_train_RUS)*100))\n",
    "print(\"\\nXGBoost Clasifier Test Accuracy : {} %\".format(sklearn.metrics.accuracy_score(y_test, \n",
    "                                                                                              y_pred_xgboost_RUS)*100))\n",
    "print(\"-------------------------------------------------------------------------------------------------\")\n",
    "print(\"\\nClassification Report : \\n {}\".format(sklearn.metrics.classification_report(y_test, \n",
    "                                                                                     y_pred_xgboost_RUS)))\n",
    "print(\"-------------------------------------------------------------------------------------------------\")\n",
    "print(\"\\n Confusion Matrix :- \\n{}\".format(sklearn.metrics.confusion_matrix(y_test, \n",
    "                                                                            y_pred_xgboost_RUS)))"
   ]
  }
 ],
 "metadata": {
  "kernelspec": {
   "display_name": "Python 3",
   "language": "python",
   "name": "python3"
  },
  "language_info": {
   "codemirror_mode": {
    "name": "ipython",
    "version": 3
   },
   "file_extension": ".py",
   "mimetype": "text/x-python",
   "name": "python",
   "nbconvert_exporter": "python",
   "pygments_lexer": "ipython3",
   "version": "3.7.6"
  }
 },
 "nbformat": 4,
 "nbformat_minor": 4
}
