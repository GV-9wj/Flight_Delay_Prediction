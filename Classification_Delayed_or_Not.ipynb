{
 "cells": [
  {
   "cell_type": "markdown",
   "metadata": {},
   "source": [
    "# Classification Module\n",
    "Within this module we will predict if the flight is going to be delayed or not and classify them into those two categories\n",
    "\n",
    "We will first work with unsampled data from the previous module [Data-Preprocessing, merging the flight data and weather data](https://github.com/GV-9wj/Flight_Delay_Prediction/blob/master/Datapreprocessing3_Merging_Data.ipynb).\n",
    "\n",
    "After we have seen the classification reports for these modules we will move onto sampled data. We will work with Undersampling and oversampling(SMOTE).\n",
    "\n",
    "#### Objectives:\n",
    "1. To classify the given flight as delayed or not using classification models.\n",
    "2. Run the classification models on unsampled data and print the report for each model.\n",
    "3. Run the classification models on undersampled data and print the report for each model.\n",
    "4. Run the classification models on oversampled data and print the report for each model.\n",
    "\n",
    "#### Classification models used:\n",
    "1. Logistic regression : [LOOKUP](https://scikit-learn.org/stable/modules/generated/sklearn.linear_model.LogisticRegression.html)\n",
    "2. Random Forest : [LOOKUP](https://scikit-learn.org/stable/modules/generated/sklearn.ensemble.RandomForestClassifier.html)\n",
    "3. Extra trees : [LOOKUP](https://scikit-learn.org/stable/modules/generated/sklearn.ensemble.ExtraTreesClassifier.html)\n",
    "4. Decision Trees : [LOOKUP](https://scikit-learn.org/stable/modules/tree.html)\n",
    "5. Gradient Boosting Classifier : [LOOKUP](https://scikit-learn.org/stable/modules/generated/sklearn.ensemble.GradientBoostingClassifier.html)\n",
    "6. XGboost Classifier : [LOOKUP](https://xgboost.readthedocs.io/en/latest/python/python_api.html)"
   ]
  },
  {
   "cell_type": "code",
   "execution_count": 1,
   "metadata": {},
   "outputs": [],
   "source": [
    "# First let us import all the different libraries that we need\n",
    "import pandas as pd\n",
    "import numpy as np\n",
    "import matplotlib.pyplot as plt\n",
    "import seaborn as sns"
   ]
  },
  {
   "cell_type": "markdown",
   "metadata": {},
   "source": [
    "#### Looking at the dataframe\n",
    "Let us look at the dataframe for a little bit of insight into the data"
   ]
  },
  {
   "cell_type": "code",
   "execution_count": 2,
   "metadata": {},
   "outputs": [
    {
     "name": "stderr",
     "output_type": "stream",
     "text": [
      "C:\\Users\\HP\\anaconda3\\lib\\site-packages\\numpy\\lib\\arraysetops.py:569: FutureWarning: elementwise comparison failed; returning scalar instead, but in the future will perform elementwise comparison\n",
      "  mask |= (ar1 == a)\n"
     ]
    },
    {
     "data": {
      "text/html": [
       "<div>\n",
       "<style scoped>\n",
       "    .dataframe tbody tr th:only-of-type {\n",
       "        vertical-align: middle;\n",
       "    }\n",
       "\n",
       "    .dataframe tbody tr th {\n",
       "        vertical-align: top;\n",
       "    }\n",
       "\n",
       "    .dataframe thead th {\n",
       "        text-align: right;\n",
       "    }\n",
       "</style>\n",
       "<table border=\"1\" class=\"dataframe\">\n",
       "  <thead>\n",
       "    <tr style=\"text-align: right;\">\n",
       "      <th></th>\n",
       "      <th>index_x</th>\n",
       "      <th>ArrDel15</th>\n",
       "      <th>ArrDelayMinutes</th>\n",
       "      <th>ArrTime</th>\n",
       "      <th>CRSArrTime</th>\n",
       "      <th>CRSDepTime</th>\n",
       "      <th>DayofMonth</th>\n",
       "      <th>DepDel15</th>\n",
       "      <th>DepDelayMinutes</th>\n",
       "      <th>DepTime</th>\n",
       "      <th>...</th>\n",
       "      <th>pressure</th>\n",
       "      <th>cloudcover</th>\n",
       "      <th>DewPointF</th>\n",
       "      <th>WindGustKmph</th>\n",
       "      <th>tempF</th>\n",
       "      <th>WindChillF</th>\n",
       "      <th>humidity</th>\n",
       "      <th>time</th>\n",
       "      <th>date</th>\n",
       "      <th>airport</th>\n",
       "    </tr>\n",
       "  </thead>\n",
       "  <tbody>\n",
       "    <tr>\n",
       "      <th>0</th>\n",
       "      <td>0</td>\n",
       "      <td>0.0</td>\n",
       "      <td>8.0</td>\n",
       "      <td>1610.0</td>\n",
       "      <td>1602</td>\n",
       "      <td>745</td>\n",
       "      <td>1</td>\n",
       "      <td>0.0</td>\n",
       "      <td>0.0</td>\n",
       "      <td>741.0</td>\n",
       "      <td>...</td>\n",
       "      <td>1030</td>\n",
       "      <td>0</td>\n",
       "      <td>23</td>\n",
       "      <td>8</td>\n",
       "      <td>34</td>\n",
       "      <td>29</td>\n",
       "      <td>65</td>\n",
       "      <td>800</td>\n",
       "      <td>2016-01-01</td>\n",
       "      <td>SEA</td>\n",
       "    </tr>\n",
       "    <tr>\n",
       "      <th>1</th>\n",
       "      <td>12608</td>\n",
       "      <td>1.0</td>\n",
       "      <td>33.0</td>\n",
       "      <td>1237.0</td>\n",
       "      <td>1204</td>\n",
       "      <td>820</td>\n",
       "      <td>1</td>\n",
       "      <td>0.0</td>\n",
       "      <td>1.0</td>\n",
       "      <td>821.0</td>\n",
       "      <td>...</td>\n",
       "      <td>1030</td>\n",
       "      <td>0</td>\n",
       "      <td>23</td>\n",
       "      <td>8</td>\n",
       "      <td>34</td>\n",
       "      <td>29</td>\n",
       "      <td>65</td>\n",
       "      <td>800</td>\n",
       "      <td>2016-01-01</td>\n",
       "      <td>SEA</td>\n",
       "    </tr>\n",
       "    <tr>\n",
       "      <th>2</th>\n",
       "      <td>50768</td>\n",
       "      <td>0.0</td>\n",
       "      <td>0.0</td>\n",
       "      <td>1138.0</td>\n",
       "      <td>1143</td>\n",
       "      <td>759</td>\n",
       "      <td>1</td>\n",
       "      <td>0.0</td>\n",
       "      <td>0.0</td>\n",
       "      <td>754.0</td>\n",
       "      <td>...</td>\n",
       "      <td>1030</td>\n",
       "      <td>0</td>\n",
       "      <td>23</td>\n",
       "      <td>8</td>\n",
       "      <td>34</td>\n",
       "      <td>29</td>\n",
       "      <td>65</td>\n",
       "      <td>800</td>\n",
       "      <td>2016-01-01</td>\n",
       "      <td>SEA</td>\n",
       "    </tr>\n",
       "    <tr>\n",
       "      <th>3</th>\n",
       "      <td>51023</td>\n",
       "      <td>0.0</td>\n",
       "      <td>10.0</td>\n",
       "      <td>1401.0</td>\n",
       "      <td>1351</td>\n",
       "      <td>738</td>\n",
       "      <td>1</td>\n",
       "      <td>0.0</td>\n",
       "      <td>2.0</td>\n",
       "      <td>740.0</td>\n",
       "      <td>...</td>\n",
       "      <td>1030</td>\n",
       "      <td>0</td>\n",
       "      <td>23</td>\n",
       "      <td>8</td>\n",
       "      <td>34</td>\n",
       "      <td>29</td>\n",
       "      <td>65</td>\n",
       "      <td>800</td>\n",
       "      <td>2016-01-01</td>\n",
       "      <td>SEA</td>\n",
       "    </tr>\n",
       "    <tr>\n",
       "      <th>4</th>\n",
       "      <td>61167</td>\n",
       "      <td>0.0</td>\n",
       "      <td>0.0</td>\n",
       "      <td>1524.0</td>\n",
       "      <td>1527</td>\n",
       "      <td>745</td>\n",
       "      <td>1</td>\n",
       "      <td>0.0</td>\n",
       "      <td>0.0</td>\n",
       "      <td>742.0</td>\n",
       "      <td>...</td>\n",
       "      <td>1030</td>\n",
       "      <td>0</td>\n",
       "      <td>23</td>\n",
       "      <td>8</td>\n",
       "      <td>34</td>\n",
       "      <td>29</td>\n",
       "      <td>65</td>\n",
       "      <td>800</td>\n",
       "      <td>2016-01-01</td>\n",
       "      <td>SEA</td>\n",
       "    </tr>\n",
       "  </tbody>\n",
       "</table>\n",
       "<p>5 rows × 34 columns</p>\n",
       "</div>"
      ],
      "text/plain": [
       "   index_x  ArrDel15  ArrDelayMinutes  ArrTime  CRSArrTime  CRSDepTime  \\\n",
       "0        0       0.0              8.0   1610.0        1602         745   \n",
       "1    12608       1.0             33.0   1237.0        1204         820   \n",
       "2    50768       0.0              0.0   1138.0        1143         759   \n",
       "3    51023       0.0             10.0   1401.0        1351         738   \n",
       "4    61167       0.0              0.0   1524.0        1527         745   \n",
       "\n",
       "   DayofMonth  DepDel15  DepDelayMinutes  DepTime  ...  pressure cloudcover  \\\n",
       "0           1       0.0              0.0    741.0  ...      1030          0   \n",
       "1           1       0.0              1.0    821.0  ...      1030          0   \n",
       "2           1       0.0              0.0    754.0  ...      1030          0   \n",
       "3           1       0.0              2.0    740.0  ...      1030          0   \n",
       "4           1       0.0              0.0    742.0  ...      1030          0   \n",
       "\n",
       "   DewPointF WindGustKmph  tempF  WindChillF  humidity  time        date  \\\n",
       "0         23            8     34          29        65   800  2016-01-01   \n",
       "1         23            8     34          29        65   800  2016-01-01   \n",
       "2         23            8     34          29        65   800  2016-01-01   \n",
       "3         23            8     34          29        65   800  2016-01-01   \n",
       "4         23            8     34          29        65   800  2016-01-01   \n",
       "\n",
       "   airport  \n",
       "0      SEA  \n",
       "1      SEA  \n",
       "2      SEA  \n",
       "3      SEA  \n",
       "4      SEA  \n",
       "\n",
       "[5 rows x 34 columns]"
      ]
     },
     "execution_count": 2,
     "metadata": {},
     "output_type": "execute_result"
    }
   ],
   "source": [
    "# Readinbg the file \n",
    "df = pd.read_csv(\"Data/Merged_Flight_Weather.csv\", index_col = 0)\n",
    "df.head()"
   ]
  },
  {
   "cell_type": "code",
   "execution_count": 3,
   "metadata": {},
   "outputs": [
    {
     "data": {
      "text/plain": [
       "Index(['index_x', 'ArrDel15', 'ArrDelayMinutes', 'ArrTime', 'CRSArrTime',\n",
       "       'CRSDepTime', 'DayofMonth', 'DepDel15', 'DepDelayMinutes', 'DepTime',\n",
       "       'DestAirportID', 'FlightDate', 'Month', 'Origin', 'OriginAirportID',\n",
       "       'Quarter', 'Year', 'DeptTime', 'index_y', 'windspeedKmph',\n",
       "       'winddirDegree', 'weatherCode', 'precipMM', 'visibility', 'pressure',\n",
       "       'cloudcover', 'DewPointF', 'WindGustKmph', 'tempF', 'WindChillF',\n",
       "       'humidity', 'time', 'date', 'airport'],\n",
       "      dtype='object')"
      ]
     },
     "execution_count": 3,
     "metadata": {},
     "output_type": "execute_result"
    }
   ],
   "source": [
    "# We look at the colums first then the shape\n",
    "df.columns"
   ]
  },
  {
   "cell_type": "code",
   "execution_count": 4,
   "metadata": {},
   "outputs": [
    {
     "data": {
      "text/plain": [
       "(1873584, 34)"
      ]
     },
     "execution_count": 4,
     "metadata": {},
     "output_type": "execute_result"
    }
   ],
   "source": [
    "# Now the shape of the dataframe\n",
    "df.shape"
   ]
  },
  {
   "cell_type": "code",
   "execution_count": 5,
   "metadata": {
    "scrolled": false
   },
   "outputs": [
    {
     "data": {
      "text/plain": [
       "index_x            0\n",
       "ArrDel15           0\n",
       "ArrDelayMinutes    0\n",
       "ArrTime            0\n",
       "CRSArrTime         0\n",
       "CRSDepTime         0\n",
       "DayofMonth         0\n",
       "DepDel15           0\n",
       "DepDelayMinutes    0\n",
       "DepTime            0\n",
       "DestAirportID      0\n",
       "FlightDate         0\n",
       "Month              0\n",
       "Origin             0\n",
       "OriginAirportID    0\n",
       "Quarter            0\n",
       "Year               0\n",
       "DeptTime           0\n",
       "index_y            0\n",
       "windspeedKmph      0\n",
       "winddirDegree      0\n",
       "weatherCode        0\n",
       "precipMM           0\n",
       "visibility         0\n",
       "pressure           0\n",
       "cloudcover         0\n",
       "DewPointF          0\n",
       "WindGustKmph       0\n",
       "tempF              0\n",
       "WindChillF         0\n",
       "humidity           0\n",
       "time               0\n",
       "date               0\n",
       "airport            0\n",
       "dtype: int64"
      ]
     },
     "execution_count": 5,
     "metadata": {},
     "output_type": "execute_result"
    }
   ],
   "source": [
    "# Check for missing values\n",
    "df.isna().sum()"
   ]
  },
  {
   "cell_type": "code",
   "execution_count": 6,
   "metadata": {},
   "outputs": [
    {
     "data": {
      "text/html": [
       "<div>\n",
       "<style scoped>\n",
       "    .dataframe tbody tr th:only-of-type {\n",
       "        vertical-align: middle;\n",
       "    }\n",
       "\n",
       "    .dataframe tbody tr th {\n",
       "        vertical-align: top;\n",
       "    }\n",
       "\n",
       "    .dataframe thead th {\n",
       "        text-align: right;\n",
       "    }\n",
       "</style>\n",
       "<table border=\"1\" class=\"dataframe\">\n",
       "  <thead>\n",
       "    <tr style=\"text-align: right;\">\n",
       "      <th></th>\n",
       "      <th>index_x</th>\n",
       "      <th>ArrDel15</th>\n",
       "      <th>CRSDepTime</th>\n",
       "      <th>DayofMonth</th>\n",
       "      <th>DepDel15</th>\n",
       "      <th>DepDelayMinutes</th>\n",
       "      <th>DepTime</th>\n",
       "      <th>DestAirportID</th>\n",
       "      <th>Month</th>\n",
       "      <th>Origin</th>\n",
       "      <th>...</th>\n",
       "      <th>visibility</th>\n",
       "      <th>pressure</th>\n",
       "      <th>cloudcover</th>\n",
       "      <th>DewPointF</th>\n",
       "      <th>WindGustKmph</th>\n",
       "      <th>tempF</th>\n",
       "      <th>WindChillF</th>\n",
       "      <th>humidity</th>\n",
       "      <th>time</th>\n",
       "      <th>airport</th>\n",
       "    </tr>\n",
       "  </thead>\n",
       "  <tbody>\n",
       "    <tr>\n",
       "      <th>0</th>\n",
       "      <td>0</td>\n",
       "      <td>0.0</td>\n",
       "      <td>745</td>\n",
       "      <td>1</td>\n",
       "      <td>0.0</td>\n",
       "      <td>0.0</td>\n",
       "      <td>741.0</td>\n",
       "      <td>12478</td>\n",
       "      <td>1</td>\n",
       "      <td>SEA</td>\n",
       "      <td>...</td>\n",
       "      <td>10</td>\n",
       "      <td>1030</td>\n",
       "      <td>0</td>\n",
       "      <td>23</td>\n",
       "      <td>8</td>\n",
       "      <td>34</td>\n",
       "      <td>29</td>\n",
       "      <td>65</td>\n",
       "      <td>800</td>\n",
       "      <td>SEA</td>\n",
       "    </tr>\n",
       "    <tr>\n",
       "      <th>1</th>\n",
       "      <td>12608</td>\n",
       "      <td>1.0</td>\n",
       "      <td>820</td>\n",
       "      <td>1</td>\n",
       "      <td>0.0</td>\n",
       "      <td>1.0</td>\n",
       "      <td>821.0</td>\n",
       "      <td>14107</td>\n",
       "      <td>1</td>\n",
       "      <td>SEA</td>\n",
       "      <td>...</td>\n",
       "      <td>10</td>\n",
       "      <td>1030</td>\n",
       "      <td>0</td>\n",
       "      <td>23</td>\n",
       "      <td>8</td>\n",
       "      <td>34</td>\n",
       "      <td>29</td>\n",
       "      <td>65</td>\n",
       "      <td>800</td>\n",
       "      <td>SEA</td>\n",
       "    </tr>\n",
       "    <tr>\n",
       "      <th>2</th>\n",
       "      <td>50768</td>\n",
       "      <td>0.0</td>\n",
       "      <td>759</td>\n",
       "      <td>1</td>\n",
       "      <td>0.0</td>\n",
       "      <td>0.0</td>\n",
       "      <td>754.0</td>\n",
       "      <td>11292</td>\n",
       "      <td>1</td>\n",
       "      <td>SEA</td>\n",
       "      <td>...</td>\n",
       "      <td>10</td>\n",
       "      <td>1030</td>\n",
       "      <td>0</td>\n",
       "      <td>23</td>\n",
       "      <td>8</td>\n",
       "      <td>34</td>\n",
       "      <td>29</td>\n",
       "      <td>65</td>\n",
       "      <td>800</td>\n",
       "      <td>SEA</td>\n",
       "    </tr>\n",
       "    <tr>\n",
       "      <th>3</th>\n",
       "      <td>51023</td>\n",
       "      <td>0.0</td>\n",
       "      <td>738</td>\n",
       "      <td>1</td>\n",
       "      <td>0.0</td>\n",
       "      <td>2.0</td>\n",
       "      <td>740.0</td>\n",
       "      <td>12266</td>\n",
       "      <td>1</td>\n",
       "      <td>SEA</td>\n",
       "      <td>...</td>\n",
       "      <td>10</td>\n",
       "      <td>1030</td>\n",
       "      <td>0</td>\n",
       "      <td>23</td>\n",
       "      <td>8</td>\n",
       "      <td>34</td>\n",
       "      <td>29</td>\n",
       "      <td>65</td>\n",
       "      <td>800</td>\n",
       "      <td>SEA</td>\n",
       "    </tr>\n",
       "    <tr>\n",
       "      <th>4</th>\n",
       "      <td>61167</td>\n",
       "      <td>0.0</td>\n",
       "      <td>745</td>\n",
       "      <td>1</td>\n",
       "      <td>0.0</td>\n",
       "      <td>0.0</td>\n",
       "      <td>742.0</td>\n",
       "      <td>10397</td>\n",
       "      <td>1</td>\n",
       "      <td>SEA</td>\n",
       "      <td>...</td>\n",
       "      <td>10</td>\n",
       "      <td>1030</td>\n",
       "      <td>0</td>\n",
       "      <td>23</td>\n",
       "      <td>8</td>\n",
       "      <td>34</td>\n",
       "      <td>29</td>\n",
       "      <td>65</td>\n",
       "      <td>800</td>\n",
       "      <td>SEA</td>\n",
       "    </tr>\n",
       "  </tbody>\n",
       "</table>\n",
       "<p>5 rows × 27 columns</p>\n",
       "</div>"
      ],
      "text/plain": [
       "   index_x  ArrDel15  CRSDepTime  DayofMonth  DepDel15  DepDelayMinutes  \\\n",
       "0        0       0.0         745           1       0.0              0.0   \n",
       "1    12608       1.0         820           1       0.0              1.0   \n",
       "2    50768       0.0         759           1       0.0              0.0   \n",
       "3    51023       0.0         738           1       0.0              2.0   \n",
       "4    61167       0.0         745           1       0.0              0.0   \n",
       "\n",
       "   DepTime  DestAirportID  Month Origin  ...  visibility  pressure  \\\n",
       "0    741.0          12478      1    SEA  ...          10      1030   \n",
       "1    821.0          14107      1    SEA  ...          10      1030   \n",
       "2    754.0          11292      1    SEA  ...          10      1030   \n",
       "3    740.0          12266      1    SEA  ...          10      1030   \n",
       "4    742.0          10397      1    SEA  ...          10      1030   \n",
       "\n",
       "   cloudcover  DewPointF  WindGustKmph  tempF  WindChillF  humidity  time  \\\n",
       "0           0         23             8     34          29        65   800   \n",
       "1           0         23             8     34          29        65   800   \n",
       "2           0         23             8     34          29        65   800   \n",
       "3           0         23             8     34          29        65   800   \n",
       "4           0         23             8     34          29        65   800   \n",
       "\n",
       "   airport  \n",
       "0      SEA  \n",
       "1      SEA  \n",
       "2      SEA  \n",
       "3      SEA  \n",
       "4      SEA  \n",
       "\n",
       "[5 rows x 27 columns]"
      ]
     },
     "execution_count": 6,
     "metadata": {},
     "output_type": "execute_result"
    }
   ],
   "source": [
    "# Here we drop all the columns we don't need for our classification\n",
    "df = df.drop(columns=['date', 'FlightDate','ArrTime','ArrDelayMinutes','CRSArrTime','DeptTime', 'Year'])\n",
    "df.head()"
   ]
  },
  {
   "cell_type": "code",
   "execution_count": 7,
   "metadata": {},
   "outputs": [
    {
     "data": {
      "text/plain": [
       "Index(['index_x', 'ArrDel15', 'CRSDepTime', 'DayofMonth', 'DepDel15',\n",
       "       'DepDelayMinutes', 'DepTime', 'DestAirportID', 'Month', 'Origin',\n",
       "       'OriginAirportID', 'Quarter', 'index_y', 'windspeedKmph',\n",
       "       'winddirDegree', 'weatherCode', 'precipMM', 'visibility', 'pressure',\n",
       "       'cloudcover', 'DewPointF', 'WindGustKmph', 'tempF', 'WindChillF',\n",
       "       'humidity', 'time', 'airport'],\n",
       "      dtype='object')"
      ]
     },
     "execution_count": 7,
     "metadata": {},
     "output_type": "execute_result"
    }
   ],
   "source": [
    "# Looking at the new features\n",
    "df.columns"
   ]
  },
  {
   "cell_type": "code",
   "execution_count": 8,
   "metadata": {},
   "outputs": [
    {
     "data": {
      "text/plain": [
       "(1873584, 27)"
      ]
     },
     "execution_count": 8,
     "metadata": {},
     "output_type": "execute_result"
    }
   ],
   "source": [
    "df.shape"
   ]
  },
  {
   "cell_type": "code",
   "execution_count": 9,
   "metadata": {},
   "outputs": [
    {
     "data": {
      "text/plain": [
       "0"
      ]
     },
     "execution_count": 9,
     "metadata": {},
     "output_type": "execute_result"
    }
   ],
   "source": [
    "df.duplicated().sum()"
   ]
  },
  {
   "cell_type": "markdown",
   "metadata": {},
   "source": [
    "### Label Encoding using cat.codes\n",
    "Label Encoding refers to converting the labels into numeric form so as to convert it into the machine-readable form. Machine learning algorithms can then decide in a better way on how those labels must be operated. It is an important pre-processing step for the structured dataset in supervised learning.\n",
    "Here we are label encoding the `Origin` and the `airport` features, by first converting them to category type and then using `cat.codes`"
   ]
  },
  {
   "cell_type": "code",
   "execution_count": 10,
   "metadata": {
    "scrolled": false
   },
   "outputs": [
    {
     "data": {
      "text/plain": [
       "index_x               int64\n",
       "ArrDel15            float64\n",
       "CRSDepTime            int64\n",
       "DayofMonth            int64\n",
       "DepDel15            float64\n",
       "DepDelayMinutes     float64\n",
       "DepTime             float64\n",
       "DestAirportID         int64\n",
       "Month                 int64\n",
       "Origin             category\n",
       "OriginAirportID       int64\n",
       "Quarter               int64\n",
       "index_y               int64\n",
       "windspeedKmph         int64\n",
       "winddirDegree         int64\n",
       "weatherCode           int64\n",
       "precipMM            float64\n",
       "visibility            int64\n",
       "pressure              int64\n",
       "cloudcover            int64\n",
       "DewPointF             int64\n",
       "WindGustKmph          int64\n",
       "tempF                 int64\n",
       "WindChillF            int64\n",
       "humidity              int64\n",
       "time                  int64\n",
       "airport            category\n",
       "dtype: object"
      ]
     },
     "execution_count": 10,
     "metadata": {},
     "output_type": "execute_result"
    }
   ],
   "source": [
    "df[\"Origin\"] = df[\"Origin\"].astype('category')\n",
    "df[\"airport\"] = df[\"airport\"].astype('category')\n",
    "# To see if our features have convered to category\n",
    "df.dtypes"
   ]
  },
  {
   "cell_type": "markdown",
   "metadata": {},
   "source": [
    "As you can see those both Origin and airport have been converted into category type"
   ]
  },
  {
   "cell_type": "code",
   "execution_count": 11,
   "metadata": {},
   "outputs": [
    {
     "data": {
      "text/html": [
       "<div>\n",
       "<style scoped>\n",
       "    .dataframe tbody tr th:only-of-type {\n",
       "        vertical-align: middle;\n",
       "    }\n",
       "\n",
       "    .dataframe tbody tr th {\n",
       "        vertical-align: top;\n",
       "    }\n",
       "\n",
       "    .dataframe thead th {\n",
       "        text-align: right;\n",
       "    }\n",
       "</style>\n",
       "<table border=\"1\" class=\"dataframe\">\n",
       "  <thead>\n",
       "    <tr style=\"text-align: right;\">\n",
       "      <th></th>\n",
       "      <th>index_x</th>\n",
       "      <th>ArrDel15</th>\n",
       "      <th>CRSDepTime</th>\n",
       "      <th>DayofMonth</th>\n",
       "      <th>DepDel15</th>\n",
       "      <th>DepDelayMinutes</th>\n",
       "      <th>DepTime</th>\n",
       "      <th>DestAirportID</th>\n",
       "      <th>Month</th>\n",
       "      <th>Origin</th>\n",
       "      <th>...</th>\n",
       "      <th>visibility</th>\n",
       "      <th>pressure</th>\n",
       "      <th>cloudcover</th>\n",
       "      <th>DewPointF</th>\n",
       "      <th>WindGustKmph</th>\n",
       "      <th>tempF</th>\n",
       "      <th>WindChillF</th>\n",
       "      <th>humidity</th>\n",
       "      <th>time</th>\n",
       "      <th>airport</th>\n",
       "    </tr>\n",
       "  </thead>\n",
       "  <tbody>\n",
       "    <tr>\n",
       "      <th>0</th>\n",
       "      <td>0</td>\n",
       "      <td>0.0</td>\n",
       "      <td>745</td>\n",
       "      <td>1</td>\n",
       "      <td>0.0</td>\n",
       "      <td>0.0</td>\n",
       "      <td>741.0</td>\n",
       "      <td>12478</td>\n",
       "      <td>1</td>\n",
       "      <td>13</td>\n",
       "      <td>...</td>\n",
       "      <td>10</td>\n",
       "      <td>1030</td>\n",
       "      <td>0</td>\n",
       "      <td>23</td>\n",
       "      <td>8</td>\n",
       "      <td>34</td>\n",
       "      <td>29</td>\n",
       "      <td>65</td>\n",
       "      <td>800</td>\n",
       "      <td>13</td>\n",
       "    </tr>\n",
       "    <tr>\n",
       "      <th>1</th>\n",
       "      <td>12608</td>\n",
       "      <td>1.0</td>\n",
       "      <td>820</td>\n",
       "      <td>1</td>\n",
       "      <td>0.0</td>\n",
       "      <td>1.0</td>\n",
       "      <td>821.0</td>\n",
       "      <td>14107</td>\n",
       "      <td>1</td>\n",
       "      <td>13</td>\n",
       "      <td>...</td>\n",
       "      <td>10</td>\n",
       "      <td>1030</td>\n",
       "      <td>0</td>\n",
       "      <td>23</td>\n",
       "      <td>8</td>\n",
       "      <td>34</td>\n",
       "      <td>29</td>\n",
       "      <td>65</td>\n",
       "      <td>800</td>\n",
       "      <td>13</td>\n",
       "    </tr>\n",
       "    <tr>\n",
       "      <th>2</th>\n",
       "      <td>50768</td>\n",
       "      <td>0.0</td>\n",
       "      <td>759</td>\n",
       "      <td>1</td>\n",
       "      <td>0.0</td>\n",
       "      <td>0.0</td>\n",
       "      <td>754.0</td>\n",
       "      <td>11292</td>\n",
       "      <td>1</td>\n",
       "      <td>13</td>\n",
       "      <td>...</td>\n",
       "      <td>10</td>\n",
       "      <td>1030</td>\n",
       "      <td>0</td>\n",
       "      <td>23</td>\n",
       "      <td>8</td>\n",
       "      <td>34</td>\n",
       "      <td>29</td>\n",
       "      <td>65</td>\n",
       "      <td>800</td>\n",
       "      <td>13</td>\n",
       "    </tr>\n",
       "    <tr>\n",
       "      <th>3</th>\n",
       "      <td>51023</td>\n",
       "      <td>0.0</td>\n",
       "      <td>738</td>\n",
       "      <td>1</td>\n",
       "      <td>0.0</td>\n",
       "      <td>2.0</td>\n",
       "      <td>740.0</td>\n",
       "      <td>12266</td>\n",
       "      <td>1</td>\n",
       "      <td>13</td>\n",
       "      <td>...</td>\n",
       "      <td>10</td>\n",
       "      <td>1030</td>\n",
       "      <td>0</td>\n",
       "      <td>23</td>\n",
       "      <td>8</td>\n",
       "      <td>34</td>\n",
       "      <td>29</td>\n",
       "      <td>65</td>\n",
       "      <td>800</td>\n",
       "      <td>13</td>\n",
       "    </tr>\n",
       "    <tr>\n",
       "      <th>4</th>\n",
       "      <td>61167</td>\n",
       "      <td>0.0</td>\n",
       "      <td>745</td>\n",
       "      <td>1</td>\n",
       "      <td>0.0</td>\n",
       "      <td>0.0</td>\n",
       "      <td>742.0</td>\n",
       "      <td>10397</td>\n",
       "      <td>1</td>\n",
       "      <td>13</td>\n",
       "      <td>...</td>\n",
       "      <td>10</td>\n",
       "      <td>1030</td>\n",
       "      <td>0</td>\n",
       "      <td>23</td>\n",
       "      <td>8</td>\n",
       "      <td>34</td>\n",
       "      <td>29</td>\n",
       "      <td>65</td>\n",
       "      <td>800</td>\n",
       "      <td>13</td>\n",
       "    </tr>\n",
       "  </tbody>\n",
       "</table>\n",
       "<p>5 rows × 27 columns</p>\n",
       "</div>"
      ],
      "text/plain": [
       "   index_x  ArrDel15  CRSDepTime  DayofMonth  DepDel15  DepDelayMinutes  \\\n",
       "0        0       0.0         745           1       0.0              0.0   \n",
       "1    12608       1.0         820           1       0.0              1.0   \n",
       "2    50768       0.0         759           1       0.0              0.0   \n",
       "3    51023       0.0         738           1       0.0              2.0   \n",
       "4    61167       0.0         745           1       0.0              0.0   \n",
       "\n",
       "   DepTime  DestAirportID  Month  Origin  ...  visibility  pressure  \\\n",
       "0    741.0          12478      1      13  ...          10      1030   \n",
       "1    821.0          14107      1      13  ...          10      1030   \n",
       "2    754.0          11292      1      13  ...          10      1030   \n",
       "3    740.0          12266      1      13  ...          10      1030   \n",
       "4    742.0          10397      1      13  ...          10      1030   \n",
       "\n",
       "   cloudcover  DewPointF  WindGustKmph  tempF  WindChillF  humidity  time  \\\n",
       "0           0         23             8     34          29        65   800   \n",
       "1           0         23             8     34          29        65   800   \n",
       "2           0         23             8     34          29        65   800   \n",
       "3           0         23             8     34          29        65   800   \n",
       "4           0         23             8     34          29        65   800   \n",
       "\n",
       "   airport  \n",
       "0       13  \n",
       "1       13  \n",
       "2       13  \n",
       "3       13  \n",
       "4       13  \n",
       "\n",
       "[5 rows x 27 columns]"
      ]
     },
     "execution_count": 11,
     "metadata": {},
     "output_type": "execute_result"
    }
   ],
   "source": [
    "df[\"Origin\"] = df[\"Origin\"].cat.codes\n",
    "df[\"airport\"] = df[\"airport\"].cat.codes\n",
    "df.head()"
   ]
  },
  {
   "cell_type": "code",
   "execution_count": 12,
   "metadata": {},
   "outputs": [
    {
     "data": {
      "text/plain": [
       "index_x              int64\n",
       "ArrDel15           float64\n",
       "CRSDepTime           int64\n",
       "DayofMonth           int64\n",
       "DepDel15           float64\n",
       "DepDelayMinutes    float64\n",
       "DepTime            float64\n",
       "DestAirportID        int64\n",
       "Month                int64\n",
       "Origin                int8\n",
       "OriginAirportID      int64\n",
       "Quarter              int64\n",
       "index_y              int64\n",
       "windspeedKmph        int64\n",
       "winddirDegree        int64\n",
       "weatherCode          int64\n",
       "precipMM           float64\n",
       "visibility           int64\n",
       "pressure             int64\n",
       "cloudcover           int64\n",
       "DewPointF            int64\n",
       "WindGustKmph         int64\n",
       "tempF                int64\n",
       "WindChillF           int64\n",
       "humidity             int64\n",
       "time                 int64\n",
       "airport               int8\n",
       "dtype: object"
      ]
     },
     "execution_count": 12,
     "metadata": {},
     "output_type": "execute_result"
    }
   ],
   "source": [
    "df.dtypes"
   ]
  },
  {
   "cell_type": "code",
   "execution_count": 13,
   "metadata": {},
   "outputs": [
    {
     "data": {
      "text/plain": [
       "8     212460\n",
       "14    170780\n",
       "11    153564\n",
       "0     150084\n",
       "2     144224\n",
       "7     134172\n",
       "3     127654\n",
       "12    117254\n",
       "13    115376\n",
       "9      99086\n",
       "4      98786\n",
       "6      94366\n",
       "5      91738\n",
       "1      85898\n",
       "10     78142\n",
       "Name: Origin, dtype: int64"
      ]
     },
     "execution_count": 13,
     "metadata": {},
     "output_type": "execute_result"
    }
   ],
   "source": [
    "df.Origin.value_counts()"
   ]
  },
  {
   "cell_type": "code",
   "execution_count": 14,
   "metadata": {},
   "outputs": [
    {
     "data": {
      "text/plain": [
       "8     212460\n",
       "14    170780\n",
       "11    153564\n",
       "0     150084\n",
       "2     144224\n",
       "7     134172\n",
       "3     127654\n",
       "12    117254\n",
       "13    115376\n",
       "9      99086\n",
       "4      98786\n",
       "6      94366\n",
       "5      91738\n",
       "1      85898\n",
       "10     78142\n",
       "Name: airport, dtype: int64"
      ]
     },
     "execution_count": 14,
     "metadata": {},
     "output_type": "execute_result"
    }
   ],
   "source": [
    "df.airport.value_counts()"
   ]
  },
  {
   "cell_type": "code",
   "execution_count": 15,
   "metadata": {
    "scrolled": false
   },
   "outputs": [
    {
     "data": {
      "text/plain": [
       "Index(['index_x', 'ArrDel15', 'CRSDepTime', 'DayofMonth', 'DepDel15',\n",
       "       'DepDelayMinutes', 'DepTime', 'DestAirportID', 'Month', 'Origin',\n",
       "       'OriginAirportID', 'Quarter', 'index_y', 'windspeedKmph',\n",
       "       'winddirDegree', 'weatherCode', 'precipMM', 'visibility', 'pressure',\n",
       "       'cloudcover', 'DewPointF', 'WindGustKmph', 'tempF', 'WindChillF',\n",
       "       'humidity', 'time', 'airport'],\n",
       "      dtype='object')"
      ]
     },
     "execution_count": 15,
     "metadata": {},
     "output_type": "execute_result"
    }
   ],
   "source": [
    "df.columns"
   ]
  },
  {
   "cell_type": "markdown",
   "metadata": {},
   "source": [
    "Another way for label encoding is to use `sklearn.preprocessing.LabelEncoder` : [LOOKUP](https://scikit-learn.org/stable/modules/generated/sklearn.preprocessing.LabelEncoder.html)"
   ]
  },
  {
   "cell_type": "markdown",
   "metadata": {},
   "source": [
    "##### Feature exploration\n",
    "Since there are no missing values or categorical variables we can continue further and look at the corellation between various features of the dataframe"
   ]
  },
  {
   "cell_type": "code",
   "execution_count": 16,
   "metadata": {
    "scrolled": false
   },
   "outputs": [
    {
     "data": {
      "image/png": "[encoded data removed]",
      "text/plain": [
       "<Figure size 1800x1800 with 2 Axes>"
      ]
     },
     "metadata": {
      "needs_background": "light"
     },
     "output_type": "display_data"
    }
   ],
   "source": [
    "plt.figure(figsize=(25,25))\n",
    "cor = df.corr()\n",
    "sns.heatmap(cor, annot=True, cmap='Blues')\n",
    "plt.show()"
   ]
  },
  {
   "cell_type": "code",
   "execution_count": 17,
   "metadata": {
    "scrolled": false
   },
   "outputs": [
    {
     "data": {
      "text/html": [
       "<div>\n",
       "<style scoped>\n",
       "    .dataframe tbody tr th:only-of-type {\n",
       "        vertical-align: middle;\n",
       "    }\n",
       "\n",
       "    .dataframe tbody tr th {\n",
       "        vertical-align: top;\n",
       "    }\n",
       "\n",
       "    .dataframe thead th {\n",
       "        text-align: right;\n",
       "    }\n",
       "</style>\n",
       "<table border=\"1\" class=\"dataframe\">\n",
       "  <thead>\n",
       "    <tr style=\"text-align: right;\">\n",
       "      <th></th>\n",
       "      <th>index_x</th>\n",
       "      <th>ArrDel15</th>\n",
       "      <th>CRSDepTime</th>\n",
       "      <th>DayofMonth</th>\n",
       "      <th>DepDel15</th>\n",
       "      <th>DepDelayMinutes</th>\n",
       "      <th>DepTime</th>\n",
       "      <th>DestAirportID</th>\n",
       "      <th>Month</th>\n",
       "      <th>Origin</th>\n",
       "      <th>...</th>\n",
       "      <th>visibility</th>\n",
       "      <th>pressure</th>\n",
       "      <th>cloudcover</th>\n",
       "      <th>DewPointF</th>\n",
       "      <th>WindGustKmph</th>\n",
       "      <th>tempF</th>\n",
       "      <th>WindChillF</th>\n",
       "      <th>humidity</th>\n",
       "      <th>time</th>\n",
       "      <th>airport</th>\n",
       "    </tr>\n",
       "  </thead>\n",
       "  <tbody>\n",
       "    <tr>\n",
       "      <th>index_x</th>\n",
       "      <td>1.000000</td>\n",
       "      <td>0.011099</td>\n",
       "      <td>-0.000185</td>\n",
       "      <td>0.005298</td>\n",
       "      <td>0.009002</td>\n",
       "      <td>0.005855</td>\n",
       "      <td>-0.000890</td>\n",
       "      <td>0.000438</td>\n",
       "      <td>0.498135</td>\n",
       "      <td>0.000039</td>\n",
       "      <td>...</td>\n",
       "      <td>0.024696</td>\n",
       "      <td>0.008975</td>\n",
       "      <td>-0.027899</td>\n",
       "      <td>0.089869</td>\n",
       "      <td>-0.034922</td>\n",
       "      <td>0.087700</td>\n",
       "      <td>0.083355</td>\n",
       "      <td>-0.024326</td>\n",
       "      <td>-0.001985</td>\n",
       "      <td>0.000039</td>\n",
       "    </tr>\n",
       "    <tr>\n",
       "      <th>ArrDel15</th>\n",
       "      <td>0.011099</td>\n",
       "      <td>1.000000</td>\n",
       "      <td>0.132408</td>\n",
       "      <td>0.013352</td>\n",
       "      <td>0.708883</td>\n",
       "      <td>0.549996</td>\n",
       "      <td>0.156710</td>\n",
       "      <td>0.044398</td>\n",
       "      <td>0.024109</td>\n",
       "      <td>0.025315</td>\n",
       "      <td>...</td>\n",
       "      <td>-0.004513</td>\n",
       "      <td>-0.076614</td>\n",
       "      <td>0.047282</td>\n",
       "      <td>0.050931</td>\n",
       "      <td>0.069035</td>\n",
       "      <td>0.047159</td>\n",
       "      <td>0.042557</td>\n",
       "      <td>-0.002358</td>\n",
       "      <td>0.127983</td>\n",
       "      <td>0.025315</td>\n",
       "    </tr>\n",
       "    <tr>\n",
       "      <th>CRSDepTime</th>\n",
       "      <td>-0.000185</td>\n",
       "      <td>0.132408</td>\n",
       "      <td>1.000000</td>\n",
       "      <td>-0.000545</td>\n",
       "      <td>0.157154</td>\n",
       "      <td>0.106225</td>\n",
       "      <td>0.930503</td>\n",
       "      <td>0.060749</td>\n",
       "      <td>-0.000835</td>\n",
       "      <td>-0.042977</td>\n",
       "      <td>...</td>\n",
       "      <td>0.132084</td>\n",
       "      <td>-0.085570</td>\n",
       "      <td>-0.055154</td>\n",
       "      <td>0.031595</td>\n",
       "      <td>0.102893</td>\n",
       "      <td>0.145174</td>\n",
       "      <td>0.150303</td>\n",
       "      <td>-0.205904</td>\n",
       "      <td>0.889270</td>\n",
       "      <td>-0.042977</td>\n",
       "    </tr>\n",
       "    <tr>\n",
       "      <th>DayofMonth</th>\n",
       "      <td>0.005298</td>\n",
       "      <td>0.013352</td>\n",
       "      <td>-0.000545</td>\n",
       "      <td>1.000000</td>\n",
       "      <td>0.009537</td>\n",
       "      <td>0.010654</td>\n",
       "      <td>-0.001464</td>\n",
       "      <td>0.000439</td>\n",
       "      <td>0.010940</td>\n",
       "      <td>0.000089</td>\n",
       "      <td>...</td>\n",
       "      <td>0.014770</td>\n",
       "      <td>-0.016466</td>\n",
       "      <td>-0.000611</td>\n",
       "      <td>0.030511</td>\n",
       "      <td>0.010014</td>\n",
       "      <td>0.027096</td>\n",
       "      <td>0.027507</td>\n",
       "      <td>0.001037</td>\n",
       "      <td>-0.001615</td>\n",
       "      <td>0.000089</td>\n",
       "    </tr>\n",
       "    <tr>\n",
       "      <th>DepDel15</th>\n",
       "      <td>0.009002</td>\n",
       "      <td>0.708883</td>\n",
       "      <td>0.157154</td>\n",
       "      <td>0.009537</td>\n",
       "      <td>1.000000</td>\n",
       "      <td>0.609826</td>\n",
       "      <td>0.183484</td>\n",
       "      <td>0.031918</td>\n",
       "      <td>0.017962</td>\n",
       "      <td>0.014308</td>\n",
       "      <td>...</td>\n",
       "      <td>0.001146</td>\n",
       "      <td>-0.060609</td>\n",
       "      <td>0.041057</td>\n",
       "      <td>0.045248</td>\n",
       "      <td>0.067177</td>\n",
       "      <td>0.037844</td>\n",
       "      <td>0.033587</td>\n",
       "      <td>-0.001383</td>\n",
       "      <td>0.148970</td>\n",
       "      <td>0.014308</td>\n",
       "    </tr>\n",
       "    <tr>\n",
       "      <th>DepDelayMinutes</th>\n",
       "      <td>0.005855</td>\n",
       "      <td>0.549996</td>\n",
       "      <td>0.106225</td>\n",
       "      <td>0.010654</td>\n",
       "      <td>0.609826</td>\n",
       "      <td>1.000000</td>\n",
       "      <td>0.128470</td>\n",
       "      <td>0.014960</td>\n",
       "      <td>0.011457</td>\n",
       "      <td>0.007873</td>\n",
       "      <td>...</td>\n",
       "      <td>-0.007386</td>\n",
       "      <td>-0.052032</td>\n",
       "      <td>0.038521</td>\n",
       "      <td>0.046983</td>\n",
       "      <td>0.062869</td>\n",
       "      <td>0.034672</td>\n",
       "      <td>0.031238</td>\n",
       "      <td>0.006080</td>\n",
       "      <td>0.102347</td>\n",
       "      <td>0.007873</td>\n",
       "    </tr>\n",
       "    <tr>\n",
       "      <th>DepTime</th>\n",
       "      <td>-0.000890</td>\n",
       "      <td>0.156710</td>\n",
       "      <td>0.930503</td>\n",
       "      <td>-0.001464</td>\n",
       "      <td>0.183484</td>\n",
       "      <td>0.128470</td>\n",
       "      <td>1.000000</td>\n",
       "      <td>0.061532</td>\n",
       "      <td>-0.002178</td>\n",
       "      <td>-0.042392</td>\n",
       "      <td>...</td>\n",
       "      <td>0.129660</td>\n",
       "      <td>-0.082397</td>\n",
       "      <td>-0.051802</td>\n",
       "      <td>0.033480</td>\n",
       "      <td>0.105873</td>\n",
       "      <td>0.150515</td>\n",
       "      <td>0.153045</td>\n",
       "      <td>-0.208441</td>\n",
       "      <td>0.891941</td>\n",
       "      <td>-0.042392</td>\n",
       "    </tr>\n",
       "    <tr>\n",
       "      <th>DestAirportID</th>\n",
       "      <td>0.000438</td>\n",
       "      <td>0.044398</td>\n",
       "      <td>0.060749</td>\n",
       "      <td>0.000439</td>\n",
       "      <td>0.031918</td>\n",
       "      <td>0.014960</td>\n",
       "      <td>0.061532</td>\n",
       "      <td>1.000000</td>\n",
       "      <td>0.002427</td>\n",
       "      <td>-0.029427</td>\n",
       "      <td>...</td>\n",
       "      <td>0.017839</td>\n",
       "      <td>-0.033180</td>\n",
       "      <td>-0.009497</td>\n",
       "      <td>-0.057474</td>\n",
       "      <td>-0.003975</td>\n",
       "      <td>-0.030548</td>\n",
       "      <td>-0.029174</td>\n",
       "      <td>-0.020715</td>\n",
       "      <td>0.068172</td>\n",
       "      <td>-0.029427</td>\n",
       "    </tr>\n",
       "    <tr>\n",
       "      <th>Month</th>\n",
       "      <td>0.498135</td>\n",
       "      <td>0.024109</td>\n",
       "      <td>-0.000835</td>\n",
       "      <td>0.010940</td>\n",
       "      <td>0.017962</td>\n",
       "      <td>0.011457</td>\n",
       "      <td>-0.002178</td>\n",
       "      <td>0.002427</td>\n",
       "      <td>1.000000</td>\n",
       "      <td>0.001818</td>\n",
       "      <td>...</td>\n",
       "      <td>0.050641</td>\n",
       "      <td>0.016159</td>\n",
       "      <td>-0.056287</td>\n",
       "      <td>0.183235</td>\n",
       "      <td>-0.066978</td>\n",
       "      <td>0.180373</td>\n",
       "      <td>0.171399</td>\n",
       "      <td>-0.050726</td>\n",
       "      <td>-0.004424</td>\n",
       "      <td>0.001818</td>\n",
       "    </tr>\n",
       "    <tr>\n",
       "      <th>Origin</th>\n",
       "      <td>0.000039</td>\n",
       "      <td>0.025315</td>\n",
       "      <td>-0.042977</td>\n",
       "      <td>0.000089</td>\n",
       "      <td>0.014308</td>\n",
       "      <td>0.007873</td>\n",
       "      <td>-0.042392</td>\n",
       "      <td>-0.029427</td>\n",
       "      <td>0.001818</td>\n",
       "      <td>1.000000</td>\n",
       "      <td>...</td>\n",
       "      <td>-0.038096</td>\n",
       "      <td>-0.050175</td>\n",
       "      <td>0.131543</td>\n",
       "      <td>0.037986</td>\n",
       "      <td>-0.044636</td>\n",
       "      <td>-0.038146</td>\n",
       "      <td>-0.038329</td>\n",
       "      <td>0.156726</td>\n",
       "      <td>-0.054618</td>\n",
       "      <td>1.000000</td>\n",
       "    </tr>\n",
       "    <tr>\n",
       "      <th>OriginAirportID</th>\n",
       "      <td>0.000463</td>\n",
       "      <td>0.023919</td>\n",
       "      <td>-0.043426</td>\n",
       "      <td>0.000051</td>\n",
       "      <td>0.012169</td>\n",
       "      <td>0.006439</td>\n",
       "      <td>-0.043279</td>\n",
       "      <td>-0.022877</td>\n",
       "      <td>0.002257</td>\n",
       "      <td>0.993763</td>\n",
       "      <td>...</td>\n",
       "      <td>-0.038630</td>\n",
       "      <td>-0.056334</td>\n",
       "      <td>0.127751</td>\n",
       "      <td>0.003281</td>\n",
       "      <td>-0.052324</td>\n",
       "      <td>-0.056130</td>\n",
       "      <td>-0.055676</td>\n",
       "      <td>0.139538</td>\n",
       "      <td>-0.056304</td>\n",
       "      <td>0.993763</td>\n",
       "    </tr>\n",
       "    <tr>\n",
       "      <th>Quarter</th>\n",
       "      <td>0.483986</td>\n",
       "      <td>0.020198</td>\n",
       "      <td>-0.001118</td>\n",
       "      <td>0.011261</td>\n",
       "      <td>0.015237</td>\n",
       "      <td>0.009721</td>\n",
       "      <td>-0.002437</td>\n",
       "      <td>0.002509</td>\n",
       "      <td>0.970515</td>\n",
       "      <td>0.001914</td>\n",
       "      <td>...</td>\n",
       "      <td>0.055994</td>\n",
       "      <td>0.014076</td>\n",
       "      <td>-0.062471</td>\n",
       "      <td>0.185735</td>\n",
       "      <td>-0.070886</td>\n",
       "      <td>0.183659</td>\n",
       "      <td>0.175331</td>\n",
       "      <td>-0.053079</td>\n",
       "      <td>-0.004636</td>\n",
       "      <td>0.001914</td>\n",
       "    </tr>\n",
       "    <tr>\n",
       "      <th>index_y</th>\n",
       "      <td>-0.001985</td>\n",
       "      <td>0.127983</td>\n",
       "      <td>0.889270</td>\n",
       "      <td>-0.001615</td>\n",
       "      <td>0.148970</td>\n",
       "      <td>0.102347</td>\n",
       "      <td>0.891941</td>\n",
       "      <td>0.068172</td>\n",
       "      <td>-0.004424</td>\n",
       "      <td>-0.054618</td>\n",
       "      <td>...</td>\n",
       "      <td>0.133501</td>\n",
       "      <td>-0.080551</td>\n",
       "      <td>-0.055154</td>\n",
       "      <td>0.040246</td>\n",
       "      <td>0.111010</td>\n",
       "      <td>0.162476</td>\n",
       "      <td>0.163357</td>\n",
       "      <td>-0.215513</td>\n",
       "      <td>1.000000</td>\n",
       "      <td>-0.054618</td>\n",
       "    </tr>\n",
       "    <tr>\n",
       "      <th>windspeedKmph</th>\n",
       "      <td>-0.036354</td>\n",
       "      <td>0.073226</td>\n",
       "      <td>0.148566</td>\n",
       "      <td>0.005546</td>\n",
       "      <td>0.073568</td>\n",
       "      <td>0.062618</td>\n",
       "      <td>0.158307</td>\n",
       "      <td>-0.001418</td>\n",
       "      <td>-0.069501</td>\n",
       "      <td>-0.025408</td>\n",
       "      <td>...</td>\n",
       "      <td>0.079087</td>\n",
       "      <td>-0.197461</td>\n",
       "      <td>0.084679</td>\n",
       "      <td>-0.027660</td>\n",
       "      <td>0.930854</td>\n",
       "      <td>-0.076735</td>\n",
       "      <td>-0.120345</td>\n",
       "      <td>0.041359</td>\n",
       "      <td>0.169572</td>\n",
       "      <td>-0.025408</td>\n",
       "    </tr>\n",
       "    <tr>\n",
       "      <th>winddirDegree</th>\n",
       "      <td>-0.022750</td>\n",
       "      <td>0.012010</td>\n",
       "      <td>0.056556</td>\n",
       "      <td>-0.001981</td>\n",
       "      <td>0.016630</td>\n",
       "      <td>0.006687</td>\n",
       "      <td>0.053727</td>\n",
       "      <td>0.028385</td>\n",
       "      <td>-0.047759</td>\n",
       "      <td>-0.003589</td>\n",
       "      <td>...</td>\n",
       "      <td>0.049755</td>\n",
       "      <td>-0.137831</td>\n",
       "      <td>-0.052194</td>\n",
       "      <td>-0.097235</td>\n",
       "      <td>0.094819</td>\n",
       "      <td>-0.097498</td>\n",
       "      <td>-0.109061</td>\n",
       "      <td>0.021766</td>\n",
       "      <td>0.053055</td>\n",
       "      <td>-0.003589</td>\n",
       "    </tr>\n",
       "    <tr>\n",
       "      <th>weatherCode</th>\n",
       "      <td>-0.019463</td>\n",
       "      <td>0.090811</td>\n",
       "      <td>0.016695</td>\n",
       "      <td>-0.004531</td>\n",
       "      <td>0.082217</td>\n",
       "      <td>0.080432</td>\n",
       "      <td>0.022449</td>\n",
       "      <td>-0.017172</td>\n",
       "      <td>-0.039125</td>\n",
       "      <td>-0.024623</td>\n",
       "      <td>...</td>\n",
       "      <td>-0.410599</td>\n",
       "      <td>-0.149392</td>\n",
       "      <td>0.462984</td>\n",
       "      <td>0.214697</td>\n",
       "      <td>0.190503</td>\n",
       "      <td>-0.012252</td>\n",
       "      <td>-0.010702</td>\n",
       "      <td>0.285446</td>\n",
       "      <td>0.023555</td>\n",
       "      <td>-0.024623</td>\n",
       "    </tr>\n",
       "    <tr>\n",
       "      <th>precipMM</th>\n",
       "      <td>-0.011402</td>\n",
       "      <td>0.079825</td>\n",
       "      <td>0.033471</td>\n",
       "      <td>-0.007570</td>\n",
       "      <td>0.073685</td>\n",
       "      <td>0.070874</td>\n",
       "      <td>0.037074</td>\n",
       "      <td>-0.013155</td>\n",
       "      <td>-0.023063</td>\n",
       "      <td>-0.032654</td>\n",
       "      <td>...</td>\n",
       "      <td>-0.275845</td>\n",
       "      <td>-0.137936</td>\n",
       "      <td>0.270312</td>\n",
       "      <td>0.142134</td>\n",
       "      <td>0.196153</td>\n",
       "      <td>-0.005743</td>\n",
       "      <td>-0.007475</td>\n",
       "      <td>0.200359</td>\n",
       "      <td>0.037789</td>\n",
       "      <td>-0.032654</td>\n",
       "    </tr>\n",
       "    <tr>\n",
       "      <th>visibility</th>\n",
       "      <td>0.024696</td>\n",
       "      <td>-0.004513</td>\n",
       "      <td>0.132084</td>\n",
       "      <td>0.014770</td>\n",
       "      <td>0.001146</td>\n",
       "      <td>-0.007386</td>\n",
       "      <td>0.129660</td>\n",
       "      <td>0.017839</td>\n",
       "      <td>0.050641</td>\n",
       "      <td>-0.038096</td>\n",
       "      <td>...</td>\n",
       "      <td>1.000000</td>\n",
       "      <td>0.010476</td>\n",
       "      <td>-0.369947</td>\n",
       "      <td>-0.089629</td>\n",
       "      <td>0.018342</td>\n",
       "      <td>0.162748</td>\n",
       "      <td>0.151867</td>\n",
       "      <td>-0.409528</td>\n",
       "      <td>0.133501</td>\n",
       "      <td>-0.038096</td>\n",
       "    </tr>\n",
       "    <tr>\n",
       "      <th>pressure</th>\n",
       "      <td>0.008975</td>\n",
       "      <td>-0.076614</td>\n",
       "      <td>-0.085570</td>\n",
       "      <td>-0.016466</td>\n",
       "      <td>-0.060609</td>\n",
       "      <td>-0.052032</td>\n",
       "      <td>-0.082397</td>\n",
       "      <td>-0.033180</td>\n",
       "      <td>0.016159</td>\n",
       "      <td>-0.050175</td>\n",
       "      <td>...</td>\n",
       "      <td>0.010476</td>\n",
       "      <td>1.000000</td>\n",
       "      <td>-0.081818</td>\n",
       "      <td>-0.214895</td>\n",
       "      <td>-0.195041</td>\n",
       "      <td>-0.364616</td>\n",
       "      <td>-0.354890</td>\n",
       "      <td>0.137920</td>\n",
       "      <td>-0.080551</td>\n",
       "      <td>-0.050175</td>\n",
       "    </tr>\n",
       "    <tr>\n",
       "      <th>cloudcover</th>\n",
       "      <td>-0.027899</td>\n",
       "      <td>0.047282</td>\n",
       "      <td>-0.055154</td>\n",
       "      <td>-0.000611</td>\n",
       "      <td>0.041057</td>\n",
       "      <td>0.038521</td>\n",
       "      <td>-0.051802</td>\n",
       "      <td>-0.009497</td>\n",
       "      <td>-0.056287</td>\n",
       "      <td>0.131543</td>\n",
       "      <td>...</td>\n",
       "      <td>-0.369947</td>\n",
       "      <td>-0.081818</td>\n",
       "      <td>1.000000</td>\n",
       "      <td>0.195113</td>\n",
       "      <td>0.133391</td>\n",
       "      <td>-0.203321</td>\n",
       "      <td>-0.200894</td>\n",
       "      <td>0.543400</td>\n",
       "      <td>-0.055154</td>\n",
       "      <td>0.131543</td>\n",
       "    </tr>\n",
       "    <tr>\n",
       "      <th>DewPointF</th>\n",
       "      <td>0.089869</td>\n",
       "      <td>0.050931</td>\n",
       "      <td>0.031595</td>\n",
       "      <td>0.030511</td>\n",
       "      <td>0.045248</td>\n",
       "      <td>0.046983</td>\n",
       "      <td>0.033480</td>\n",
       "      <td>-0.057474</td>\n",
       "      <td>0.183235</td>\n",
       "      <td>0.037986</td>\n",
       "      <td>...</td>\n",
       "      <td>-0.089629</td>\n",
       "      <td>-0.214895</td>\n",
       "      <td>0.195113</td>\n",
       "      <td>1.000000</td>\n",
       "      <td>-0.034739</td>\n",
       "      <td>0.650335</td>\n",
       "      <td>0.662321</td>\n",
       "      <td>0.312767</td>\n",
       "      <td>0.040246</td>\n",
       "      <td>0.037986</td>\n",
       "    </tr>\n",
       "    <tr>\n",
       "      <th>WindGustKmph</th>\n",
       "      <td>-0.034922</td>\n",
       "      <td>0.069035</td>\n",
       "      <td>0.102893</td>\n",
       "      <td>0.010014</td>\n",
       "      <td>0.067177</td>\n",
       "      <td>0.062869</td>\n",
       "      <td>0.105873</td>\n",
       "      <td>-0.003975</td>\n",
       "      <td>-0.066978</td>\n",
       "      <td>-0.044636</td>\n",
       "      <td>...</td>\n",
       "      <td>0.018342</td>\n",
       "      <td>-0.195041</td>\n",
       "      <td>0.133391</td>\n",
       "      <td>-0.034739</td>\n",
       "      <td>1.000000</td>\n",
       "      <td>-0.138785</td>\n",
       "      <td>-0.176992</td>\n",
       "      <td>0.119270</td>\n",
       "      <td>0.111010</td>\n",
       "      <td>-0.044636</td>\n",
       "    </tr>\n",
       "    <tr>\n",
       "      <th>tempF</th>\n",
       "      <td>0.087700</td>\n",
       "      <td>0.047159</td>\n",
       "      <td>0.145174</td>\n",
       "      <td>0.027096</td>\n",
       "      <td>0.037844</td>\n",
       "      <td>0.034672</td>\n",
       "      <td>0.150515</td>\n",
       "      <td>-0.030548</td>\n",
       "      <td>0.180373</td>\n",
       "      <td>-0.038146</td>\n",
       "      <td>...</td>\n",
       "      <td>0.162748</td>\n",
       "      <td>-0.364616</td>\n",
       "      <td>-0.203321</td>\n",
       "      <td>0.650335</td>\n",
       "      <td>-0.138785</td>\n",
       "      <td>1.000000</td>\n",
       "      <td>0.993066</td>\n",
       "      <td>-0.456418</td>\n",
       "      <td>0.162476</td>\n",
       "      <td>-0.038146</td>\n",
       "    </tr>\n",
       "    <tr>\n",
       "      <th>WindChillF</th>\n",
       "      <td>0.083355</td>\n",
       "      <td>0.042557</td>\n",
       "      <td>0.150303</td>\n",
       "      <td>0.027507</td>\n",
       "      <td>0.033587</td>\n",
       "      <td>0.031238</td>\n",
       "      <td>0.153045</td>\n",
       "      <td>-0.029174</td>\n",
       "      <td>0.171399</td>\n",
       "      <td>-0.038329</td>\n",
       "      <td>...</td>\n",
       "      <td>0.151867</td>\n",
       "      <td>-0.354890</td>\n",
       "      <td>-0.200894</td>\n",
       "      <td>0.662321</td>\n",
       "      <td>-0.176992</td>\n",
       "      <td>0.993066</td>\n",
       "      <td>1.000000</td>\n",
       "      <td>-0.441371</td>\n",
       "      <td>0.163357</td>\n",
       "      <td>-0.038329</td>\n",
       "    </tr>\n",
       "    <tr>\n",
       "      <th>humidity</th>\n",
       "      <td>-0.024326</td>\n",
       "      <td>-0.002358</td>\n",
       "      <td>-0.205904</td>\n",
       "      <td>0.001037</td>\n",
       "      <td>-0.001383</td>\n",
       "      <td>0.006080</td>\n",
       "      <td>-0.208441</td>\n",
       "      <td>-0.020715</td>\n",
       "      <td>-0.050726</td>\n",
       "      <td>0.156726</td>\n",
       "      <td>...</td>\n",
       "      <td>-0.409528</td>\n",
       "      <td>0.137920</td>\n",
       "      <td>0.543400</td>\n",
       "      <td>0.312767</td>\n",
       "      <td>0.119270</td>\n",
       "      <td>-0.456418</td>\n",
       "      <td>-0.441371</td>\n",
       "      <td>1.000000</td>\n",
       "      <td>-0.215513</td>\n",
       "      <td>0.156726</td>\n",
       "    </tr>\n",
       "    <tr>\n",
       "      <th>time</th>\n",
       "      <td>-0.001985</td>\n",
       "      <td>0.127983</td>\n",
       "      <td>0.889270</td>\n",
       "      <td>-0.001615</td>\n",
       "      <td>0.148970</td>\n",
       "      <td>0.102347</td>\n",
       "      <td>0.891941</td>\n",
       "      <td>0.068172</td>\n",
       "      <td>-0.004424</td>\n",
       "      <td>-0.054618</td>\n",
       "      <td>...</td>\n",
       "      <td>0.133501</td>\n",
       "      <td>-0.080551</td>\n",
       "      <td>-0.055154</td>\n",
       "      <td>0.040246</td>\n",
       "      <td>0.111010</td>\n",
       "      <td>0.162476</td>\n",
       "      <td>0.163357</td>\n",
       "      <td>-0.215513</td>\n",
       "      <td>1.000000</td>\n",
       "      <td>-0.054618</td>\n",
       "    </tr>\n",
       "    <tr>\n",
       "      <th>airport</th>\n",
       "      <td>0.000039</td>\n",
       "      <td>0.025315</td>\n",
       "      <td>-0.042977</td>\n",
       "      <td>0.000089</td>\n",
       "      <td>0.014308</td>\n",
       "      <td>0.007873</td>\n",
       "      <td>-0.042392</td>\n",
       "      <td>-0.029427</td>\n",
       "      <td>0.001818</td>\n",
       "      <td>1.000000</td>\n",
       "      <td>...</td>\n",
       "      <td>-0.038096</td>\n",
       "      <td>-0.050175</td>\n",
       "      <td>0.131543</td>\n",
       "      <td>0.037986</td>\n",
       "      <td>-0.044636</td>\n",
       "      <td>-0.038146</td>\n",
       "      <td>-0.038329</td>\n",
       "      <td>0.156726</td>\n",
       "      <td>-0.054618</td>\n",
       "      <td>1.000000</td>\n",
       "    </tr>\n",
       "  </tbody>\n",
       "</table>\n",
       "<p>27 rows × 27 columns</p>\n",
       "</div>"
      ],
      "text/plain": [
       "                  index_x  ArrDel15  CRSDepTime  DayofMonth  DepDel15  \\\n",
       "index_x          1.000000  0.011099   -0.000185    0.005298  0.009002   \n",
       "ArrDel15         0.011099  1.000000    0.132408    0.013352  0.708883   \n",
       "CRSDepTime      -0.000185  0.132408    1.000000   -0.000545  0.157154   \n",
       "DayofMonth       0.005298  0.013352   -0.000545    1.000000  0.009537   \n",
       "DepDel15         0.009002  0.708883    0.157154    0.009537  1.000000   \n",
       "DepDelayMinutes  0.005855  0.549996    0.106225    0.010654  0.609826   \n",
       "DepTime         -0.000890  0.156710    0.930503   -0.001464  0.183484   \n",
       "DestAirportID    0.000438  0.044398    0.060749    0.000439  0.031918   \n",
       "Month            0.498135  0.024109   -0.000835    0.010940  0.017962   \n",
       "Origin           0.000039  0.025315   -0.042977    0.000089  0.014308   \n",
       "OriginAirportID  0.000463  0.023919   -0.043426    0.000051  0.012169   \n",
       "Quarter          0.483986  0.020198   -0.001118    0.011261  0.015237   \n",
       "index_y         -0.001985  0.127983    0.889270   -0.001615  0.148970   \n",
       "windspeedKmph   -0.036354  0.073226    0.148566    0.005546  0.073568   \n",
       "winddirDegree   -0.022750  0.012010    0.056556   -0.001981  0.016630   \n",
       "weatherCode     -0.019463  0.090811    0.016695   -0.004531  0.082217   \n",
       "precipMM        -0.011402  0.079825    0.033471   -0.007570  0.073685   \n",
       "visibility       0.024696 -0.004513    0.132084    0.014770  0.001146   \n",
       "pressure         0.008975 -0.076614   -0.085570   -0.016466 -0.060609   \n",
       "cloudcover      -0.027899  0.047282   -0.055154   -0.000611  0.041057   \n",
       "DewPointF        0.089869  0.050931    0.031595    0.030511  0.045248   \n",
       "WindGustKmph    -0.034922  0.069035    0.102893    0.010014  0.067177   \n",
       "tempF            0.087700  0.047159    0.145174    0.027096  0.037844   \n",
       "WindChillF       0.083355  0.042557    0.150303    0.027507  0.033587   \n",
       "humidity        -0.024326 -0.002358   -0.205904    0.001037 -0.001383   \n",
       "time            -0.001985  0.127983    0.889270   -0.001615  0.148970   \n",
       "airport          0.000039  0.025315   -0.042977    0.000089  0.014308   \n",
       "\n",
       "                 DepDelayMinutes   DepTime  DestAirportID     Month    Origin  \\\n",
       "index_x                 0.005855 -0.000890       0.000438  0.498135  0.000039   \n",
       "ArrDel15                0.549996  0.156710       0.044398  0.024109  0.025315   \n",
       "CRSDepTime              0.106225  0.930503       0.060749 -0.000835 -0.042977   \n",
       "DayofMonth              0.010654 -0.001464       0.000439  0.010940  0.000089   \n",
       "DepDel15                0.609826  0.183484       0.031918  0.017962  0.014308   \n",
       "DepDelayMinutes         1.000000  0.128470       0.014960  0.011457  0.007873   \n",
       "DepTime                 0.128470  1.000000       0.061532 -0.002178 -0.042392   \n",
       "DestAirportID           0.014960  0.061532       1.000000  0.002427 -0.029427   \n",
       "Month                   0.011457 -0.002178       0.002427  1.000000  0.001818   \n",
       "Origin                  0.007873 -0.042392      -0.029427  0.001818  1.000000   \n",
       "OriginAirportID         0.006439 -0.043279      -0.022877  0.002257  0.993763   \n",
       "Quarter                 0.009721 -0.002437       0.002509  0.970515  0.001914   \n",
       "index_y                 0.102347  0.891941       0.068172 -0.004424 -0.054618   \n",
       "windspeedKmph           0.062618  0.158307      -0.001418 -0.069501 -0.025408   \n",
       "winddirDegree           0.006687  0.053727       0.028385 -0.047759 -0.003589   \n",
       "weatherCode             0.080432  0.022449      -0.017172 -0.039125 -0.024623   \n",
       "precipMM                0.070874  0.037074      -0.013155 -0.023063 -0.032654   \n",
       "visibility             -0.007386  0.129660       0.017839  0.050641 -0.038096   \n",
       "pressure               -0.052032 -0.082397      -0.033180  0.016159 -0.050175   \n",
       "cloudcover              0.038521 -0.051802      -0.009497 -0.056287  0.131543   \n",
       "DewPointF               0.046983  0.033480      -0.057474  0.183235  0.037986   \n",
       "WindGustKmph            0.062869  0.105873      -0.003975 -0.066978 -0.044636   \n",
       "tempF                   0.034672  0.150515      -0.030548  0.180373 -0.038146   \n",
       "WindChillF              0.031238  0.153045      -0.029174  0.171399 -0.038329   \n",
       "humidity                0.006080 -0.208441      -0.020715 -0.050726  0.156726   \n",
       "time                    0.102347  0.891941       0.068172 -0.004424 -0.054618   \n",
       "airport                 0.007873 -0.042392      -0.029427  0.001818  1.000000   \n",
       "\n",
       "                 ...  visibility  pressure  cloudcover  DewPointF  \\\n",
       "index_x          ...    0.024696  0.008975   -0.027899   0.089869   \n",
       "ArrDel15         ...   -0.004513 -0.076614    0.047282   0.050931   \n",
       "CRSDepTime       ...    0.132084 -0.085570   -0.055154   0.031595   \n",
       "DayofMonth       ...    0.014770 -0.016466   -0.000611   0.030511   \n",
       "DepDel15         ...    0.001146 -0.060609    0.041057   0.045248   \n",
       "DepDelayMinutes  ...   -0.007386 -0.052032    0.038521   0.046983   \n",
       "DepTime          ...    0.129660 -0.082397   -0.051802   0.033480   \n",
       "DestAirportID    ...    0.017839 -0.033180   -0.009497  -0.057474   \n",
       "Month            ...    0.050641  0.016159   -0.056287   0.183235   \n",
       "Origin           ...   -0.038096 -0.050175    0.131543   0.037986   \n",
       "OriginAirportID  ...   -0.038630 -0.056334    0.127751   0.003281   \n",
       "Quarter          ...    0.055994  0.014076   -0.062471   0.185735   \n",
       "index_y          ...    0.133501 -0.080551   -0.055154   0.040246   \n",
       "windspeedKmph    ...    0.079087 -0.197461    0.084679  -0.027660   \n",
       "winddirDegree    ...    0.049755 -0.137831   -0.052194  -0.097235   \n",
       "weatherCode      ...   -0.410599 -0.149392    0.462984   0.214697   \n",
       "precipMM         ...   -0.275845 -0.137936    0.270312   0.142134   \n",
       "visibility       ...    1.000000  0.010476   -0.369947  -0.089629   \n",
       "pressure         ...    0.010476  1.000000   -0.081818  -0.214895   \n",
       "cloudcover       ...   -0.369947 -0.081818    1.000000   0.195113   \n",
       "DewPointF        ...   -0.089629 -0.214895    0.195113   1.000000   \n",
       "WindGustKmph     ...    0.018342 -0.195041    0.133391  -0.034739   \n",
       "tempF            ...    0.162748 -0.364616   -0.203321   0.650335   \n",
       "WindChillF       ...    0.151867 -0.354890   -0.200894   0.662321   \n",
       "humidity         ...   -0.409528  0.137920    0.543400   0.312767   \n",
       "time             ...    0.133501 -0.080551   -0.055154   0.040246   \n",
       "airport          ...   -0.038096 -0.050175    0.131543   0.037986   \n",
       "\n",
       "                 WindGustKmph     tempF  WindChillF  humidity      time  \\\n",
       "index_x             -0.034922  0.087700    0.083355 -0.024326 -0.001985   \n",
       "ArrDel15             0.069035  0.047159    0.042557 -0.002358  0.127983   \n",
       "CRSDepTime           0.102893  0.145174    0.150303 -0.205904  0.889270   \n",
       "DayofMonth           0.010014  0.027096    0.027507  0.001037 -0.001615   \n",
       "DepDel15             0.067177  0.037844    0.033587 -0.001383  0.148970   \n",
       "DepDelayMinutes      0.062869  0.034672    0.031238  0.006080  0.102347   \n",
       "DepTime              0.105873  0.150515    0.153045 -0.208441  0.891941   \n",
       "DestAirportID       -0.003975 -0.030548   -0.029174 -0.020715  0.068172   \n",
       "Month               -0.066978  0.180373    0.171399 -0.050726 -0.004424   \n",
       "Origin              -0.044636 -0.038146   -0.038329  0.156726 -0.054618   \n",
       "OriginAirportID     -0.052324 -0.056130   -0.055676  0.139538 -0.056304   \n",
       "Quarter             -0.070886  0.183659    0.175331 -0.053079 -0.004636   \n",
       "index_y              0.111010  0.162476    0.163357 -0.215513  1.000000   \n",
       "windspeedKmph        0.930854 -0.076735   -0.120345  0.041359  0.169572   \n",
       "winddirDegree        0.094819 -0.097498   -0.109061  0.021766  0.053055   \n",
       "weatherCode          0.190503 -0.012252   -0.010702  0.285446  0.023555   \n",
       "precipMM             0.196153 -0.005743   -0.007475  0.200359  0.037789   \n",
       "visibility           0.018342  0.162748    0.151867 -0.409528  0.133501   \n",
       "pressure            -0.195041 -0.364616   -0.354890  0.137920 -0.080551   \n",
       "cloudcover           0.133391 -0.203321   -0.200894  0.543400 -0.055154   \n",
       "DewPointF           -0.034739  0.650335    0.662321  0.312767  0.040246   \n",
       "WindGustKmph         1.000000 -0.138785   -0.176992  0.119270  0.111010   \n",
       "tempF               -0.138785  1.000000    0.993066 -0.456418  0.162476   \n",
       "WindChillF          -0.176992  0.993066    1.000000 -0.441371  0.163357   \n",
       "humidity             0.119270 -0.456418   -0.441371  1.000000 -0.215513   \n",
       "time                 0.111010  0.162476    0.163357 -0.215513  1.000000   \n",
       "airport             -0.044636 -0.038146   -0.038329  0.156726 -0.054618   \n",
       "\n",
       "                  airport  \n",
       "index_x          0.000039  \n",
       "ArrDel15         0.025315  \n",
       "CRSDepTime      -0.042977  \n",
       "DayofMonth       0.000089  \n",
       "DepDel15         0.014308  \n",
       "DepDelayMinutes  0.007873  \n",
       "DepTime         -0.042392  \n",
       "DestAirportID   -0.029427  \n",
       "Month            0.001818  \n",
       "Origin           1.000000  \n",
       "OriginAirportID  0.993763  \n",
       "Quarter          0.001914  \n",
       "index_y         -0.054618  \n",
       "windspeedKmph   -0.025408  \n",
       "winddirDegree   -0.003589  \n",
       "weatherCode     -0.024623  \n",
       "precipMM        -0.032654  \n",
       "visibility      -0.038096  \n",
       "pressure        -0.050175  \n",
       "cloudcover       0.131543  \n",
       "DewPointF        0.037986  \n",
       "WindGustKmph    -0.044636  \n",
       "tempF           -0.038146  \n",
       "WindChillF      -0.038329  \n",
       "humidity         0.156726  \n",
       "time            -0.054618  \n",
       "airport          1.000000  \n",
       "\n",
       "[27 rows x 27 columns]"
      ]
     },
     "execution_count": 17,
     "metadata": {},
     "output_type": "execute_result"
    }
   ],
   "source": [
    "df.corr()"
   ]
  },
  {
   "cell_type": "markdown",
   "metadata": {},
   "source": [
    " "
   ]
  },
  {
   "cell_type": "markdown",
   "metadata": {},
   "source": [
    " "
   ]
  },
  {
   "cell_type": "markdown",
   "metadata": {},
   "source": [
    "  "
   ]
  },
  {
   "cell_type": "markdown",
   "metadata": {},
   "source": [
    " "
   ]
  },
  {
   "cell_type": "markdown",
   "metadata": {},
   "source": [
    " "
   ]
  },
  {
   "cell_type": "markdown",
   "metadata": {},
   "source": [
    "# Un-Sampled Data\n",
    "We will work the above classifier models using unsampled data, i.e data that has not be altered and predict if the flight is on time or delayed"
   ]
  },
  {
   "cell_type": "markdown",
   "metadata": {},
   "source": [
    "In this dataframe the variable we need to predict is '`ArrDel15` and therefore we need to divide it into two variables:\n",
    "* `X` - the input variable which helps us predict, which is all features except for `Arrdel15` and `ArrDelayMinutes`\n",
    "* `y` - the output variable or the predictor variable, which is basically the column `ArrDel15`\n",
    "\n",
    "We must then split them into train and test datasets using an inbuilt function from scikit learn called train_test_split : [LOOKUP](https://scikit-learn.org/stable/modules/generated/sklearn.model_selection.train_test_split.html)"
   ]
  },
  {
   "cell_type": "code",
   "execution_count": 18,
   "metadata": {},
   "outputs": [],
   "source": [
    "y = df['ArrDel15']\n",
    "X = df.drop(columns = ['ArrDel15'])\n",
    "# Spplitting the datasets\n",
    "from sklearn.model_selection import train_test_split\n",
    "X_train, X_test, y_train, y_test = train_test_split(X, y, train_size=0.7)"
   ]
  },
  {
   "cell_type": "code",
   "execution_count": 19,
   "metadata": {},
   "outputs": [
    {
     "data": {
      "text/plain": [
       "((1311508, 26), (562076, 26), (1311508,), (562076,))"
      ]
     },
     "execution_count": 19,
     "metadata": {},
     "output_type": "execute_result"
    }
   ],
   "source": [
    "X_train.shape, X_test.shape, y_train.shape, y_test.shape"
   ]
  },
  {
   "cell_type": "markdown",
   "metadata": {},
   "source": [
    "## Accuracy measurement\n",
    "There are also a few metrics that we use for checking the accuracy of our model. Some of them are\n",
    "1. model.score()\n",
    "2. A classification report that gives us the precision and the recall and also the F1 score, where:\n",
    "    1. Precision is the fraction of how many of the items that are selected are relevant.\n",
    "    2. Recall is the fraction of how many relevant items are selected.\n",
    "    3. F1 score which is the harmonic mean between the Precision and the Recall\n",
    "3. A confusion matrix which gives us a matrix of the true negatives($C_{0, 0}$), false negatives($C_{1, 0}$), true positives($C_{0, 1}$) false positives($C_{1, 1}$)"
   ]
  },
  {
   "cell_type": "code",
   "execution_count": 20,
   "metadata": {},
   "outputs": [],
   "source": [
    "import sklearn.metrics"
   ]
  },
  {
   "cell_type": "markdown",
   "metadata": {},
   "source": [
    "### METHOD\n",
    "Nearly all our classifiers follow the following method which is\n",
    "1. Call the classifier\n",
    "2. Fit it with out train data\n",
    "3. Run the accuracy metrics for our model"
   ]
  },
  {
   "cell_type": "markdown",
   "metadata": {},
   "source": [
    "## Logistic Regression\n",
    "Logistic regression is a statistical model that in its basic form uses a logistic function to model a binary dependent variable, although many more complex extensions exist. In regression analysis, logistic regression (or logit regression) is estimating the parameters of a logistic model (a form of binary regression)"
   ]
  },
  {
   "cell_type": "code",
   "execution_count": 21,
   "metadata": {},
   "outputs": [],
   "source": [
    "from sklearn.linear_model import LogisticRegression"
   ]
  },
  {
   "cell_type": "code",
   "execution_count": 22,
   "metadata": {},
   "outputs": [],
   "source": [
    "logistic_model = LogisticRegression(max_iter=500000)\n",
    "logistic_classifier = logistic_model.fit(X_train, y_train)"
   ]
  },
  {
   "cell_type": "code",
   "execution_count": 23,
   "metadata": {},
   "outputs": [
    {
     "name": "stdout",
     "output_type": "stream",
     "text": [
      "Logistic regression Train Accuracy : 91.75582611772097 %\n",
      "\n",
      "Logistic regression Test Accuracy : 91.72727531508194 %\n",
      "-------------------------------------------------------------------------------------------------\n",
      "\n",
      "Classification Report : \n",
      "               precision    recall  f1-score   support\n",
      "\n",
      "         0.0       0.92      0.98      0.95    446329\n",
      "         1.0       0.89      0.68      0.77    115747\n",
      "\n",
      "    accuracy                           0.92    562076\n",
      "   macro avg       0.91      0.83      0.86    562076\n",
      "weighted avg       0.92      0.92      0.91    562076\n",
      "\n",
      "-------------------------------------------------------------------------------------------------\n",
      "\n",
      " Confusion Matrix :- \n",
      "[[436747   9582]\n",
      " [ 36917  78830]]\n"
     ]
    }
   ],
   "source": [
    "y_pred_logistic = logistic_model.predict(X_test)\n",
    "print(\"Logistic regression Train Accuracy : {} %\".format(logistic_classifier.score(X_train, \n",
    "                                                                                   y_train)*100))\n",
    "print(\"\\nLogistic regression Test Accuracy : {} %\".format(sklearn.metrics.accuracy_score(y_test, \n",
    "                                                                                 y_pred_logistic)*100))\n",
    "print(\"-------------------------------------------------------------------------------------------------\")\n",
    "print(\"\\nClassification Report : \\n {}\".format(sklearn.metrics.classification_report(y_test, \n",
    "                                                                                     y_pred_logistic)))\n",
    "print(\"-------------------------------------------------------------------------------------------------\")\n",
    "print(\"\\n Confusion Matrix :- \\n{}\".format(sklearn.metrics.confusion_matrix(y_test, \n",
    "                                                                            y_pred_logistic)))"
   ]
  },
  {
   "cell_type": "markdown",
   "metadata": {},
   "source": [
    "## Random Forest\n",
    "Random forests or random decision forests are an ensemble learning method for classification, regression and other tasks that operate by constructing a multitude of decision trees at training time and outputting the class that is the mode of the classes or mean prediction of the individual trees."
   ]
  },
  {
   "cell_type": "code",
   "execution_count": 24,
   "metadata": {},
   "outputs": [],
   "source": [
    "from sklearn.ensemble import RandomForestClassifier"
   ]
  },
  {
   "cell_type": "code",
   "execution_count": 25,
   "metadata": {},
   "outputs": [],
   "source": [
    "random_forest_model = RandomForestClassifier()\n",
    "random_forest_classifier = random_forest_model.fit(X_train,y_train)"
   ]
  },
  {
   "cell_type": "code",
   "execution_count": 26,
   "metadata": {
    "scrolled": true
   },
   "outputs": [
    {
     "name": "stdout",
     "output_type": "stream",
     "text": [
      "Random Forest Clasifier Train Accuracy : 99.99893252652672 %\n",
      "\n",
      "Random Forest Clasifier Test Accuracy : 95.74986300784947 %\n",
      "-------------------------------------------------------------------------------------------------\n",
      "\n",
      "Classification Report : \n",
      "               precision    recall  f1-score   support\n",
      "\n",
      "         0.0       0.96      0.99      0.97    446329\n",
      "         1.0       0.96      0.83      0.89    115747\n",
      "\n",
      "    accuracy                           0.96    562076\n",
      "   macro avg       0.96      0.91      0.93    562076\n",
      "weighted avg       0.96      0.96      0.96    562076\n",
      "\n",
      "-------------------------------------------------------------------------------------------------\n",
      "\n",
      " Confusion Matrix :- \n",
      "[[442568   3761]\n",
      " [ 20128  95619]]\n"
     ]
    }
   ],
   "source": [
    "y_pred_randomforest = random_forest_model.predict(X_test)\n",
    "print(\"Random Forest Clasifier Train Accuracy : {} %\".format(random_forest_classifier.score(X_train,\n",
    "                                                                                            y_train)*100))\n",
    "print(\"\\nRandom Forest Clasifier Test Accuracy : {} %\".format(sklearn.metrics.accuracy_score(y_test, \n",
    "                                                                                     y_pred_randomforest)*100))\n",
    "print(\"-------------------------------------------------------------------------------------------------\")\n",
    "print(\"\\nClassification Report : \\n {}\".format(sklearn.metrics.classification_report(y_test, \n",
    "                                                                                     y_pred_randomforest)))\n",
    "print(\"-------------------------------------------------------------------------------------------------\")\n",
    "print(\"\\n Confusion Matrix :- \\n{}\".format(sklearn.metrics.confusion_matrix(y_test, \n",
    "                                                                            y_pred_randomforest)))"
   ]
  },
  {
   "cell_type": "markdown",
   "metadata": {},
   "source": [
    "## Extra trees Classifier\n",
    "Extremely Randomized Trees Classifier(Extra Trees Classifier) is a type of ensemble learning technique which aggregates the results of multiple de-correlated decision trees collected in a “forest” to output it's classification result"
   ]
  },
  {
   "cell_type": "code",
   "execution_count": 27,
   "metadata": {},
   "outputs": [],
   "source": [
    "from sklearn.ensemble import ExtraTreesClassifier"
   ]
  },
  {
   "cell_type": "code",
   "execution_count": 28,
   "metadata": {},
   "outputs": [],
   "source": [
    "extra_trees_model = ExtraTreesClassifier()\n",
    "extra_trees_classifier = extra_trees_model.fit(X_train, y_train)"
   ]
  },
  {
   "cell_type": "code",
   "execution_count": 29,
   "metadata": {},
   "outputs": [
    {
     "name": "stdout",
     "output_type": "stream",
     "text": [
      "Extra trees Clasifier Train Accuracy : 100.0 %\n",
      "\n",
      "Extra trees  Clasifier Test Accuracy : 96.68888193055743 %\n",
      "-------------------------------------------------------------------------------------------------\n",
      "\n",
      "Classification Report : \n",
      "               precision    recall  f1-score   support\n",
      "\n",
      "         0.0       0.97      0.99      0.98    446329\n",
      "         1.0       0.94      0.89      0.92    115747\n",
      "\n",
      "    accuracy                           0.97    562076\n",
      "   macro avg       0.96      0.94      0.95    562076\n",
      "weighted avg       0.97      0.97      0.97    562076\n",
      "\n",
      "-------------------------------------------------------------------------------------------------\n",
      "\n",
      " Confusion Matrix :- \n",
      "[[440300   6029]\n",
      " [ 12582 103165]]\n"
     ]
    }
   ],
   "source": [
    "y_pred_extratrees = extra_trees_model.predict(X_test)\n",
    "print(\"Extra trees Clasifier Train Accuracy : {} %\".format(extra_trees_classifier.score(X_train,\n",
    "                                                                                        y_train)*100))\n",
    "print(\"\\nExtra trees  Clasifier Test Accuracy : {} %\".format(sklearn.metrics.accuracy_score(y_test,\n",
    "                                                                                    y_pred_extratrees)*100))\n",
    "print(\"-------------------------------------------------------------------------------------------------\")\n",
    "print(\"\\nClassification Report : \\n {}\".format(sklearn.metrics.classification_report(y_test, \n",
    "                                                                                     y_pred_extratrees)))\n",
    "print(\"-------------------------------------------------------------------------------------------------\")\n",
    "print(\"\\n Confusion Matrix :- \\n{}\".format(sklearn.metrics.confusion_matrix(y_test, \n",
    "                                                                            y_pred_extratrees)))"
   ]
  },
  {
   "cell_type": "markdown",
   "metadata": {},
   "source": [
    "## Decision trees Classifier\n",
    "The decision tree classifier creates the classification model by building a decision tree. Each node in the tree specifies a test on an attribute, each branch descending from that node corresponds to one of the possible values for that attribute."
   ]
  },
  {
   "cell_type": "code",
   "execution_count": 30,
   "metadata": {},
   "outputs": [],
   "source": [
    "from sklearn.tree import DecisionTreeClassifier"
   ]
  },
  {
   "cell_type": "code",
   "execution_count": 31,
   "metadata": {},
   "outputs": [],
   "source": [
    "decision_trees_model = DecisionTreeClassifier()\n",
    "decision_trees_classifier = decision_trees_model.fit(X_train, y_train)"
   ]
  },
  {
   "cell_type": "code",
   "execution_count": 32,
   "metadata": {},
   "outputs": [
    {
     "name": "stdout",
     "output_type": "stream",
     "text": [
      "Decision Trees Clasifier Train Accuracy : 100.0 %\n",
      "\n",
      "Decision Trees Clasifier Test Accuracy : 96.68888193055743 %\n",
      "-------------------------------------------------------------------------------------------------\n",
      "\n",
      "Classification Report : \n",
      "               precision    recall  f1-score   support\n",
      "\n",
      "         0.0       0.97      0.99      0.98    446329\n",
      "         1.0       0.94      0.89      0.92    115747\n",
      "\n",
      "    accuracy                           0.97    562076\n",
      "   macro avg       0.96      0.94      0.95    562076\n",
      "weighted avg       0.97      0.97      0.97    562076\n",
      "\n",
      "-------------------------------------------------------------------------------------------------\n",
      "\n",
      " Confusion Matrix :- \n",
      "[[440300   6029]\n",
      " [ 12582 103165]]\n"
     ]
    }
   ],
   "source": [
    "y_pred_decisiontrees = extra_trees_model.predict(X_test)\n",
    "print(\"Decision Trees Clasifier Train Accuracy : {} %\".format(extra_trees_classifier.score(X_train,\n",
    "                                                                                           y_train)*100))\n",
    "print(\"\\nDecision Trees Clasifier Test Accuracy : {} %\".format(sklearn.metrics.accuracy_score(y_test,\n",
    "                                                                                      y_pred_decisiontrees)*100))\n",
    "print(\"-------------------------------------------------------------------------------------------------\")\n",
    "print(\"\\nClassification Report : \\n {}\".format(sklearn.metrics.classification_report(y_test, \n",
    "                                                                                     y_pred_decisiontrees)))\n",
    "print(\"-------------------------------------------------------------------------------------------------\")\n",
    "print(\"\\n Confusion Matrix :- \\n{}\".format(sklearn.metrics.confusion_matrix(y_test, \n",
    "                                                                            y_pred_decisiontrees)))"
   ]
  },
  {
   "cell_type": "markdown",
   "metadata": {},
   "source": [
    "## Gradient Booster Classifier\n",
    "Gradient boosting is a machine learning technique for regression and classification problems, which produces a prediction model in the form of an ensemble of weak prediction models, typically decision trees."
   ]
  },
  {
   "cell_type": "code",
   "execution_count": 33,
   "metadata": {},
   "outputs": [],
   "source": [
    "from sklearn.ensemble import GradientBoostingClassifier"
   ]
  },
  {
   "cell_type": "code",
   "execution_count": 34,
   "metadata": {},
   "outputs": [],
   "source": [
    "gradient_boost_model = GradientBoostingClassifier(random_state=0)\n",
    "gradient_boost_clf = gradient_boost_model.fit(X_train, y_train)"
   ]
  },
  {
   "cell_type": "code",
   "execution_count": 35,
   "metadata": {},
   "outputs": [
    {
     "name": "stdout",
     "output_type": "stream",
     "text": [
      "Gradient Booster Clasifier Train Accuracy : 91.88689661061923 %\n",
      "\n",
      "Gradient Booster Clasifier Test Accuracy : 91.84718792476461 %\n",
      "-------------------------------------------------------------------------------------------------\n",
      "\n",
      "Classification Report : \n",
      "               precision    recall  f1-score   support\n",
      "\n",
      "         0.0       0.92      0.98      0.95    446329\n",
      "         1.0       0.90      0.68      0.78    115747\n",
      "\n",
      "    accuracy                           0.92    562076\n",
      "   macro avg       0.91      0.83      0.86    562076\n",
      "weighted avg       0.92      0.92      0.91    562076\n",
      "\n",
      "-------------------------------------------------------------------------------------------------\n",
      "\n",
      " Confusion Matrix :- \n",
      "[[437315   9014]\n",
      " [ 36811  78936]]\n"
     ]
    }
   ],
   "source": [
    "y_pred_gradientboost = gradient_boost_model.predict(X_test)\n",
    "print(\"Gradient Booster Clasifier Train Accuracy : {} %\".format(gradient_boost_clf.score(X_train,\n",
    "                                                                                         y_train)*100))\n",
    "print(\"\\nGradient Booster Clasifier Test Accuracy : {} %\".format(sklearn.metrics.accuracy_score(y_test,\n",
    "                                                                                        y_pred_gradientboost)*100))\n",
    "print(\"-------------------------------------------------------------------------------------------------\")\n",
    "print(\"\\nClassification Report : \\n {}\".format(sklearn.metrics.classification_report(y_test, \n",
    "                                                                                     y_pred_gradientboost)))\n",
    "print(\"-------------------------------------------------------------------------------------------------\")\n",
    "print(\"\\n Confusion Matrix :- \\n{}\".format(sklearn.metrics.confusion_matrix(y_test, \n",
    "                                                                            y_pred_gradientboost)))"
   ]
  },
  {
   "cell_type": "markdown",
   "metadata": {},
   "source": [
    "### XGBoost Classifier\n",
    "XGBoost is a decision-tree-based ensemble Machine Learning algorithm that uses a gradient boosting framework"
   ]
  },
  {
   "cell_type": "code",
   "execution_count": 36,
   "metadata": {},
   "outputs": [],
   "source": [
    "import xgboost\n",
    "from xgboost import XGBClassifier\n",
    "xgboost_model = XGBClassifier()\n",
    "xbgoost_classifier = xgboost_model.fit(X_train, y_train)"
   ]
  },
  {
   "cell_type": "code",
   "execution_count": 37,
   "metadata": {},
   "outputs": [
    {
     "name": "stdout",
     "output_type": "stream",
     "text": [
      "XGBoost Clasifier Train Accuracy : 92.45113258935515 %\n",
      "\n",
      "XGBoost Trees Clasifier Test Accuracy : 92.2266739729147 %\n",
      "-------------------------------------------------------------------------------------------------\n",
      "\n",
      "Classification Report : \n",
      "               precision    recall  f1-score   support\n",
      "\n",
      "         0.0       0.93      0.98      0.95    446329\n",
      "         1.0       0.91      0.69      0.79    115747\n",
      "\n",
      "    accuracy                           0.92    562076\n",
      "   macro avg       0.92      0.84      0.87    562076\n",
      "weighted avg       0.92      0.92      0.92    562076\n",
      "\n",
      "-------------------------------------------------------------------------------------------------\n",
      "\n",
      " Confusion Matrix :- \n",
      "[[438149   8180]\n",
      " [ 35512  80235]]\n"
     ]
    }
   ],
   "source": [
    "y_pred_xgboost = xgboost_model.predict(X_test)\n",
    "print(\"XGBoost Clasifier Train Accuracy : {} %\".format(xbgoost_classifier.score(X_train, y_train)*100))\n",
    "print(\"\\nXGBoost Trees Clasifier Test Accuracy : {} %\".format(sklearn.metrics.accuracy_score(y_test, y_pred_xgboost)*100))\n",
    "print(\"-------------------------------------------------------------------------------------------------\")\n",
    "print(\"\\nClassification Report : \\n {}\".format(sklearn.metrics.classification_report(y_test, y_pred_xgboost)))\n",
    "print(\"-------------------------------------------------------------------------------------------------\")\n",
    "print(\"\\n Confusion Matrix :- \\n{}\".format(sklearn.metrics.confusion_matrix(y_test, y_pred_xgboost)))"
   ]
  },
  {
   "cell_type": "markdown",
   "metadata": {},
   "source": [
    " "
   ]
  },
  {
   "cell_type": "markdown",
   "metadata": {},
   "source": [
    " "
   ]
  },
  {
   "cell_type": "markdown",
   "metadata": {},
   "source": [
    "  "
   ]
  },
  {
   "cell_type": "markdown",
   "metadata": {},
   "source": [
    " "
   ]
  },
  {
   "cell_type": "markdown",
   "metadata": {},
   "source": [
    " "
   ]
  },
  {
   "cell_type": "markdown",
   "metadata": {},
   "source": [
    "# Sampled Data\n",
    "We will now work out models on oversampled and undersampled data.\n",
    "For the purpose of this project we will be looking at:\n",
    "* SMOTE oversampling [LOOKUP](https://imbalanced-learn.readthedocs.io/en/stable/generated/imblearn.over_sampling.SMOTE.html)\n",
    "* Random Undersampling [LOOKUP](https://imbalanced-learn.readthedocs.io/en/stable/generated/imblearn.under_sampling.RandomUnderSampler.html)"
   ]
  },
  {
   "cell_type": "markdown",
   "metadata": {},
   "source": [
    "## Considering SMOTE (Synthetic Minority Oversampling Technique)\n",
    "SMOTE is an oversampling technique that generates synthetic samples from the minority class. It is used to obtain a synthetically class-balanced or nearly class-balanced training set, which is then used to train the classifier."
   ]
  },
  {
   "cell_type": "code",
   "execution_count": 38,
   "metadata": {},
   "outputs": [
    {
     "name": "stdout",
     "output_type": "stream",
     "text": [
      "Original Number of values: \n",
      "0.0    1042255\n",
      "1.0     269253\n",
      "Name: ArrDel15, dtype: int64\n"
     ]
    }
   ],
   "source": [
    "# Looking at the original value counts\n",
    "print(\"Original Number of values: \\n{}\".format(y_train.value_counts()))"
   ]
  },
  {
   "cell_type": "code",
   "execution_count": 39,
   "metadata": {},
   "outputs": [
    {
     "name": "stdout",
     "output_type": "stream",
     "text": [
      "Values after SMOTE: \n",
      "1.0    1042255\n",
      "0.0    1042255\n",
      "Name: ArrDel15, dtype: int64\n"
     ]
    }
   ],
   "source": [
    "import imblearn.over_sampling\n",
    "over_sampler_SMOTE = imblearn.over_sampling.SMOTE(random_state = 285)\n",
    "X_train_SMOTE, y_train_SMOTE = over_sampler_SMOTE.fit_resample(X_train, y_train)\n",
    "\n",
    "# Now looking at the values for y_train\n",
    "print(\"Values after SMOTE: \\n{}\".format(y_train_SMOTE.value_counts()))"
   ]
  },
  {
   "cell_type": "markdown",
   "metadata": {},
   "source": [
    "## Logistic Regression\n",
    "Logistic regression is a statistical model that in its basic form uses a logistic function to model a binary dependent variable, although many more complex extensions exist. In regression analysis, logistic regression (or logit regression) is estimating the parameters of a logistic model (a form of binary regression)"
   ]
  },
  {
   "cell_type": "code",
   "execution_count": 40,
   "metadata": {},
   "outputs": [],
   "source": [
    "from sklearn.linear_model import LogisticRegression"
   ]
  },
  {
   "cell_type": "code",
   "execution_count": 41,
   "metadata": {
    "scrolled": false
   },
   "outputs": [],
   "source": [
    "logistic_model = LogisticRegression(max_iter=500000)\n",
    "logistic_classifier_SMOTE = logistic_model.fit(X_train_SMOTE, y_train_SMOTE)"
   ]
  },
  {
   "cell_type": "code",
   "execution_count": 42,
   "metadata": {},
   "outputs": [
    {
     "name": "stdout",
     "output_type": "stream",
     "text": [
      "Logistic regression Train Accuracy : 87.7611525010674 %\n",
      "\n",
      "Logistic regression Test Accuracy : 89.8629366847188 %\n",
      "-------------------------------------------------------------------------------------------------\n",
      "\n",
      "Classification Report : \n",
      "               precision    recall  f1-score   support\n",
      "\n",
      "         0.0       0.94      0.93      0.94    446329\n",
      "         1.0       0.74      0.78      0.76    115747\n",
      "\n",
      "    accuracy                           0.90    562076\n",
      "   macro avg       0.84      0.85      0.85    562076\n",
      "weighted avg       0.90      0.90      0.90    562076\n",
      "\n",
      "-------------------------------------------------------------------------------------------------\n",
      "\n",
      " Confusion Matrix :- \n",
      "[[415387  30942]\n",
      " [ 26036  89711]]\n"
     ]
    }
   ],
   "source": [
    "y_pred_logistic_SMOTE = logistic_model.predict(X_test)\n",
    "print(\"Logistic regression Train Accuracy : {} %\".format(logistic_classifier_SMOTE.score(X_train_SMOTE,\n",
    "                                                                                         y_train_SMOTE)*100))\n",
    "print(\"\\nLogistic regression Test Accuracy : {} %\".format(sklearn.metrics.accuracy_score(y_test, \n",
    "                                                                                 y_pred_logistic_SMOTE)*100))\n",
    "print(\"-------------------------------------------------------------------------------------------------\")\n",
    "print(\"\\nClassification Report : \\n {}\".format(sklearn.metrics.classification_report(y_test, \n",
    "                                                                                     y_pred_logistic_SMOTE)))\n",
    "print(\"-------------------------------------------------------------------------------------------------\")\n",
    "print(\"\\n Confusion Matrix :- \\n{}\".format(sklearn.metrics.confusion_matrix(y_test, y_pred_logistic_SMOTE)))"
   ]
  },
  {
   "cell_type": "markdown",
   "metadata": {},
   "source": [
    "## Random Forest\n",
    "Random forests or random decision forests are an ensemble learning method for classification, regression and other tasks that operate by constructing a multitude of decision trees at training time and outputting the class that is the mode of the classes or mean prediction of the individual trees."
   ]
  },
  {
   "cell_type": "code",
   "execution_count": 43,
   "metadata": {},
   "outputs": [],
   "source": [
    "from sklearn.ensemble import RandomForestClassifier"
   ]
  },
  {
   "cell_type": "code",
   "execution_count": 44,
   "metadata": {},
   "outputs": [],
   "source": [
    "random_forest_model = RandomForestClassifier()\n",
    "random_forest_classifier_SMOTE = random_forest_model.fit(X_train_SMOTE,y_train_SMOTE)"
   ]
  },
  {
   "cell_type": "code",
   "execution_count": 45,
   "metadata": {},
   "outputs": [
    {
     "name": "stdout",
     "output_type": "stream",
     "text": [
      "Random Forest Clasifier Train Accuracy : 99.99904054190193 %\n",
      "\n",
      "Random Forest Clasifier Test Accuracy : 95.86248123029625 %\n",
      "-------------------------------------------------------------------------------------------------\n",
      "\n",
      "Classification Report : \n",
      "               precision    recall  f1-score   support\n",
      "\n",
      "         0.0       0.96      0.99      0.97    446329\n",
      "         1.0       0.95      0.85      0.89    115747\n",
      "\n",
      "    accuracy                           0.96    562076\n",
      "   macro avg       0.95      0.92      0.93    562076\n",
      "weighted avg       0.96      0.96      0.96    562076\n",
      "\n",
      "-------------------------------------------------------------------------------------------------\n",
      "\n",
      " Confusion Matrix :- \n",
      "[[441007   5322]\n",
      " [ 17934  97813]]\n"
     ]
    }
   ],
   "source": [
    "y_pred_randomforest_SMOTE = random_forest_model.predict(X_test)\n",
    "print(\"Random Forest Clasifier Train Accuracy : {} %\".format(random_forest_classifier_SMOTE.score(X_train_SMOTE, \n",
    "                                                                                                  y_train_SMOTE)*100))\n",
    "print(\"\\nRandom Forest Clasifier Test Accuracy : {} %\".format(sklearn.metrics.accuracy_score(y_test, \n",
    "                                                                                     y_pred_randomforest_SMOTE)*100))\n",
    "print(\"-------------------------------------------------------------------------------------------------\")\n",
    "print(\"\\nClassification Report : \\n {}\".format(sklearn.metrics.classification_report(y_test, \n",
    "                                                                                     y_pred_randomforest_SMOTE)))\n",
    "print(\"-------------------------------------------------------------------------------------------------\")\n",
    "print(\"\\n Confusion Matrix :- \\n{}\".format(sklearn.metrics.confusion_matrix(y_test, \n",
    "                                                                            y_pred_randomforest_SMOTE)))"
   ]
  },
  {
   "cell_type": "markdown",
   "metadata": {},
   "source": [
    "## Extra trees Classifier\n",
    "Extremely Randomized Trees Classifier(Extra Trees Classifier) is a type of ensemble learning technique which aggregates the results of multiple de-correlated decision trees collected in a “forest” to output it's classification result"
   ]
  },
  {
   "cell_type": "code",
   "execution_count": 46,
   "metadata": {},
   "outputs": [],
   "source": [
    "from sklearn.ensemble import ExtraTreesClassifier"
   ]
  },
  {
   "cell_type": "code",
   "execution_count": 47,
   "metadata": {},
   "outputs": [],
   "source": [
    "extra_trees_model = ExtraTreesClassifier()\n",
    "extra_trees_classifier_SMOTE = extra_trees_model.fit(X_train_SMOTE,y_train_SMOTE)"
   ]
  },
  {
   "cell_type": "code",
   "execution_count": 48,
   "metadata": {},
   "outputs": [
    {
     "name": "stdout",
     "output_type": "stream",
     "text": [
      "Extra trees Clasifier Train Accuracy : 100.0 %\n",
      "\n",
      "Extra trees  Clasifier Test Accuracy : 96.47876799578705 %\n",
      "-------------------------------------------------------------------------------------------------\n",
      "\n",
      "Classification Report : \n",
      "               precision    recall  f1-score   support\n",
      "\n",
      "         0.0       0.97      0.98      0.98    446329\n",
      "         1.0       0.93      0.89      0.91    115747\n",
      "\n",
      "    accuracy                           0.96    562076\n",
      "   macro avg       0.95      0.94      0.95    562076\n",
      "weighted avg       0.96      0.96      0.96    562076\n",
      "\n",
      "-------------------------------------------------------------------------------------------------\n",
      "\n",
      " Confusion Matrix :- \n",
      "[[438740   7589]\n",
      " [ 12203 103544]]\n"
     ]
    }
   ],
   "source": [
    "y_pred_extratrees_SMOTE = extra_trees_model.predict(X_test)\n",
    "print(\"Extra trees Clasifier Train Accuracy : {} %\".format(extra_trees_classifier_SMOTE.score(X_train_SMOTE,\n",
    "                                                                                              y_train_SMOTE)*100))\n",
    "print(\"\\nExtra trees  Clasifier Test Accuracy : {} %\".format(sklearn.metrics.accuracy_score(y_test, \n",
    "                                                                                     y_pred_extratrees_SMOTE)*100))\n",
    "print(\"-------------------------------------------------------------------------------------------------\")\n",
    "print(\"\\nClassification Report : \\n {}\".format(sklearn.metrics.classification_report(y_test, \n",
    "                                                                                     y_pred_extratrees_SMOTE)))\n",
    "print(\"-------------------------------------------------------------------------------------------------\")\n",
    "print(\"\\n Confusion Matrix :- \\n{}\".format(sklearn.metrics.confusion_matrix(y_test, \n",
    "                                                                            y_pred_extratrees_SMOTE)))"
   ]
  },
  {
   "cell_type": "markdown",
   "metadata": {},
   "source": [
    "## Decision trees Classifier\n",
    "The decision tree classifier creates the classification model by building a decision tree. Each node in the tree specifies a test on an attribute, each branch descending from that node corresponds to one of the possible values for that attribute."
   ]
  },
  {
   "cell_type": "code",
   "execution_count": 49,
   "metadata": {},
   "outputs": [],
   "source": [
    "from sklearn.tree import DecisionTreeClassifier\n",
    "decision_trees_model = DecisionTreeClassifier()\n",
    "decision_trees_classifier_SMOTE = decision_trees_model.fit(X_train_SMOTE, y_train_SMOTE)"
   ]
  },
  {
   "cell_type": "code",
   "execution_count": 50,
   "metadata": {},
   "outputs": [
    {
     "name": "stdout",
     "output_type": "stream",
     "text": [
      "Decision Trees Clasifier Train Accuracy : 100.0 %\n",
      "\n",
      "Decision Trees Clasifier Test Accuracy : 94.4359837459703 %\n",
      "-------------------------------------------------------------------------------------------------\n",
      "\n",
      "Classification Report : \n",
      "               precision    recall  f1-score   support\n",
      "\n",
      "         0.0       0.97      0.96      0.96    446329\n",
      "         1.0       0.86      0.87      0.87    115747\n",
      "\n",
      "    accuracy                           0.94    562076\n",
      "   macro avg       0.91      0.92      0.92    562076\n",
      "weighted avg       0.94      0.94      0.94    562076\n",
      "\n",
      "-------------------------------------------------------------------------------------------------\n",
      "\n",
      " Confusion Matrix :- \n",
      "[[429815  16514]\n",
      " [ 14760 100987]]\n"
     ]
    }
   ],
   "source": [
    "y_pred_decisiontrees_SMOTE = decision_trees_model.predict(X_test)\n",
    "print(\"Decision Trees Clasifier Train Accuracy : {} %\".format(decision_trees_classifier_SMOTE.score(X_train,\n",
    "                                                                                                    y_train)*100))\n",
    "print(\"\\nDecision Trees Clasifier Test Accuracy : {} %\".format(sklearn.metrics.accuracy_score(y_test,\n",
    "                                                                                      y_pred_decisiontrees_SMOTE)*100))\n",
    "print(\"-------------------------------------------------------------------------------------------------\")\n",
    "print(\"\\nClassification Report : \\n {}\".format(sklearn.metrics.classification_report(y_test, \n",
    "                                                                                     y_pred_decisiontrees_SMOTE)))\n",
    "print(\"-------------------------------------------------------------------------------------------------\")\n",
    "print(\"\\n Confusion Matrix :- \\n{}\".format(sklearn.metrics.confusion_matrix(y_test, \n",
    "                                                                            y_pred_decisiontrees_SMOTE)))"
   ]
  },
  {
   "cell_type": "markdown",
   "metadata": {},
   "source": [
    "## Gradient Booster Classifier\n",
    "Gradient boosting is a machine learning technique for regression and classification problems, which produces a prediction model in the form of an ensemble of weak prediction models, typically decision trees."
   ]
  },
  {
   "cell_type": "code",
   "execution_count": 51,
   "metadata": {},
   "outputs": [],
   "source": [
    "from sklearn.ensemble import GradientBoostingClassifier"
   ]
  },
  {
   "cell_type": "code",
   "execution_count": 52,
   "metadata": {},
   "outputs": [],
   "source": [
    "gradient_boost_model = GradientBoostingClassifier(random_state=0)\n",
    "gradient_boost_clf_SMOTE = gradient_boost_model.fit(X_train, y_train)"
   ]
  },
  {
   "cell_type": "code",
   "execution_count": 53,
   "metadata": {},
   "outputs": [
    {
     "name": "stdout",
     "output_type": "stream",
     "text": [
      "Gradient Booster Clasifier Train Accuracy : 91.88689661061923 %\n",
      "\n",
      "Gradient Booster Clasifier Test Accuracy : 91.84718792476461 %\n",
      "-------------------------------------------------------------------------------------------------\n",
      "\n",
      "Classification Report : \n",
      "               precision    recall  f1-score   support\n",
      "\n",
      "         0.0       0.92      0.98      0.95    446329\n",
      "         1.0       0.90      0.68      0.78    115747\n",
      "\n",
      "    accuracy                           0.92    562076\n",
      "   macro avg       0.91      0.83      0.86    562076\n",
      "weighted avg       0.92      0.92      0.91    562076\n",
      "\n",
      "-------------------------------------------------------------------------------------------------\n",
      "\n",
      " Confusion Matrix :- \n",
      "[[437315   9014]\n",
      " [ 36811  78936]]\n"
     ]
    }
   ],
   "source": [
    "y_pred_gradientboost_SMOTE = gradient_boost_model.predict(X_test)\n",
    "print(\"Gradient Booster Clasifier Train Accuracy : {} %\".format(gradient_boost_clf_SMOTE.score(X_train,\n",
    "                                                                                               y_train)*100))\n",
    "print(\"\\nGradient Booster Clasifier Test Accuracy : {} %\".format(sklearn.metrics.accuracy_score(y_test, \n",
    "                                                                                               y_pred_gradientboost_SMOTE)*100))\n",
    "print(\"-------------------------------------------------------------------------------------------------\")\n",
    "print(\"\\nClassification Report : \\n {}\".format(sklearn.metrics.classification_report(y_test, \n",
    "                                                                                     y_pred_gradientboost_SMOTE)))\n",
    "print(\"-------------------------------------------------------------------------------------------------\")\n",
    "print(\"\\n Confusion Matrix :- \\n{}\".format(sklearn.metrics.confusion_matrix(y_test,\n",
    "                                                                            y_pred_gradientboost_SMOTE)))"
   ]
  },
  {
   "cell_type": "markdown",
   "metadata": {},
   "source": [
    "### XGBoost Classifier\n",
    "XGBoost is a decision-tree-based ensemble Machine Learning algorithm that uses a gradient boosting framework"
   ]
  },
  {
   "cell_type": "code",
   "execution_count": 54,
   "metadata": {},
   "outputs": [],
   "source": [
    "from xgboost import XGBClassifier\n",
    "xgboost_model = XGBClassifier()\n",
    "xgboost_classifier_SMOTE = xgboost_model.fit(X_train_SMOTE, y_train_SMOTE)"
   ]
  },
  {
   "cell_type": "code",
   "execution_count": 55,
   "metadata": {},
   "outputs": [
    {
     "name": "stdout",
     "output_type": "stream",
     "text": [
      "XGBoost Clasifier Train Accuracy : 94.79436414313196 %\n",
      "\n",
      "XGBoost Clasifier Test Accuracy : 92.071712722123 %\n",
      "-------------------------------------------------------------------------------------------------\n",
      "\n",
      "Classification Report : \n",
      "               precision    recall  f1-score   support\n",
      "\n",
      "         0.0       0.93      0.98      0.95    446329\n",
      "         1.0       0.89      0.70      0.79    115747\n",
      "\n",
      "    accuracy                           0.92    562076\n",
      "   macro avg       0.91      0.84      0.87    562076\n",
      "weighted avg       0.92      0.92      0.92    562076\n",
      "\n",
      "-------------------------------------------------------------------------------------------------\n",
      "\n",
      " Confusion Matrix :- \n",
      "[[435986  10343]\n",
      " [ 34220  81527]]\n"
     ]
    }
   ],
   "source": [
    "y_pred_xgboost_SMOTE = xgboost_model.predict(X_test)\n",
    "print(\"XGBoost Clasifier Train Accuracy : {} %\".format(xgboost_classifier_SMOTE.score(X_train_SMOTE, \n",
    "                                                                                           y_train_SMOTE)*100))\n",
    "print(\"\\nXGBoost Clasifier Test Accuracy : {} %\".format(sklearn.metrics.accuracy_score(y_test, \n",
    "                                                                                              y_pred_xgboost_SMOTE)*100))\n",
    "print(\"-------------------------------------------------------------------------------------------------\")\n",
    "print(\"\\nClassification Report : \\n {}\".format(sklearn.metrics.classification_report(y_test, \n",
    "                                                                                     y_pred_xgboost_SMOTE)))\n",
    "print(\"-------------------------------------------------------------------------------------------------\")\n",
    "print(\"\\n Confusion Matrix :- \\n{}\".format(sklearn.metrics.confusion_matrix(y_test, \n",
    "                                                                            y_pred_xgboost_SMOTE)))"
   ]
  },
  {
   "cell_type": "markdown",
   "metadata": {},
   "source": [
    " "
   ]
  },
  {
   "cell_type": "markdown",
   "metadata": {},
   "source": [
    " "
   ]
  },
  {
   "cell_type": "markdown",
   "metadata": {},
   "source": [
    " "
   ]
  },
  {
   "cell_type": "markdown",
   "metadata": {},
   "source": [
    " "
   ]
  },
  {
   "cell_type": "markdown",
   "metadata": {},
   "source": [
    " "
   ]
  },
  {
   "cell_type": "markdown",
   "metadata": {},
   "source": [
    "## Considering Random Undersampling"
   ]
  },
  {
   "cell_type": "code",
   "execution_count": 56,
   "metadata": {},
   "outputs": [
    {
     "name": "stdout",
     "output_type": "stream",
     "text": [
      "Original Number of values: \n",
      "0.0    1042255\n",
      "1.0     269253\n",
      "Name: ArrDel15, dtype: int64\n"
     ]
    }
   ],
   "source": [
    "# Looking at the original value counts\n",
    "print(\"Original Number of values: \\n{}\".format(y_train.value_counts()))"
   ]
  },
  {
   "cell_type": "code",
   "execution_count": 57,
   "metadata": {
    "scrolled": true
   },
   "outputs": [
    {
     "name": "stdout",
     "output_type": "stream",
     "text": [
      "Values after Random Under Sampling: \n",
      "1.0    269253\n",
      "0.0    269253\n",
      "Name: ArrDel15, dtype: int64\n"
     ]
    }
   ],
   "source": [
    "from imblearn.under_sampling import RandomUnderSampler\n",
    "random_under_sampler = RandomUnderSampler(random_state = 285)\n",
    "X_train_RUS, y_train_RUS = random_under_sampler.fit_resample(X_train,y_train)\n",
    "print(\"Values after Random Under Sampling: \\n{}\".format(y_train_RUS.value_counts()))"
   ]
  },
  {
   "cell_type": "markdown",
   "metadata": {},
   "source": [
    "## Logistic Regression\n",
    "Logistic regression is a statistical model that in its basic form uses a logistic function to model a binary dependent variable, although many more complex extensions exist. In regression analysis, logistic regression (or logit regression) is estimating the parameters of a logistic model (a form of binary regression)"
   ]
  },
  {
   "cell_type": "code",
   "execution_count": 58,
   "metadata": {},
   "outputs": [],
   "source": [
    "from sklearn.linear_model import LogisticRegression"
   ]
  },
  {
   "cell_type": "code",
   "execution_count": 59,
   "metadata": {},
   "outputs": [],
   "source": [
    "logistic_model = LogisticRegression(max_iter=500000)\n",
    "logistic_classifier_RUS = logistic_model.fit(X_train_RUS, y_train_RUS)"
   ]
  },
  {
   "cell_type": "code",
   "execution_count": 60,
   "metadata": {},
   "outputs": [
    {
     "name": "stdout",
     "output_type": "stream",
     "text": [
      "Logistic regression Train Accuracy : 85.30248502337949 %\n",
      "\n",
      "Logistic regression Test Accuracy : 89.6932087475715 %\n",
      "-------------------------------------------------------------------------------------------------\n",
      "\n",
      "Classification Report : \n",
      "               precision    recall  f1-score   support\n",
      "\n",
      "         0.0       0.94      0.93      0.93    446329\n",
      "         1.0       0.74      0.78      0.76    115747\n",
      "\n",
      "    accuracy                           0.90    562076\n",
      "   macro avg       0.84      0.85      0.85    562076\n",
      "weighted avg       0.90      0.90      0.90    562076\n",
      "\n",
      "-------------------------------------------------------------------------------------------------\n",
      "\n",
      " Confusion Matrix :- \n",
      "[[414104  32225]\n",
      " [ 25707  90040]]\n"
     ]
    }
   ],
   "source": [
    "y_pred_logistic_RUS = logistic_model.predict(X_test)\n",
    "print(\"Logistic regression Train Accuracy : {} %\".format(logistic_classifier_RUS.score(X_train_RUS, \n",
    "                                                                                   y_train_RUS)*100))\n",
    "print(\"\\nLogistic regression Test Accuracy : {} %\".format(sklearn.metrics.accuracy_score(y_test, \n",
    "                                                                                 y_pred_logistic_RUS)*100))\n",
    "print(\"-------------------------------------------------------------------------------------------------\")\n",
    "print(\"\\nClassification Report : \\n {}\".format(sklearn.metrics.classification_report(y_test, \n",
    "                                                                                     y_pred_logistic_RUS)))\n",
    "print(\"-------------------------------------------------------------------------------------------------\")\n",
    "print(\"\\n Confusion Matrix :- \\n{}\".format(sklearn.metrics.confusion_matrix(y_test, \n",
    "                                                                            y_pred_logistic_RUS)))"
   ]
  },
  {
   "cell_type": "markdown",
   "metadata": {},
   "source": [
    "## Random Forest\n",
    "Random forests or random decision forests are an ensemble learning method for classification, regression and other tasks that operate by constructing a multitude of decision trees at training time and outputting the class that is the mode of the classes or mean prediction of the individual trees."
   ]
  },
  {
   "cell_type": "code",
   "execution_count": 61,
   "metadata": {},
   "outputs": [],
   "source": [
    "from sklearn.ensemble import RandomForestClassifier"
   ]
  },
  {
   "cell_type": "code",
   "execution_count": 62,
   "metadata": {},
   "outputs": [],
   "source": [
    "random_forest_model = RandomForestClassifier()\n",
    "random_forest_classifier_RUS = random_forest_model.fit(X_train_RUS, y_train_RUS)"
   ]
  },
  {
   "cell_type": "code",
   "execution_count": 63,
   "metadata": {},
   "outputs": [
    {
     "name": "stdout",
     "output_type": "stream",
     "text": [
      "Random Forest Clasifier Train Accuracy : 99.99962860209543 %\n",
      "\n",
      "Random Forest Clasifier Test Accuracy : 92.63551548189213 %\n",
      "-------------------------------------------------------------------------------------------------\n",
      "\n",
      "Classification Report : \n",
      "               precision    recall  f1-score   support\n",
      "\n",
      "         0.0       0.97      0.93      0.95    446329\n",
      "         1.0       0.77      0.91      0.84    115747\n",
      "\n",
      "    accuracy                           0.93    562076\n",
      "   macro avg       0.87      0.92      0.89    562076\n",
      "weighted avg       0.93      0.93      0.93    562076\n",
      "\n",
      "-------------------------------------------------------------------------------------------------\n",
      "\n",
      " Confusion Matrix :- \n",
      "[[415806  30523]\n",
      " [ 10871 104876]]\n"
     ]
    }
   ],
   "source": [
    "y_pred_randomforest_RUS = random_forest_model.predict(X_test)\n",
    "print(\"Random Forest Clasifier Train Accuracy : {} %\".format(random_forest_classifier_RUS.score(X_train_RUS,\n",
    "                                                                                            y_train_RUS)*100))\n",
    "print(\"\\nRandom Forest Clasifier Test Accuracy : {} %\".format(sklearn.metrics.accuracy_score(y_test, \n",
    "                                                                                     y_pred_randomforest_RUS)*100))\n",
    "print(\"-------------------------------------------------------------------------------------------------\")\n",
    "print(\"\\nClassification Report : \\n {}\".format(sklearn.metrics.classification_report(y_test, \n",
    "                                                                                     y_pred_randomforest_RUS)))\n",
    "print(\"-------------------------------------------------------------------------------------------------\")\n",
    "print(\"\\n Confusion Matrix :- \\n{}\".format(sklearn.metrics.confusion_matrix(y_test, \n",
    "                                                                            y_pred_randomforest_RUS)))"
   ]
  },
  {
   "cell_type": "markdown",
   "metadata": {},
   "source": [
    "## Extra trees Classifier\n",
    "Extremely Randomized Trees Classifier(Extra Trees Classifier) is a type of ensemble learning technique which aggregates the results of multiple de-correlated decision trees collected in a “forest” to output it's classification result"
   ]
  },
  {
   "cell_type": "code",
   "execution_count": 64,
   "metadata": {},
   "outputs": [],
   "source": [
    "from sklearn.ensemble import ExtraTreesClassifier"
   ]
  },
  {
   "cell_type": "code",
   "execution_count": 65,
   "metadata": {},
   "outputs": [],
   "source": [
    "extra_trees_model = ExtraTreesClassifier()\n",
    "extra_trees_classifier_RUS = extra_trees_model.fit(X_train_RUS, y_train_RUS)"
   ]
  },
  {
   "cell_type": "code",
   "execution_count": 66,
   "metadata": {},
   "outputs": [
    {
     "name": "stdout",
     "output_type": "stream",
     "text": [
      "Extra trees Clasifier Train Accuracy : 100.0 %\n",
      "\n",
      "Extra trees  Clasifier Test Accuracy : 92.49354179861798 %\n",
      "-------------------------------------------------------------------------------------------------\n",
      "\n",
      "Classification Report : \n",
      "               precision    recall  f1-score   support\n",
      "\n",
      "         0.0       0.98      0.92      0.95    446329\n",
      "         1.0       0.76      0.93      0.84    115747\n",
      "\n",
      "    accuracy                           0.92    562076\n",
      "   macro avg       0.87      0.93      0.89    562076\n",
      "weighted avg       0.94      0.92      0.93    562076\n",
      "\n",
      "-------------------------------------------------------------------------------------------------\n",
      "\n",
      " Confusion Matrix :- \n",
      "[[411819  34510]\n",
      " [  7682 108065]]\n"
     ]
    }
   ],
   "source": [
    "y_pred_extratrees_RUS = extra_trees_model.predict(X_test)\n",
    "print(\"Extra trees Clasifier Train Accuracy : {} %\".format(extra_trees_classifier.score(X_train_RUS,\n",
    "                                                                                        y_train_RUS)*100))\n",
    "print(\"\\nExtra trees  Clasifier Test Accuracy : {} %\".format(sklearn.metrics.accuracy_score(y_test,\n",
    "                                                                                    y_pred_extratrees_RUS)*100))\n",
    "print(\"-------------------------------------------------------------------------------------------------\")\n",
    "print(\"\\nClassification Report : \\n {}\".format(sklearn.metrics.classification_report(y_test, \n",
    "                                                                                     y_pred_extratrees_RUS)))\n",
    "print(\"-------------------------------------------------------------------------------------------------\")\n",
    "print(\"\\n Confusion Matrix :- \\n{}\".format(sklearn.metrics.confusion_matrix(y_test, \n",
    "                                                                            y_pred_extratrees_RUS)))"
   ]
  },
  {
   "cell_type": "markdown",
   "metadata": {},
   "source": [
    "## Decision trees Classifier\n",
    "The decision tree classifier creates the classification model by building a decision tree. Each node in the tree specifies a test on an attribute, each branch descending from that node corresponds to one of the possible values for that attribute."
   ]
  },
  {
   "cell_type": "code",
   "execution_count": 67,
   "metadata": {},
   "outputs": [],
   "source": [
    "from sklearn.tree import DecisionTreeClassifier"
   ]
  },
  {
   "cell_type": "code",
   "execution_count": 68,
   "metadata": {},
   "outputs": [],
   "source": [
    "decision_trees_model = DecisionTreeClassifier()\n",
    "decision_trees_classifier_RUS = decision_trees_model.fit(X_train_RUS, y_train_RUS)"
   ]
  },
  {
   "cell_type": "code",
   "execution_count": 69,
   "metadata": {},
   "outputs": [
    {
     "name": "stdout",
     "output_type": "stream",
     "text": [
      "Decision Trees Clasifier Train Accuracy : 100.0 %\n",
      "\n",
      "Decision Trees Clasifier Test Accuracy : 92.49354179861798 %\n",
      "-------------------------------------------------------------------------------------------------\n",
      "\n",
      "Classification Report : \n",
      "               precision    recall  f1-score   support\n",
      "\n",
      "         0.0       0.98      0.92      0.95    446329\n",
      "         1.0       0.76      0.93      0.84    115747\n",
      "\n",
      "    accuracy                           0.92    562076\n",
      "   macro avg       0.87      0.93      0.89    562076\n",
      "weighted avg       0.94      0.92      0.93    562076\n",
      "\n",
      "-------------------------------------------------------------------------------------------------\n",
      "\n",
      " Confusion Matrix :- \n",
      "[[411819  34510]\n",
      " [  7682 108065]]\n"
     ]
    }
   ],
   "source": [
    "y_pred_decisiontrees_RUS = extra_trees_model.predict(X_test)\n",
    "print(\"Decision Trees Clasifier Train Accuracy : {} %\".format(extra_trees_classifier_RUS.score(X_train_RUS,\n",
    "                                                                                           y_train_RUS)*100))\n",
    "print(\"\\nDecision Trees Clasifier Test Accuracy : {} %\".format(sklearn.metrics.accuracy_score(y_test,\n",
    "                                                                                      y_pred_decisiontrees_RUS)*100))\n",
    "print(\"-------------------------------------------------------------------------------------------------\")\n",
    "print(\"\\nClassification Report : \\n {}\".format(sklearn.metrics.classification_report(y_test, \n",
    "                                                                                     y_pred_decisiontrees_RUS)))\n",
    "print(\"-------------------------------------------------------------------------------------------------\")\n",
    "print(\"\\n Confusion Matrix :- \\n{}\".format(sklearn.metrics.confusion_matrix(y_test, \n",
    "                                                                            y_pred_decisiontrees_RUS)))"
   ]
  },
  {
   "cell_type": "markdown",
   "metadata": {},
   "source": [
    "## Gradient Booster Classifier\n",
    "Gradient boosting is a machine learning technique for regression and classification problems, which produces a prediction model in the form of an ensemble of weak prediction models, typically decision trees."
   ]
  },
  {
   "cell_type": "code",
   "execution_count": 70,
   "metadata": {},
   "outputs": [],
   "source": [
    "from sklearn.ensemble import GradientBoostingClassifier"
   ]
  },
  {
   "cell_type": "code",
   "execution_count": 71,
   "metadata": {},
   "outputs": [],
   "source": [
    "gradient_boost_model = GradientBoostingClassifier(random_state=0)\n",
    "gradient_boost_clf_RUS = gradient_boost_model.fit(X_train_RUS, y_train_RUS)"
   ]
  },
  {
   "cell_type": "code",
   "execution_count": 72,
   "metadata": {},
   "outputs": [
    {
     "name": "stdout",
     "output_type": "stream",
     "text": [
      "Gradient Booster Clasifier Train Accuracy : 83.13073577638875 %\n",
      "\n",
      "Gradient Booster Clasifier Test Accuracy : 89.57756602310008 %\n",
      "-------------------------------------------------------------------------------------------------\n",
      "\n",
      "Classification Report : \n",
      "               precision    recall  f1-score   support\n",
      "\n",
      "         0.0       0.94      0.92      0.93    446329\n",
      "         1.0       0.73      0.79      0.76    115747\n",
      "\n",
      "    accuracy                           0.90    562076\n",
      "   macro avg       0.84      0.86      0.85    562076\n",
      "weighted avg       0.90      0.90      0.90    562076\n",
      "\n",
      "-------------------------------------------------------------------------------------------------\n",
      "\n",
      " Confusion Matrix :- \n",
      "[[412337  33992]\n",
      " [ 24590  91157]]\n"
     ]
    }
   ],
   "source": [
    "y_pred_gradientboost_RUS = gradient_boost_model.predict(X_test)\n",
    "print(\"Gradient Booster Clasifier Train Accuracy : {} %\".format(gradient_boost_clf.score(X_train_RUS,\n",
    "                                                                                         y_train_RUS)*100))\n",
    "print(\"\\nGradient Booster Clasifier Test Accuracy : {} %\".format(sklearn.metrics.accuracy_score(y_test,\n",
    "                                                                                        y_pred_gradientboost_RUS)*100))\n",
    "print(\"-------------------------------------------------------------------------------------------------\")\n",
    "print(\"\\nClassification Report : \\n {}\".format(sklearn.metrics.classification_report(y_test, \n",
    "                                                                                     y_pred_gradientboost_RUS)))\n",
    "print(\"-------------------------------------------------------------------------------------------------\")\n",
    "print(\"\\n Confusion Matrix :- \\n{}\".format(sklearn.metrics.confusion_matrix(y_test, \n",
    "                                                                            y_pred_gradientboost_RUS)))"
   ]
  },
  {
   "cell_type": "markdown",
   "metadata": {},
   "source": [
    "### XGBoost Classifier\n",
    "XGBoost is a decision-tree-based ensemble Machine Learning algorithm that uses a gradient boosting framework"
   ]
  },
  {
   "cell_type": "code",
   "execution_count": 73,
   "metadata": {},
   "outputs": [],
   "source": [
    "from xgboost import XGBClassifier\n",
    "xgboost_model = XGBClassifier()\n",
    "xgboost_classifier_RUS = xgboost_model.fit(X_train_RUS, y_train_RUS)"
   ]
  },
  {
   "cell_type": "code",
   "execution_count": 74,
   "metadata": {
    "scrolled": true
   },
   "outputs": [
    {
     "name": "stdout",
     "output_type": "stream",
     "text": [
      "XGBoost Clasifier Train Accuracy : 86.95650559139546 %\n",
      "\n",
      "XGBoost Clasifier Test Accuracy : 89.86542745109203 %\n",
      "-------------------------------------------------------------------------------------------------\n",
      "\n",
      "Classification Report : \n",
      "               precision    recall  f1-score   support\n",
      "\n",
      "         0.0       0.95      0.92      0.94    446329\n",
      "         1.0       0.73      0.81      0.77    115747\n",
      "\n",
      "    accuracy                           0.90    562076\n",
      "   macro avg       0.84      0.86      0.85    562076\n",
      "weighted avg       0.90      0.90      0.90    562076\n",
      "\n",
      "-------------------------------------------------------------------------------------------------\n",
      "\n",
      " Confusion Matrix :- \n",
      "[[411748  34581]\n",
      " [ 22383  93364]]\n"
     ]
    }
   ],
   "source": [
    "y_pred_xgboost_RUS = xgboost_model.predict(X_test)\n",
    "print(\"XGBoost Clasifier Train Accuracy : {} %\".format(xgboost_classifier_RUS.score(X_train_RUS, \n",
    "                                                                                           y_train_RUS)*100))\n",
    "print(\"\\nXGBoost Clasifier Test Accuracy : {} %\".format(sklearn.metrics.accuracy_score(y_test, \n",
    "                                                                                              y_pred_xgboost_RUS)*100))\n",
    "print(\"-------------------------------------------------------------------------------------------------\")\n",
    "print(\"\\nClassification Report : \\n {}\".format(sklearn.metrics.classification_report(y_test, \n",
    "                                                                                     y_pred_xgboost_RUS)))\n",
    "print(\"-------------------------------------------------------------------------------------------------\")\n",
    "print(\"\\n Confusion Matrix :- \\n{}\".format(sklearn.metrics.confusion_matrix(y_test, \n",
    "                                                                            y_pred_xgboost_RUS)))"
   ]
  },
  {
   "cell_type": "markdown",
   "metadata": {},
   "source": [
    " "
   ]
  },
  {
   "cell_type": "markdown",
   "metadata": {},
   "source": [
    "\n"
   ]
  },
  {
   "cell_type": "markdown",
   "metadata": {},
   "source": [
    " "
   ]
  },
  {
   "cell_type": "markdown",
   "metadata": {},
   "source": [
    " \n",
    " "
   ]
  },
  {
   "cell_type": "markdown",
   "metadata": {},
   "source": [
    "\n"
   ]
  }
 ],
 "metadata": {
  "kernelspec": {
   "display_name": "Python 3",
   "language": "python",
   "name": "python3"
  },
  "language_info": {
   "codemirror_mode": {
    "name": "ipython",
    "version": 3
   },
   "file_extension": ".py",
   "mimetype": "text/x-python",
   "name": "python",
   "nbconvert_exporter": "python",
   "pygments_lexer": "ipython3",
   "version": "3.7.6"
  }
 },
 "nbformat": 4,
 "nbformat_minor": 4
}
