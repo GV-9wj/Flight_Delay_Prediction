{
 "cells": [
  {
   "cell_type": "markdown",
   "metadata": {},
   "source": [
    "# Prediction in Minutes\n",
    "In this file we will look at a few regressors from Sklearn and how they help us predict the delay of the flight in minutes. \n",
    "\n",
    "#### Objectives\n",
    "1. Reading the file.\n",
    "2. Only looking at those data points where the flight was late.\n",
    "3. Splitting the dataset to train and test data.\n",
    "3. Fit a few models and look at a few metrics for our predicted values.\n",
    "\n",
    "The different Regressors we use in this file are\n",
    "1. Linear Regressor [LOOKUP](https://scikit-learn.org/stable/modules/generated/sklearn.linear_model.LinearRegression.html)\n",
    "2. Extra trees Regressor [LOOKUP](https://scikit-learn.org/stable/modules/generated/sklearn.ensemble.ExtraTreesRegressor.html)\n",
    "3. XGboost Regressor [LOOKUP](https://xgboost.readthedocs.io/en/latest/python/python_api.html)\n",
    "4. Random Forest Regressor [LOOKUP](https://scikit-learn.org/stable/modules/generated/sklearn.ensemble.RandomForestRegressor.html)\n",
    "\n",
    "#### Scope\n",
    "With knowing the flight delay in minutes we can try to move the schedule of the other flights and hence make sure subsequent flights are not delayed."
   ]
  },
  {
   "cell_type": "markdown",
   "metadata": {},
   "source": [
    "#### Reading the necessary Libraries"
   ]
  },
  {
   "cell_type": "code",
   "execution_count": 1,
   "metadata": {},
   "outputs": [],
   "source": [
    "import pandas as pd\n",
    "import numpy as np  "
   ]
  },
  {
   "cell_type": "code",
   "execution_count": 2,
   "metadata": {},
   "outputs": [
    {
     "name": "stderr",
     "output_type": "stream",
     "text": [
      "C:\\Users\\HP\\anaconda3\\lib\\site-packages\\numpy\\lib\\arraysetops.py:569: FutureWarning: elementwise comparison failed; returning scalar instead, but in the future will perform elementwise comparison\n",
      "  mask |= (ar1 == a)\n"
     ]
    },
    {
     "data": {
      "text/html": [
       "<div>\n",
       "<style scoped>\n",
       "    .dataframe tbody tr th:only-of-type {\n",
       "        vertical-align: middle;\n",
       "    }\n",
       "\n",
       "    .dataframe tbody tr th {\n",
       "        vertical-align: top;\n",
       "    }\n",
       "\n",
       "    .dataframe thead th {\n",
       "        text-align: right;\n",
       "    }\n",
       "</style>\n",
       "<table border=\"1\" class=\"dataframe\">\n",
       "  <thead>\n",
       "    <tr style=\"text-align: right;\">\n",
       "      <th></th>\n",
       "      <th>ArrDel15</th>\n",
       "      <th>ArrDelayMinutes</th>\n",
       "      <th>ArrTime</th>\n",
       "      <th>CRSArrTime</th>\n",
       "      <th>CRSDepTime</th>\n",
       "      <th>DayofMonth</th>\n",
       "      <th>DepDel15</th>\n",
       "      <th>DepDelayMinutes</th>\n",
       "      <th>DepTime</th>\n",
       "      <th>DestAirportID</th>\n",
       "      <th>...</th>\n",
       "      <th>pressure</th>\n",
       "      <th>cloudcover</th>\n",
       "      <th>DewPointF</th>\n",
       "      <th>WindGustKmph</th>\n",
       "      <th>tempF</th>\n",
       "      <th>WindChillF</th>\n",
       "      <th>humidity</th>\n",
       "      <th>time</th>\n",
       "      <th>date</th>\n",
       "      <th>airport</th>\n",
       "    </tr>\n",
       "  </thead>\n",
       "  <tbody>\n",
       "    <tr>\n",
       "      <th>0</th>\n",
       "      <td>0.0</td>\n",
       "      <td>8.0</td>\n",
       "      <td>1610.0</td>\n",
       "      <td>1602</td>\n",
       "      <td>745</td>\n",
       "      <td>1</td>\n",
       "      <td>0.0</td>\n",
       "      <td>0.0</td>\n",
       "      <td>741.0</td>\n",
       "      <td>12478</td>\n",
       "      <td>...</td>\n",
       "      <td>1030</td>\n",
       "      <td>0</td>\n",
       "      <td>23</td>\n",
       "      <td>8</td>\n",
       "      <td>34</td>\n",
       "      <td>29</td>\n",
       "      <td>65</td>\n",
       "      <td>800</td>\n",
       "      <td>2016-01-01</td>\n",
       "      <td>SEA</td>\n",
       "    </tr>\n",
       "    <tr>\n",
       "      <th>1</th>\n",
       "      <td>1.0</td>\n",
       "      <td>33.0</td>\n",
       "      <td>1237.0</td>\n",
       "      <td>1204</td>\n",
       "      <td>820</td>\n",
       "      <td>1</td>\n",
       "      <td>0.0</td>\n",
       "      <td>1.0</td>\n",
       "      <td>821.0</td>\n",
       "      <td>14107</td>\n",
       "      <td>...</td>\n",
       "      <td>1030</td>\n",
       "      <td>0</td>\n",
       "      <td>23</td>\n",
       "      <td>8</td>\n",
       "      <td>34</td>\n",
       "      <td>29</td>\n",
       "      <td>65</td>\n",
       "      <td>800</td>\n",
       "      <td>2016-01-01</td>\n",
       "      <td>SEA</td>\n",
       "    </tr>\n",
       "    <tr>\n",
       "      <th>2</th>\n",
       "      <td>0.0</td>\n",
       "      <td>0.0</td>\n",
       "      <td>1138.0</td>\n",
       "      <td>1143</td>\n",
       "      <td>759</td>\n",
       "      <td>1</td>\n",
       "      <td>0.0</td>\n",
       "      <td>0.0</td>\n",
       "      <td>754.0</td>\n",
       "      <td>11292</td>\n",
       "      <td>...</td>\n",
       "      <td>1030</td>\n",
       "      <td>0</td>\n",
       "      <td>23</td>\n",
       "      <td>8</td>\n",
       "      <td>34</td>\n",
       "      <td>29</td>\n",
       "      <td>65</td>\n",
       "      <td>800</td>\n",
       "      <td>2016-01-01</td>\n",
       "      <td>SEA</td>\n",
       "    </tr>\n",
       "    <tr>\n",
       "      <th>3</th>\n",
       "      <td>0.0</td>\n",
       "      <td>10.0</td>\n",
       "      <td>1401.0</td>\n",
       "      <td>1351</td>\n",
       "      <td>738</td>\n",
       "      <td>1</td>\n",
       "      <td>0.0</td>\n",
       "      <td>2.0</td>\n",
       "      <td>740.0</td>\n",
       "      <td>12266</td>\n",
       "      <td>...</td>\n",
       "      <td>1030</td>\n",
       "      <td>0</td>\n",
       "      <td>23</td>\n",
       "      <td>8</td>\n",
       "      <td>34</td>\n",
       "      <td>29</td>\n",
       "      <td>65</td>\n",
       "      <td>800</td>\n",
       "      <td>2016-01-01</td>\n",
       "      <td>SEA</td>\n",
       "    </tr>\n",
       "    <tr>\n",
       "      <th>4</th>\n",
       "      <td>0.0</td>\n",
       "      <td>0.0</td>\n",
       "      <td>1524.0</td>\n",
       "      <td>1527</td>\n",
       "      <td>745</td>\n",
       "      <td>1</td>\n",
       "      <td>0.0</td>\n",
       "      <td>0.0</td>\n",
       "      <td>742.0</td>\n",
       "      <td>10397</td>\n",
       "      <td>...</td>\n",
       "      <td>1030</td>\n",
       "      <td>0</td>\n",
       "      <td>23</td>\n",
       "      <td>8</td>\n",
       "      <td>34</td>\n",
       "      <td>29</td>\n",
       "      <td>65</td>\n",
       "      <td>800</td>\n",
       "      <td>2016-01-01</td>\n",
       "      <td>SEA</td>\n",
       "    </tr>\n",
       "  </tbody>\n",
       "</table>\n",
       "<p>5 rows × 33 columns</p>\n",
       "</div>"
      ],
      "text/plain": [
       "   ArrDel15  ArrDelayMinutes  ArrTime  CRSArrTime  CRSDepTime  DayofMonth  \\\n",
       "0       0.0              8.0   1610.0        1602         745           1   \n",
       "1       1.0             33.0   1237.0        1204         820           1   \n",
       "2       0.0              0.0   1138.0        1143         759           1   \n",
       "3       0.0             10.0   1401.0        1351         738           1   \n",
       "4       0.0              0.0   1524.0        1527         745           1   \n",
       "\n",
       "   DepDel15  DepDelayMinutes  DepTime  DestAirportID  ... pressure  \\\n",
       "0       0.0              0.0    741.0          12478  ...     1030   \n",
       "1       0.0              1.0    821.0          14107  ...     1030   \n",
       "2       0.0              0.0    754.0          11292  ...     1030   \n",
       "3       0.0              2.0    740.0          12266  ...     1030   \n",
       "4       0.0              0.0    742.0          10397  ...     1030   \n",
       "\n",
       "   cloudcover DewPointF  WindGustKmph  tempF  WindChillF  humidity  time  \\\n",
       "0           0        23             8     34          29        65   800   \n",
       "1           0        23             8     34          29        65   800   \n",
       "2           0        23             8     34          29        65   800   \n",
       "3           0        23             8     34          29        65   800   \n",
       "4           0        23             8     34          29        65   800   \n",
       "\n",
       "         date  airport  \n",
       "0  2016-01-01      SEA  \n",
       "1  2016-01-01      SEA  \n",
       "2  2016-01-01      SEA  \n",
       "3  2016-01-01      SEA  \n",
       "4  2016-01-01      SEA  \n",
       "\n",
       "[5 rows x 33 columns]"
      ]
     },
     "execution_count": 2,
     "metadata": {},
     "output_type": "execute_result"
    }
   ],
   "source": [
    "# Looking at the dataframe once\n",
    "df = pd.read_csv(\"Data/Merged_Flight_Weather.csv\", index_col = 0)\n",
    "df.head()"
   ]
  },
  {
   "cell_type": "code",
   "execution_count": 3,
   "metadata": {
    "scrolled": false
   },
   "outputs": [
    {
     "data": {
      "text/plain": [
       "ArrDel15           0\n",
       "ArrDelayMinutes    0\n",
       "ArrTime            0\n",
       "CRSArrTime         0\n",
       "CRSDepTime         0\n",
       "DayofMonth         0\n",
       "DepDel15           0\n",
       "DepDelayMinutes    0\n",
       "DepTime            0\n",
       "DestAirportID      0\n",
       "FlightDate         0\n",
       "Month              0\n",
       "Origin             0\n",
       "OriginAirportID    0\n",
       "Quarter            0\n",
       "Year               0\n",
       "DeptTime           0\n",
       "Unnamed: 0.1       0\n",
       "windspeedKmph      0\n",
       "winddirDegree      0\n",
       "weatherCode        0\n",
       "precipMM           0\n",
       "visibility         0\n",
       "pressure           0\n",
       "cloudcover         0\n",
       "DewPointF          0\n",
       "WindGustKmph       0\n",
       "tempF              0\n",
       "WindChillF         0\n",
       "humidity           0\n",
       "time               0\n",
       "date               0\n",
       "airport            0\n",
       "dtype: int64"
      ]
     },
     "execution_count": 3,
     "metadata": {},
     "output_type": "execute_result"
    }
   ],
   "source": [
    "# Checking if there are any missing values\n",
    "df.isnull().sum()"
   ]
  },
  {
   "cell_type": "code",
   "execution_count": 4,
   "metadata": {},
   "outputs": [],
   "source": [
    "# Now we are label encoding the \n",
    "df[\"Origin\"] = df[\"Origin\"].astype('category')\n",
    "df[\"airport\"] = df[\"airport\"].astype('category')\n",
    "df[\"Origin\"] = df[\"Origin\"].cat.codes\n",
    "df[\"airport\"] = df[\"airport\"].cat.codes"
   ]
  },
  {
   "cell_type": "markdown",
   "metadata": {},
   "source": [
    "#### Filtering the data\n",
    "We will only be looking at those flights which arrived late because it will be redundant to predict the delay in muntes for flights that have not arrived late."
   ]
  },
  {
   "cell_type": "code",
   "execution_count": 5,
   "metadata": {},
   "outputs": [],
   "source": [
    "# Looking at only those flights that arrived late\n",
    "X = df[df.ArrDel15 == 1.0]\n",
    "y = X['ArrDelayMinutes']\n",
    "X = X.drop(['ArrDelayMinutes','FlightDate','ArrTime','date','airport','time'], axis = 1)"
   ]
  },
  {
   "cell_type": "code",
   "execution_count": 6,
   "metadata": {},
   "outputs": [
    {
     "data": {
      "text/plain": [
       "Index(['ArrDel15', 'CRSArrTime', 'CRSDepTime', 'DayofMonth', 'DepDel15',\n",
       "       'DepDelayMinutes', 'DepTime', 'DestAirportID', 'Month', 'Origin',\n",
       "       'OriginAirportID', 'Quarter', 'Year', 'DeptTime', 'Unnamed: 0.1',\n",
       "       'windspeedKmph', 'winddirDegree', 'weatherCode', 'precipMM',\n",
       "       'visibility', 'pressure', 'cloudcover', 'DewPointF', 'WindGustKmph',\n",
       "       'tempF', 'WindChillF', 'humidity'],\n",
       "      dtype='object')"
      ]
     },
     "execution_count": 6,
     "metadata": {},
     "output_type": "execute_result"
    }
   ],
   "source": [
    "# Looking at the features\n",
    "X.columns"
   ]
  },
  {
   "cell_type": "code",
   "execution_count": 7,
   "metadata": {},
   "outputs": [],
   "source": [
    "# Splitting the data into train and test data\n",
    "from sklearn.model_selection import train_test_split  \n",
    "X_train, X_test, y_train, y_test = train_test_split(X, y, train_size = 0.80)"
   ]
  },
  {
   "cell_type": "code",
   "execution_count": 8,
   "metadata": {},
   "outputs": [
    {
     "data": {
      "text/plain": [
       "((308000, 27), (77000, 27), (308000,), (77000,))"
      ]
     },
     "execution_count": 8,
     "metadata": {},
     "output_type": "execute_result"
    }
   ],
   "source": [
    "X_train.shape, X_test.shape, y_train.shape, y_test.shape"
   ]
  },
  {
   "cell_type": "markdown",
   "metadata": {},
   "source": [
    "### Metrics used\n",
    "To evaluvate our model we will be looking at a few metrics, namely\n",
    "1. Mean Absolute Error  (MAE): Mean absolute error is a measure of errors between paired observations expressing the same phenomenon.\n",
    "\n",
    "2. Mean Squared Error(MSE): The mean squared error or mean squared deviation of an estimator measures the average of the squares of the errors—that is, the average squared difference between the estimated values and the actual value. MSE is a risk function, corresponding to the expected value of the squared error loss.\n",
    "\n",
    "3. Root Mean Squared Error (RMSE) : Essentially the root of MSE\n",
    "\n",
    "4. Coefficient of Determination ($ R^2 $): The coefficient of determination, denoted R² or r² and pronounced \"R squared\", is the proportion of the variance in the dependent variable that is predictable from the independent variable.\n",
    "    \n",
    "\n",
    "${MAE} = \\frac{1}{n}\\sum \\limits _{i=1} ^{n} |y_{i} - \\hat{y}| $\n",
    "\n",
    "${MSE} = \\frac{1}{N}\\sum \\limits _{i=1} ^{n} (y_{i} - \\hat{y})^2 $\n",
    "\n",
    "${RMSE} = \\sqrt{\\frac{1}{N}\\sum \\limits _{i=1} ^{n} (y_{i} - \\hat{y})^2} $\n",
    "\n",
    "${R^2} = \\frac{VAR(X, Y)_(fitted line)}{VAR(X, Y)mean}$"
   ]
  },
  {
   "cell_type": "markdown",
   "metadata": {},
   "source": [
    "  \n",
    "   \n",
    "   "
   ]
  },
  {
   "cell_type": "markdown",
   "metadata": {},
   "source": [
    "  \n",
    "   \n",
    "   "
   ]
  },
  {
   "cell_type": "markdown",
   "metadata": {},
   "source": [
    "  \n",
    "   \n",
    "   "
   ]
  },
  {
   "cell_type": "markdown",
   "metadata": {},
   "source": [
    "  \n",
    "   \n",
    "   "
   ]
  },
  {
   "cell_type": "markdown",
   "metadata": {},
   "source": [
    "  \n",
    "   \n",
    "   "
   ]
  },
  {
   "cell_type": "markdown",
   "metadata": {},
   "source": [
    "# Prediction"
   ]
  },
  {
   "cell_type": "markdown",
   "metadata": {},
   "source": [
    "## Linear Regression"
   ]
  },
  {
   "cell_type": "code",
   "execution_count": 9,
   "metadata": {},
   "outputs": [],
   "source": [
    "from sklearn.linear_model import LinearRegression\n",
    "linear_regressor = LinearRegression()\n",
    "linear_regressor.fit(X_train,y_train)\n",
    "y_pred_linear_regression = linear_regressor.predict(X_test)"
   ]
  },
  {
   "cell_type": "code",
   "execution_count": 10,
   "metadata": {},
   "outputs": [
    {
     "name": "stdout",
     "output_type": "stream",
     "text": [
      "MAE: 12.021289036296457\n",
      "MSE: 300.15399861065396\n",
      "RMSE: 17.324953062292952\n",
      "R-Squared: 0.9412113307019422\n"
     ]
    }
   ],
   "source": [
    "import sklearn.metrics as metrics\n",
    "mean_absolute_error=metrics.mean_absolute_error(y_test, y_pred_linear_regression) \n",
    "MSE=metrics.mean_squared_error(y_test, y_pred_linear_regression) \n",
    "RMSE= np.sqrt(MSE)\n",
    "R2=metrics.r2_score(y_test, y_pred_linear_regression)\n",
    "print(\"MAE: {}\".format(mean_absolute_error))\n",
    "print(\"MSE: {}\".format(MSE))\n",
    "print(\"RMSE: {}\".format(RMSE))\n",
    "print(\"R-Squared: {}\".format(R2))"
   ]
  },
  {
   "cell_type": "markdown",
   "metadata": {},
   "source": [
    "## Extra trees Regressor"
   ]
  },
  {
   "cell_type": "code",
   "execution_count": 11,
   "metadata": {},
   "outputs": [],
   "source": [
    "from sklearn.ensemble import ExtraTreesRegressor\n",
    "extra_trees_regressor = ExtraTreesRegressor()\n",
    "extra_trees_regressor.fit(X_train,y_train)\n",
    "y_pred_extra_trees = extra_trees_regressor.predict(X_test)"
   ]
  },
  {
   "cell_type": "code",
   "execution_count": 12,
   "metadata": {},
   "outputs": [
    {
     "name": "stdout",
     "output_type": "stream",
     "text": [
      "MAE: 2.3501311688311683\n",
      "MSE: 54.93284868311689\n",
      "RMSE: 7.411669763495732\n",
      "R-Squared: 0.9892407594442176\n"
     ]
    }
   ],
   "source": [
    "mean_absolute_error=metrics.mean_absolute_error(y_test, y_pred_extra_trees) \n",
    "MSE=metrics.mean_squared_error(y_test, y_pred_extra_trees) \n",
    "RMSE= np.sqrt(MSE)\n",
    "R2=metrics.r2_score(y_test, y_pred_extra_trees)\n",
    "print(\"MAE: {}\".format(mean_absolute_error))\n",
    "print(\"MSE: {}\".format(MSE))\n",
    "print(\"RMSE: {}\".format(RMSE))\n",
    "print(\"R-Squared: {}\".format(R2))"
   ]
  },
  {
   "cell_type": "markdown",
   "metadata": {},
   "source": [
    "## XGboost Regressor"
   ]
  },
  {
   "cell_type": "code",
   "execution_count": 13,
   "metadata": {},
   "outputs": [],
   "source": [
    "from xgboost import XGBRegressor\n",
    "xgboost_regressor = XGBRegressor()\n",
    "xgboost_regressor.fit(X_train,y_train)\n",
    "y_pred_xgboost = xgboost_regressor.predict(X_test)"
   ]
  },
  {
   "cell_type": "code",
   "execution_count": 14,
   "metadata": {},
   "outputs": [
    {
     "name": "stdout",
     "output_type": "stream",
     "text": [
      "MAE: 10.635369193300024\n",
      "MSE: 234.87361550124666\n",
      "RMSE: 15.325586954542612\n",
      "R-Squared: 0.9539972568333066\n"
     ]
    }
   ],
   "source": [
    "mean_absolute_error=metrics.mean_absolute_error(y_test, y_pred_xgboost) \n",
    "MSE=metrics.mean_squared_error(y_test, y_pred_xgboost) \n",
    "RMSE= np.sqrt(MSE)\n",
    "R2=metrics.r2_score(y_test, y_pred_xgboost)\n",
    "print(\"MAE: {}\".format(mean_absolute_error))\n",
    "print(\"MSE: {}\".format(MSE))\n",
    "print(\"RMSE: {}\".format(RMSE))\n",
    "print(\"R-Squared: {}\".format(R2))"
   ]
  },
  {
   "cell_type": "markdown",
   "metadata": {},
   "source": [
    "## Random forest Regressor"
   ]
  },
  {
   "cell_type": "code",
   "execution_count": 15,
   "metadata": {},
   "outputs": [],
   "source": [
    "from sklearn.ensemble import RandomForestRegressor\n",
    "random_forest_regressor = RandomForestRegressor()\n",
    "random_forest_regressor.fit(X_train,y_train)\n",
    "y_pred_random_forest = random_forest_regressor.predict(X_test)"
   ]
  },
  {
   "cell_type": "code",
   "execution_count": 16,
   "metadata": {},
   "outputs": [
    {
     "name": "stdout",
     "output_type": "stream",
     "text": [
      "MAE: 5.785841038961038\n",
      "MSE: 85.27390864415585\n",
      "RMSE: 9.234387291215148\n",
      "R-Squared: 0.9832981081770066\n"
     ]
    }
   ],
   "source": [
    "mean_absolute_error=metrics.mean_absolute_error(y_test, y_pred_random_forest) \n",
    "MSE=metrics.mean_squared_error(y_test, y_pred_random_forest) \n",
    "RMSE= np.sqrt(MSE)\n",
    "R2=metrics.r2_score(y_test, y_pred_random_forest)\n",
    "print(\"MAE: {}\".format(mean_absolute_error))\n",
    "print(\"MSE: {}\".format(MSE))\n",
    "print(\"RMSE: {}\".format(RMSE))\n",
    "print(\"R-Squared: {}\".format(R2))"
   ]
  }
 ],
 "metadata": {
  "kernelspec": {
   "display_name": "Python 3",
   "language": "python",
   "name": "python3"
  },
  "language_info": {
   "codemirror_mode": {
    "name": "ipython",
    "version": 3
   },
   "file_extension": ".py",
   "mimetype": "text/x-python",
   "name": "python",
   "nbconvert_exporter": "python",
   "pygments_lexer": "ipython3",
   "version": "3.7.6"
  }
 },
 "nbformat": 4,
 "nbformat_minor": 4
}
